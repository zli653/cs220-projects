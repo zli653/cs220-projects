{
 "cells": [
  {
   "cell_type": "markdown",
   "metadata": {},
   "source": [
    "# FINAL PROJECT: CS220 Spring 2020\n",
    "## This is an individual exam. Do not work with a partner! Only change \"submitter\" netid information. Good luck.\n",
    "- For majority of the questions you need to replace \"# Write your code here\" comment with your own code.\n",
    "- There are 27 questions, each of which will be weighted 0.55 points.\n",
    "- Unlike projects, you will receive partial credit for a question as long as your code runs and produces an output for each question.\n",
    "- Unlike projects, you do not have access to \"test.py\". Instead, you can use \"type_test.py\". This file does not check if your answers are correct, but it checks if your answers are in the correct format.\n",
    "- \"test.py\" will run \"lint.py\" and deduct points for linting errors. You will lose 0.1 points for each linting error. You will only lose points for warnings, not convention messages (just like in P10). type_test.py does not run the linter, so check with lint.py before turning your work in. For more information about the linter as well as how to run the full linter to see all of the automatically generated advice and feedback, please check out the linting README: https://github.com/msyamkumar/cs220-projects/tree/master/linter.\n",
    "- General hint: if you see a lot of hints / write up before a question, it is likely to be difficult question."
   ]
  },
  {
   "cell_type": "code",
   "execution_count": null,
   "metadata": {},
   "outputs": [],
   "source": [
    "# project: final\n",
    "# submitter: NETID1\n",
    "# partner: none"
   ]
  },
  {
   "cell_type": "code",
   "execution_count": null,
   "metadata": {},
   "outputs": [],
   "source": [
    "# Recommended to use this cell to add import statements\n",
    "import os\n",
    "from collections import namedtuple\n"
   ]
  },
  {
   "cell_type": "code",
   "execution_count": 3,
   "metadata": {},
   "outputs": [
    {
     "data": {
      "text/html": [
       "<style>em { color: red; }</style> <style>.container { width:100% !important; }</style>"
      ],
      "text/plain": [
       "<IPython.core.display.HTML object>"
      ]
     },
     "metadata": {},
     "output_type": "display_data"
    }
   ],
   "source": [
    "# Just run this cell (it's just to make certain text red, but you don't need to understand it).\n",
    "from IPython.core.display import display, HTML\n",
    "display(HTML('<style>em { color: red; }</style> <style>.container { width:100% !important; }</style>'))"
   ]
  },
  {
   "cell_type": "markdown",
   "metadata": {},
   "source": [
    "## Questions q1 to q10 address topics covered by projects P2 to P4."
   ]
  },
  {
   "cell_type": "markdown",
   "metadata": {},
   "source": [
    "### Question 1: Is *map_dummy* an *iterable* data structure? \n",
    "- Complete the below code to demonstrate this. \n",
    "- Your cell should only output either *True* or *False*. \n",
    "- You *should not hardcode* the answer to this question.\n",
    "- Hint: recall how to do nothing in Python."
   ]
  },
  {
   "cell_type": "code",
   "execution_count": null,
   "metadata": {},
   "outputs": [],
   "source": [
    "#q1: Is map_dummy an iterable data structure? True or False\n",
    "\n",
    "map_dummy = map(str, [4,2,1.0])\n",
    "try:\n",
    "    # Write your code here\n",
    "    result = True\n",
    "except:\n",
    "    result = False\n",
    "result"
   ]
  },
  {
   "cell_type": "markdown",
   "metadata": {},
   "source": [
    "### Question 2: Can we use a *list* as a *key in a dictionary*?\n",
    "- Complete the below code to demonstrate this. \n",
    "- Your cell should only output either *True* or *False*. \n",
    "- You *should not hardcode* the answer to this question."
   ]
  },
  {
   "cell_type": "code",
   "execution_count": null,
   "metadata": {},
   "outputs": [],
   "source": [
    "#q2: Can we use a list as a key in a dictionary? True or False\n",
    "\n",
    "try:\n",
    "    # Write your code here\n",
    "    result = True\n",
    "except:\n",
    "    result = False\n",
    "result"
   ]
  },
  {
   "cell_type": "markdown",
   "metadata": {},
   "source": [
    "### Question 3: Complete *falsify* function such that if *bool_list* contains one or more occurences of \"False\", returned value is False. Otherwise returned value is True. \n",
    "- You may add multiple lines of code inside the Falsify function.\n",
    "- Your code must work with a list of any length!\n",
    "- Your cell should only output a list containing two boolean values."
   ]
  },
  {
   "cell_type": "code",
   "execution_count": null,
   "metadata": {},
   "outputs": [],
   "source": [
    "#q3: Complete *Falsify* function such that if *bool_list* contains one or more occurences \n",
    "#of \"False\", returned value is False. Otherwise returned value is True. \n",
    "\n",
    "def falsify(bool_list):\n",
    "    pass\n",
    "    # Write your code here\n",
    "\n",
    "# Test 1\n",
    "test_list = [\"True\", \"True\", \"False\", \"True\"]\n",
    "test_1 = falsify(test_list)\n",
    "\n",
    "# Test 2\n",
    "test_list = [\"True\", \"True\", \"Apple\", \"True\"]\n",
    "test_2 = falsify(test_list)\n",
    "[test_1, test_2]"
   ]
  },
  {
   "cell_type": "markdown",
   "metadata": {},
   "source": [
    "### Use the following *data structure* to answer the next two questions *q4* and *q5*."
   ]
  },
  {
   "cell_type": "code",
   "execution_count": null,
   "metadata": {},
   "outputs": [],
   "source": [
    "Student = namedtuple(\"Student\", [\"name\", \"id\"])\n",
    "data_struct = {\n",
    "    \"cs\": [Student(\"John\", \"netID123\"), Student(\"Martha\", \"netID123\")],\n",
    "    \"econ\": [Student(\"John\", \"netID5678_econ\"), Student(\"Peter\", \"netID5679_econ\")]\n",
    "}"
   ]
  },
  {
   "cell_type": "markdown",
   "metadata": {},
   "source": [
    "### Question 4: What is the *ID* for *John from Economics*?\n",
    "- Your cell should only output the ID."
   ]
  },
  {
   "cell_type": "code",
   "execution_count": null,
   "metadata": {},
   "outputs": [],
   "source": [
    "#q4: What is the ID for John from Economics?\n",
    "\n"
   ]
  },
  {
   "cell_type": "markdown",
   "metadata": {},
   "source": [
    "### Question 5: List the *names* of all students in *CS*.\n",
    "- Your answer should be in the form of a list."
   ]
  },
  {
   "cell_type": "code",
   "execution_count": null,
   "metadata": {},
   "outputs": [],
   "source": [
    "#q5: List the names of all students in CS.\n",
    "\n"
   ]
  },
  {
   "cell_type": "markdown",
   "metadata": {},
   "source": [
    "### Question 6:  Use *list slicing* to right rotate list [1,2,3,4] by three places.\n",
    "- Hint: When you rotate a list like [1,2,3,4] right by one place, you get [4,1,2,3].\n",
    "- Your answer should be in the form of a list."
   ]
  },
  {
   "cell_type": "code",
   "execution_count": null,
   "metadata": {},
   "outputs": [],
   "source": [
    "#q6: Use list slicing to right rotate list [1,2,3,4] by three places\n",
    "\n",
    "original_list = [1,2,3,4]"
   ]
  },
  {
   "cell_type": "markdown",
   "metadata": {},
   "source": [
    "## Analysing cereal.csv dataset (q7 to q14)\n",
    "### Write a function that *reads* in the *cereal.csv* file and stores the data as a variable. \n",
    "- Make sure to write a generic function that takes csv file as input and returns the data (for reusability)\n",
    "- Download \"cereal.csv\" to the same local directory.\n",
    "- *Do not use any additional path* to your data file - this will *mess up grading*!\n",
    "- We will be using this variable through the next set of questions (q7 to q15)."
   ]
  },
  {
   "cell_type": "code",
   "execution_count": null,
   "metadata": {},
   "outputs": [],
   "source": [
    "# Function to read csv file\n"
   ]
  },
  {
   "cell_type": "markdown",
   "metadata": {},
   "source": [
    "### Question 7: What is the *carbohydrate content* in the cereal named \"*Cheerios*\"? \n",
    "- Recall that you shouldn't hardcode the index for looking up a particular column's value.\n",
    "- Follow the index lookup for all further questions.\n",
    "- You should make sure to look up the index of the column using the csv header first.\n",
    "- Your cell should output a float."
   ]
  },
  {
   "cell_type": "code",
   "execution_count": null,
   "metadata": {},
   "outputs": [],
   "source": [
    "#q7: What is the carbohydrate content in the cereal named \"Cheerios\"?\n"
   ]
  },
  {
   "cell_type": "markdown",
   "metadata": {},
   "source": [
    "### Question 8: What is the *cereal* with the *highest rating*?\n",
    "- Report your answer as a dictionary.\n",
    "- *key* as the *cereal name* and *value* as the *numerical rating*."
   ]
  },
  {
   "cell_type": "code",
   "execution_count": null,
   "metadata": {},
   "outputs": [],
   "source": [
    "#q8: What is the cereal with the highest rating?\n"
   ]
  },
  {
   "cell_type": "markdown",
   "metadata": {},
   "source": [
    "### Question 9: Write *a function* that computes the *mininum, maximum, and average* for a given numerical column of the cereal data and returns these data as a dictionary. Report the basic statistics for the *fat* column.\n",
    "- Example output: \n",
    "```result = {\"min\": 0.1, \"max\":5.2, \"mean\": 2.2}\n",
    "```"
   ]
  },
  {
   "cell_type": "code",
   "execution_count": null,
   "metadata": {},
   "outputs": [],
   "source": [
    "#q9: Write a function that computes the mininum, maximum, and average for a given \n",
    "# numerical column of the cereal data and returns these data as a dictionary.\n",
    "# Report the basic statistics for the fat column.\n",
    "\n",
    "def find_stats(col_name):\n",
    "    pass\n",
    "    #write your code here\n",
    "\n",
    "result = find_stats('fat')\n",
    "result"
   ]
  },
  {
   "cell_type": "markdown",
   "metadata": {},
   "source": [
    "### Question 10: Find the *difference* between the *average sugar content* of all cereals that are rated below 30 and the ones above 50.\n",
    "- Your cell should output a float value."
   ]
  },
  {
   "cell_type": "code",
   "execution_count": null,
   "metadata": {},
   "outputs": [],
   "source": [
    "#q10: Find the difference between the average sugar content of all cereals \n",
    "# that are rated below 30 \n",
    "# and the ones above 50\n",
    "\n",
    "avg_sugar_below_30 = 0 \n",
    "avg_sugar_above_50 = 0\n",
    "\n",
    "# Write your code here\n",
    "\n",
    "avg_sugar_below_30 - avg_sugar_above_50 # don't change this line"
   ]
  },
  {
   "cell_type": "markdown",
   "metadata": {},
   "source": [
    "## Questions q11 to q14 address topics covered by projects P5 and P6."
   ]
  },
  {
   "cell_type": "markdown",
   "metadata": {},
   "source": [
    "### Question 11: How many products are in the cereal dataset?\n",
    "- Your cell should output an int."
   ]
  },
  {
   "cell_type": "code",
   "execution_count": null,
   "metadata": {},
   "outputs": [],
   "source": [
    "#q11: How many products are in the cereal dataset?\n"
   ]
  },
  {
   "cell_type": "markdown",
   "metadata": {},
   "source": [
    "### Question 12: What is the *product name* in the cereal data that has the *third highest rating*?\n",
    "- Hints:\n",
    "   - You need need to re-order your cereal data by ratings.\n",
    "   - Recall that the typical function you use for re-ordering has a parameter called *key*, which enables you to write a getter function for lookup of specific column value.\n",
    "- Your cell should output str value."
   ]
  },
  {
   "cell_type": "code",
   "execution_count": null,
   "metadata": {},
   "outputs": [],
   "source": [
    "#q12: What is the product name in the cereal data that has the third highest rating?\n"
   ]
  },
  {
   "cell_type": "markdown",
   "metadata": {},
   "source": [
    "### Question 13: What are *product names* that meet the following criteria:\n",
    "1. *2 ≤ fat ≤ 5*\n",
    "2. *rating ≥ 30*\n",
    "3. *100 ≤ sodium ≤ 200*\n",
    "- Your answer should be a list with the items names (str) sorted in lexicographical order."
   ]
  },
  {
   "cell_type": "code",
   "execution_count": null,
   "metadata": {},
   "outputs": [],
   "source": [
    "#q13: What are product names that meet the following criteria:\n",
    "   # 2 ≤ fat ≤ 5\n",
    "   # rating ≥ 30\n",
    "   # 100 ≤ sodium ≤ 200\n"
   ]
  },
  {
   "cell_type": "markdown",
   "metadata": {},
   "source": [
    "### Question 14: Write a function *find_word(keyword)* that returns a list of product names that have *keyword* in the product name.\n",
    "- Keyword match:\n",
    "  - should be *case insensitive*\n",
    "  - should be *complete match (not a substring match)*, with the exception of \"'\" and \"-\" (see below example for details)\n",
    "  - apply split(...) method for handling / eliminating \"-\" and \"'\" from the comparsion\n",
    "  - Hint: this question is all about extracting individual words from the product name and iterating over those words. It is likely that you will need nested loops.\n",
    "- *Order the list* with the highest rated cereal first and the lowest rated cereal last:\n",
    "  - Hint: you already did something similar for #q12. Reuse the same getter function here.\n",
    "- The match result should not consider substring match:\n",
    "  - Let's say keyword is \"Apple\", and product names are [\"Apple pie\", \"Apple's seed\", \"Applewatch\", \"apple-pay\", \"apples\"].\n",
    "  - In this example only \"Apple pie\", \"Apple's seed\", and \"apple-pay\" matches with keyword. \n",
    "  - \"Applewatch\" and \"apples\" are NOT qualified since there are additional letters concatenated to the keyword."
   ]
  },
  {
   "cell_type": "code",
   "execution_count": 2,
   "metadata": {},
   "outputs": [],
   "source": [
    "# q14: Write a function find_word(keyword) that returns a list of product names that have \n",
    "# keyword in the product name.\n",
    "\n",
    "def find_word(keyword):\n",
    "    pass\n",
    "    # write your code here\n",
    "\n",
    "# After creating the function, what is the result of find_word(\"Wheat\")?\n",
    "find_word(\"Wheat\")"
   ]
  },
  {
   "cell_type": "markdown",
   "metadata": {},
   "source": [
    "## Analysing player_data.csv dataset (q15 to q18)\n",
    "## Questions q15 to q18 address topics covered by project P7.\n",
    "\n",
    "### Read *player_data.csv* using the csv reading function that you already wrote.\n",
    "- Download the NBA players dataset \"player_data.csv\" to the same local directory.\n",
    "- *Do not use any additional path* to your data file - this will *mess up grading*!\n",
    "- We will be using this variable through the next set of questions (q15 to q18).\n",
    "- For all the questions you should *skip all players who have some entries in the column are missing* (i.e., some entry is just the empty string).\n",
    "- Consider writing a *cell* function to convert appropriate columns into their correct data type!"
   ]
  },
  {
   "cell_type": "markdown",
   "metadata": {},
   "source": [
    "### Question 15 : How many *complete players* in the dataset? \n",
    "- Reminder: skip all players who have some entries in the column are missing.\n",
    "- Hint: answer should be lower than 4550!\n",
    "- Your cell should output an int."
   ]
  },
  {
   "cell_type": "code",
   "execution_count": null,
   "metadata": {},
   "outputs": [],
   "source": [
    "# q15: How many complete players in the dataset? skip all players who have some entries \n",
    "# in the column are missing. i.e. one or more of the entries is the empty string.\n",
    "\n"
   ]
  },
  {
   "cell_type": "markdown",
   "metadata": {},
   "source": [
    "### Question 16: What are the *stats* for the player whose name is \"*Michael Jordan*\"?\n",
    "- Answer in the form of a dict. \n",
    "- See the example below:\n",
    "```example = {'name': 'Alaa Abdelnaby',\n",
    " 'year_start': 1991,\n",
    " 'year_end': 1995,\n",
    " 'position': 'F-C',\n",
    " 'height': '6-10',\n",
    " 'weight': 240,\n",
    " 'birth_date': 'June 24, 1968',\n",
    " 'college': 'Duke University'}```"
   ]
  },
  {
   "cell_type": "code",
   "execution_count": null,
   "metadata": {},
   "outputs": [],
   "source": [
    "#q16: What are the stats for the player whose name is \"Michael Jordan\"?\n",
    "\n"
   ]
  },
  {
   "cell_type": "markdown",
   "metadata": {},
   "source": [
    "### Question 17: What are the *stats* for the *players* whose college is *\"University of Wisconsin\"*?\n",
    "- Your output should be a list of dictionaries. \n",
    "- Each dictionary should be similar to the example in the previous question.\n",
    "- Hint: consider writing a bucketize function."
   ]
  },
  {
   "cell_type": "code",
   "execution_count": null,
   "metadata": {},
   "outputs": [],
   "source": [
    "#q17: What are the stats for the players whose college is \"University of Wisconsin\"\n",
    "\n"
   ]
  },
  {
   "cell_type": "markdown",
   "metadata": {},
   "source": [
    "### Question 18: What is the average *weight* for each *position*?\n",
    "- Answer with a dictionary, mapping the key \"position\" to the value \"average weight\" (float type).\n",
    "- Average is the same as mean."
   ]
  },
  {
   "cell_type": "code",
   "execution_count": null,
   "metadata": {},
   "outputs": [],
   "source": [
    "#q18: What is the average \"weight\" for each \"position\"?\n",
    "\n"
   ]
  },
  {
   "cell_type": "markdown",
   "metadata": {},
   "source": [
    "## Analysing netflix_titles.html (to be converted to Python data structure) dataset (q19 to q21)\n",
    "## Question q19 addresses topics covered by project P10.\n",
    "\n",
    "### Question 19: Download and parse netflix_titles.html and write the data into a list-of-lists or list-of-dictionaries\n",
    "- This dataset *should not be manually* downloaded!\n",
    "- To download this html file, complete the below download function (this part is from project P10).\n",
    "- Next step is to parse the html data to store it in a data structure, either list-of-lists or list-of-dictionaries.\n",
    "- You need to use BeautifulSoup functions find() and find_all().\n",
    "- Recall that *table* tag contains *tr* tags for rows.\n",
    "- Recall that *tr* tags contain *td* tags for the actual data.\n",
    "- Recall that you can extract *text* from any tag.\n",
    "- The headers for this dataset are the following:\n",
    "```\n",
    "['show_id',\n",
    " 'type',\n",
    " 'title',\n",
    " 'director',\n",
    " 'cast',\n",
    " 'country',\n",
    " 'date_added',\n",
    " 'release_year',\n",
    " 'rating',\n",
    " 'duration',\n",
    " 'listed_in',\n",
    " 'description']\n",
    "```\n",
    "- This cell should output the following after successful parsing:\n",
    "```\n",
    "['Norm of the North: King Sized Adventure',\n",
    " 'Jandino: Whatever it Takes',\n",
    " 'Transformers Prime']\n",
    "```"
   ]
  },
  {
   "cell_type": "code",
   "execution_count": null,
   "metadata": {},
   "outputs": [],
   "source": [
    "#q19: Download and parse netflix_titles.html.\n",
    "#Follow the detailed steps given in the below function outline.\n",
    "\n",
    "# Complete the missing parts in the below download function\n",
    "\n",
    "def download(filename, url):\n",
    "    # We do not download again if the file already exists\n",
    "    if os.path.exists(filename):\n",
    "        return (str(filename) + \" already exists!\")\n",
    "\n",
    "    # Write your code here\n",
    "    # Download the file from URL and save it in `filename`\n",
    "\n",
    "    return (str(filename) + \" created!\")\n",
    "\n",
    "#Do not change this line\n",
    "download(\"netflix_titles.html\", \\\n",
    "         \"https://raw.githubusercontent.com/msyamkumar/cs220-projects/master/spring20/final/netflix_titles.html\")\n",
    "\n",
    "def parse_html_contents(html_file):\n",
    "    #To store the parsed data\n",
    "    netflix_data = []\n",
    "    \n",
    "    # Open and read the html file\n",
    "    # Write your code here\n",
    "    \n",
    "    # Create a BeautifulSoup type\n",
    "    # Write your code here\n",
    "    \n",
    "    # Find the dataset table\n",
    "    # Write your code here\n",
    "    \n",
    "    # Find the rows in the table. Hint: separate your header versus data processing here.\n",
    "    # Write your code here\n",
    "    \n",
    "    # Find data for header row: you can generate a list of str here (see above output for reference)\n",
    "    # Write your code here\n",
    "    \n",
    "    # Find data for the remaining rows:\n",
    "    # To store this dataset, choose between list-of-lists or list-of-dictionaries\n",
    "    # Write your code here\n",
    "    \n",
    "    return netflix_data \n",
    "    # If you want to return header data also, change the above line to something like this:\n",
    "    # return netflix_header, netflix_data\n",
    "    \n",
    "netflix_data = parse_html_contents(\"netflix_titles.html\") #Do not change these lines\n",
    "top_3_titles = []\n",
    "for row in netflix_data[:3]:\n",
    "    # Retrieve top 3 titles from your data structure (see above output for reference)\n",
    "    # Write your code here\n",
    "    pass\n",
    "top_3_titles"
   ]
  },
  {
   "cell_type": "markdown",
   "metadata": {},
   "source": [
    "## Questions q20 to q21 address topics covered by project P8.\n",
    "### Question 20: List the *first 10* TV shows' *titles* in the dataset.\n",
    "- There are different types of Netflix videos in this dataset, such as TV shows and movies. \n",
    "- This question asks you to list *only* first 10 *TV shows*.\n",
    "- Your cell should output a list."
   ]
  },
  {
   "cell_type": "code",
   "execution_count": null,
   "metadata": {},
   "outputs": [],
   "source": [
    "# q20: List the first 10 TV shows' titles in the dataset.\n"
   ]
  },
  {
   "cell_type": "markdown",
   "metadata": {},
   "source": [
    "### Question 21: How many *movies* released *after 2015 (inclusive)* are in this dataset?\n",
    "- This question asks you to consider *only movies*.\n",
    "- Your cell should output an int."
   ]
  },
  {
   "cell_type": "code",
   "execution_count": null,
   "metadata": {},
   "outputs": [],
   "source": [
    "# q21: How many movies released after 2015 (inclusive) are in this dataset?\n"
   ]
  },
  {
   "cell_type": "markdown",
   "metadata": {},
   "source": [
    "## Analysing the movies data in the data folder (q22, q23).\n",
    "## Questions q22, q23 address topics covered by project P9.\n",
    "\n",
    "- The data folder consists of two things\n",
    "  1. movies.csv, which consists of the movie_id, title, and genres corresponding to the movie. \n",
    "  2. The users directory inside the data folder consists of the ratings given by 10 users in files named from 1.json to 10.json.\n",
    "     - The first attribute in the file refers to the movie_id, and second attribute refers to the rating given by that user to that movie. "
   ]
  },
  {
   "cell_type": "markdown",
   "metadata": {},
   "source": [
    "### Question 22: What is the *average rating* for the movie with id *34*?\n",
    "- Combine all the json files in the users directory inside the data directory and calculate the average rating for the movie ids present in these files.\n",
    "- Remember a particular movie_id can be part of multiple files!\n",
    "- You can read the json files one by one and add the entries to a dictionary:\n",
    "  - with the key as the movie_id (in integer format) and as the value you can maintan a list of ratings \n",
    "  - each rating value stored as a float\n",
    "- You can now iterate over the created dictionary and calculate the average rating corresponding to each movie_id\n",
    "- Your cell should output a float"
   ]
  },
  {
   "cell_type": "code",
   "execution_count": null,
   "metadata": {},
   "outputs": [],
   "source": [
    "#q22: What is the average rating for the movie with id 34?\n",
    "\n"
   ]
  },
  {
   "cell_type": "markdown",
   "metadata": {},
   "source": [
    "### Question 23: What is the *minimum rating* for the movie *Batman (1989)*?\n",
    "- You can find the names of the movies in the CSV file.\n",
    "- Make sure to use *os.path.join* while opening the file and do not hardcode the slashes!\n",
    "- You have to combine the data from the CSV file with the data from the JSON files.\n",
    "- Your cell should output a float"
   ]
  },
  {
   "cell_type": "code",
   "execution_count": null,
   "metadata": {},
   "outputs": [],
   "source": [
    "#q23: What is the *minimum rating* for the movie *Batman (1989)*?\n",
    "\n"
   ]
  },
  {
   "cell_type": "markdown",
   "metadata": {},
   "source": [
    "## Analysing countries.db - same dataset as P10 (q24 to q27).\n",
    "## Questions q24 to q27 address topics covered by project P10.\n",
    "- Create a sqlite connection to this database.\n",
    "- You can use either SQL querries or Pandas statements to answer the following questions."
   ]
  },
  {
   "cell_type": "markdown",
   "metadata": {},
   "source": [
    "### Question 24: What is the *capital* of *Namibia*?\n",
    "- Answer as a python string"
   ]
  },
  {
   "cell_type": "code",
   "execution_count": null,
   "metadata": {},
   "outputs": [],
   "source": [
    "#q24: What is the capital of Namibia?\n",
    "\n"
   ]
  },
  {
   "cell_type": "markdown",
   "metadata": {},
   "source": [
    "### Question 25: What is the *population* of *each continent*?\n",
    "- Answer as a Pandas Dataframe, sorted by population from highest to lowest. \n",
    "- The image in the cell below shows the first two lines of the resulting DataFrame."
   ]
  },
  {
   "cell_type": "code",
   "execution_count": null,
   "metadata": {},
   "outputs": [],
   "source": [
    "#q25 What is the population of each continent?\n",
    "\n"
   ]
  },
  {
   "cell_type": "markdown",
   "metadata": {},
   "source": [
    "<img population_of_continent.png>"
   ]
  },
  {
   "cell_type": "markdown",
   "metadata": {},
   "source": [
    "<img src=\"population_of_continent.png\">"
   ]
  },
  {
   "cell_type": "markdown",
   "metadata": {},
   "source": [
    "### Question 26: *Plot the total population* of each continent.\n",
    "- Prepare a bar plot. \n",
    "- Put continents on the x-axis and total area on the y-axis. \n",
    "- The continents should be sorted along the x-axis alphabetically."
   ]
  },
  {
   "cell_type": "code",
   "execution_count": null,
   "metadata": {},
   "outputs": [],
   "source": [
    "# q26 Plot the total population of each continent? \n",
    "\n"
   ]
  },
  {
   "cell_type": "markdown",
   "metadata": {},
   "source": [
    "### Question 27: What is the *population density (population / area)* of all the *top 7* most dense *countries in Europe*?\n",
    "- Report these as a Pandas DataFrame sorted in decreasing order of population density. \n",
    "- The image below shows the first 3."
   ]
  },
  {
   "cell_type": "code",
   "execution_count": null,
   "metadata": {},
   "outputs": [],
   "source": [
    "#q27 What is the population density (population / area) of all the top 7 most \n",
    "# dense countries in Europe. \n",
    "\n"
   ]
  },
  {
   "cell_type": "markdown",
   "metadata": {},
   "source": [
    "<img src=\"population_density.png\">"
   ]
  },
  {
   "cell_type": "code",
   "execution_count": null,
   "metadata": {},
   "outputs": [],
   "source": [
    "# Close the connection to the database\n",
    "# Write your code here\n"
   ]
  },
  {
   "cell_type": "markdown",
   "metadata": {},
   "source": [
    "### Congratulations, you are all done with work for CS220 course :) Mike and Meena wish you the best of luck for a bright future."
   ]
  }
 ],
 "metadata": {
  "kernelspec": {
   "display_name": "Python 3",
   "language": "python",
   "name": "python3"
  },
  "language_info": {
   "codemirror_mode": {
    "name": "ipython",
    "version": 3
   },
   "file_extension": ".py",
   "mimetype": "text/x-python",
   "name": "python",
   "nbconvert_exporter": "python",
   "pygments_lexer": "ipython3",
   "version": "3.7.3"
  }
 },
 "nbformat": 4,
 "nbformat_minor": 2
}
