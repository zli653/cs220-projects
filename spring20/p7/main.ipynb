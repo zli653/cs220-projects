{
 "cells": [
  {
   "cell_type": "code",
   "execution_count": 1,
   "metadata": {},
   "outputs": [],
   "source": [
    "import csv\n",
    "\n",
    "# copied from https://automatetheboringstuff.com/chapter14/\n",
    "def process_csv(filename):\n",
    "    exampleFile = open(filename, encoding=\"utf-8\")\n",
    "    exampleReader = csv.reader(exampleFile)\n",
    "    exampleData = list(exampleReader)\n",
    "    exampleFile.close()\n",
    "    return exampleData\n",
    "\n",
    "import json\n",
    "def read_json(path):\n",
    "    with open(path, encoding=\"utf-8\") as f:\n",
    "        return json.load(f) # dict, list, etc\n",
    "    \n",
    "# data is a dict, list, etc\n",
    "def write_json(path, data):\n",
    "    with open(path, 'w', encoding=\"utf-8\") as f:\n",
    "        json.dump(data, f, indent=2)"
   ]
  },
  {
   "cell_type": "code",
   "execution_count": 2,
   "metadata": {},
   "outputs": [
    {
     "name": "stdout",
     "output_type": "stream",
     "text": [
      "['ID', 'Name', 'Age', 'Nationality', 'Overall', 'Club', 'Position', 'Value', 'Wage', 'Preferred Foot', 'Jersey Number', 'Height', 'Weight']\n"
     ]
    }
   ],
   "source": [
    "player_data = process_csv('Fifa20.csv')\n",
    "header = player_data[0]\n",
    "player_data = player_data[1:]\n",
    "for row in player_data:\n",
    "    for idx in [2, 4]:\n",
    "        row[idx] = int(row[idx])\n",
    "        \n",
    "print(header)      "
   ]
  },
  {
   "cell_type": "code",
   "execution_count": 3,
   "metadata": {},
   "outputs": [
    {
     "data": {
      "text/plain": [
       "'A. Hložek'"
      ]
     },
     "execution_count": 3,
     "metadata": {},
     "output_type": "execute_result"
    }
   ],
   "source": [
    "#q1\n",
    "retVal = \"\"\n",
    "cmp = 1000\n",
    "# for i in range(len(player_data)):\n",
    "#     if int(player_data[i][header.index(\"Age\")]) > cmp:\n",
    "#         cmp = int(player_data[i][header.index(\"Age\")])\n",
    "#         retVal = player_data[i][header.index(\"Name\")]\n",
    "\n",
    "for row in player_data:\n",
    "    if row[header.index(\"Age\")] < cmp:\n",
    "        cmp = row[header.index(\"Age\")]\n",
    "        retVal = row[header.index(\"Name\")]\n",
    "        \n",
    "retVal        "
   ]
  },
  {
   "cell_type": "code",
   "execution_count": 4,
   "metadata": {},
   "outputs": [],
   "source": [
    "def format_num(num):\n",
    "    if len(num) <= 2:\n",
    "        return 0\n",
    "    val = float(num[1:-1])\n",
    "    if (num[-1] == \"K\"):\n",
    "        val *= 1000\n",
    "    elif (num[-1] == \"M\"):\n",
    "        val *= 1000000\n",
    "    elif (num[-1] == \"B\"):\n",
    "        val *= 1000000000   \n",
    "    return val\n",
    "        \n",
    "# for i in range(len(player_data)):\n",
    "#     print(i)\n",
    "#     format_num(player_data[i][header.index(\"Wage\")])"
   ]
  },
  {
   "cell_type": "code",
   "execution_count": 5,
   "metadata": {},
   "outputs": [
    {
     "data": {
      "text/plain": [
       "'L. Messi'"
      ]
     },
     "execution_count": 5,
     "metadata": {},
     "output_type": "execute_result"
    }
   ],
   "source": [
    "#q2\n",
    "retVal = \"\"\n",
    "cmpVal = 0\n",
    "for row in player_data:\n",
    "    cmp = 0\n",
    "    if len(row[header.index(\"Wage\")]) > 2:\n",
    "        cmp = format_num(row[header.index(\"Wage\")])        \n",
    "    if cmp > cmpVal:\n",
    "        cmpVal = cmp\n",
    "        retVal = row[header.index(\"Name\")]\n",
    "        \n",
    "retVal "
   ]
  },
  {
   "cell_type": "code",
   "execution_count": 6,
   "metadata": {},
   "outputs": [
    {
     "data": {
      "text/plain": [
       "'Neymar Jr'"
      ]
     },
     "execution_count": 6,
     "metadata": {},
     "output_type": "execute_result"
    }
   ],
   "source": [
    "#q3\n",
    "retVal = \"\"\n",
    "cmpVal = 0\n",
    "for row in player_data:\n",
    "    cmp = 0\n",
    "    if len(row[header.index(\"Value\")]) > 2:\n",
    "        cmp = format_num(row[header.index(\"Value\")])        \n",
    "    if cmp > cmpVal:\n",
    "        cmpVal = cmp\n",
    "        retVal = row[header.index(\"Name\")]\n",
    "        \n",
    "retVal "
   ]
  },
  {
   "cell_type": "code",
   "execution_count": 7,
   "metadata": {},
   "outputs": [
    {
     "data": {
      "text/plain": [
       "'LW'"
      ]
     },
     "execution_count": 7,
     "metadata": {},
     "output_type": "execute_result"
    }
   ],
   "source": [
    "#q4\n",
    "retVal = \"\"\n",
    "cmpVal = 0\n",
    "for row in player_data:\n",
    "    cmp = 0\n",
    "    if len(row[header.index(\"Value\")]) > 2:\n",
    "        cmp = format_num(row[header.index(\"Value\")])        \n",
    "    if cmp > cmpVal:\n",
    "        cmpVal = cmp\n",
    "        retVal = row[header.index(\"Position\")]\n",
    "        \n",
    "retVal "
   ]
  },
  {
   "cell_type": "code",
   "execution_count": 8,
   "metadata": {},
   "outputs": [],
   "source": [
    "def get_column(col_name):\n",
    "    ret = []\n",
    "    for row in player_data:\n",
    "        ret.append(row[header.index(col_name)])\n",
    "    return ret\n"
   ]
  },
  {
   "cell_type": "code",
   "execution_count": 9,
   "metadata": {},
   "outputs": [
    {
     "data": {
      "text/plain": [
       "['FC Barcelona',\n",
       " 'Juventus',\n",
       " 'Paris Saint-Germain',\n",
       " 'Atlético Madrid',\n",
       " 'Real Madrid']"
      ]
     },
     "execution_count": 9,
     "metadata": {},
     "output_type": "execute_result"
    }
   ],
   "source": [
    "#q5\n",
    "get_column(\"Club\")[:5]"
   ]
  },
  {
   "cell_type": "code",
   "execution_count": 10,
   "metadata": {},
   "outputs": [
    {
     "data": {
      "text/plain": [
       "['A. Abdallah',\n",
       " 'A. Abdellaoui',\n",
       " 'A. Abdennour',\n",
       " 'A. Abdi',\n",
       " 'A. Abdu',\n",
       " 'A. Abedzadeh']"
      ]
     },
     "execution_count": 10,
     "metadata": {},
     "output_type": "execute_result"
    }
   ],
   "source": [
    "#q6\n",
    "ret = list(set(get_column(\"Name\")))\n",
    "# res = [] \n",
    "# [res.append(x) for x in test_list if x not in res]\n",
    "ret.sort()\n",
    "ret[:6]"
   ]
  },
  {
   "cell_type": "code",
   "execution_count": 11,
   "metadata": {},
   "outputs": [
    {
     "data": {
      "text/plain": [
       "9456.942772732247"
      ]
     },
     "execution_count": 11,
     "metadata": {},
     "output_type": "execute_result"
    }
   ],
   "source": [
    "#q7\n",
    "retVal = 0\n",
    "cnt = 0\n",
    "for row in player_data:\n",
    "    cnt += 1\n",
    "    if len(row[header.index(\"Wage\")]) > 2:\n",
    "        retVal += format_num(row[header.index(\"Wage\")])        \n",
    "#     else:\n",
    "#         print(row[header.index(\"Wage\")])\n",
    "              \n",
    "retVal/cnt "
   ]
  },
  {
   "cell_type": "code",
   "execution_count": 12,
   "metadata": {},
   "outputs": [
    {
     "data": {
      "text/plain": [
       "66.24499398183609"
      ]
     },
     "execution_count": 12,
     "metadata": {},
     "output_type": "execute_result"
    }
   ],
   "source": [
    "#q8\n",
    "retVal = 0\n",
    "cnt = 0\n",
    "for row in player_data:\n",
    "    cnt += 1\n",
    "    retVal += row[header.index(\"Overall\")] \n",
    "              \n",
    "retVal/cnt"
   ]
  },
  {
   "cell_type": "code",
   "execution_count": 13,
   "metadata": {},
   "outputs": [
    {
     "data": {
      "text/plain": [
       "2036"
      ]
     },
     "execution_count": 13,
     "metadata": {},
     "output_type": "execute_result"
    }
   ],
   "source": [
    "#q9\n",
    "def player_cnt(position):\n",
    "    cnt = 0\n",
    "    for row in player_data:\n",
    "        if row[header.index(\"Position\")] == position:\n",
    "            cnt += 1\n",
    "    return cnt\n",
    "\n",
    "player_cnt(\"GK\")"
   ]
  },
  {
   "cell_type": "code",
   "execution_count": 14,
   "metadata": {},
   "outputs": [
    {
     "data": {
      "text/plain": [
       "1146"
      ]
     },
     "execution_count": 14,
     "metadata": {},
     "output_type": "execute_result"
    }
   ],
   "source": [
    "#q10\n",
    "player_cnt(\"CAM\")"
   ]
  },
  {
   "cell_type": "code",
   "execution_count": 15,
   "metadata": {},
   "outputs": [
    {
     "name": "stdout",
     "output_type": "stream",
     "text": [
      "{'RW': 369, 'ST': 2582, 'LW': 378, 'GK': 2036, 'CAM': 1146, 'CB': 3162, 'CM': 2193, 'CDM': 1424, 'CF': 113, 'LB': 1303, 'RB': 1314, 'RM': 1050, 'LM': 1049, 'LWB': 90, 'RWB': 69}\n"
     ]
    },
    {
     "data": {
      "text/plain": [
       "'CB'"
      ]
     },
     "execution_count": 15,
     "metadata": {},
     "output_type": "execute_result"
    }
   ],
   "source": [
    "#q11\n",
    "player_cnt = {}\n",
    "for row in player_data:\n",
    "    index = row[header.index(\"Position\")]\n",
    "    player_cnt[index] = player_cnt.get(index, 0) + 1\n",
    "\n",
    "print(player_cnt)\n",
    "    \n",
    "cmp = 0    \n",
    "retVal = \"\"\n",
    "for key, val in player_cnt.items():\n",
    "    if int(val) > cmp:\n",
    "        cmp = int(val)\n",
    "        retVal = key\n",
    "#     print(key, val)\n",
    "        \n",
    "retVal        "
   ]
  },
  {
   "cell_type": "code",
   "execution_count": 16,
   "metadata": {},
   "outputs": [
    {
     "data": {
      "text/plain": [
       "{'ID': '183277',\n",
       " 'Name': 'E. Hazard',\n",
       " 'Age': 28,\n",
       " 'Nationality': 'Belgium',\n",
       " 'Overall': 91,\n",
       " 'Club': 'Real Madrid',\n",
       " 'Position': 'LW',\n",
       " 'Value': '€90M',\n",
       " 'Wage': '€470K',\n",
       " 'Preferred Foot': 'Right',\n",
       " 'Jersey Number': '7',\n",
       " 'Height': \"5'9\",\n",
       " 'Weight': '163lbs'}"
      ]
     },
     "execution_count": 16,
     "metadata": {},
     "output_type": "execute_result"
    }
   ],
   "source": [
    "#q12\n",
    "def player_to_dict(player_id):\n",
    "    player_cnt = {}\n",
    "    for row in player_data:\n",
    "        if row[header.index(\"ID\")] == player_id:\n",
    "            for key in header:\n",
    "                player_cnt[key] = row[header.index(key)]\n",
    "    return player_cnt\n",
    "\n",
    "player_to_dict('183277')                "
   ]
  },
  {
   "cell_type": "code",
   "execution_count": 17,
   "metadata": {},
   "outputs": [
    {
     "data": {
      "text/plain": [
       "{'ID': '209331',\n",
       " 'Name': 'M. Salah',\n",
       " 'Age': 27,\n",
       " 'Nationality': 'Egypt',\n",
       " 'Overall': 90,\n",
       " 'Club': 'Liverpool',\n",
       " 'Position': 'RW',\n",
       " 'Value': '€80.5M',\n",
       " 'Wage': '€240K',\n",
       " 'Preferred Foot': 'Left',\n",
       " 'Jersey Number': '11',\n",
       " 'Height': \"5'9\",\n",
       " 'Weight': '157lbs'}"
      ]
     },
     "execution_count": 17,
     "metadata": {},
     "output_type": "execute_result"
    }
   ],
   "source": [
    "#q13\n",
    "player_to_dict('209331')"
   ]
  },
  {
   "cell_type": "code",
   "execution_count": 18,
   "metadata": {},
   "outputs": [
    {
     "data": {
      "text/plain": [
       "{'ID': '195864',\n",
       " 'Name': 'P. Pogba',\n",
       " 'Age': 26,\n",
       " 'Nationality': 'France',\n",
       " 'Overall': 88,\n",
       " 'Club': 'Manchester United',\n",
       " 'Position': 'CM',\n",
       " 'Value': '€72.5M',\n",
       " 'Wage': '€250K',\n",
       " 'Preferred Foot': 'Right',\n",
       " 'Jersey Number': '6',\n",
       " 'Height': \"6'3\",\n",
       " 'Weight': '185lbs'}"
      ]
     },
     "execution_count": 18,
     "metadata": {},
     "output_type": "execute_result"
    }
   ],
   "source": [
    "#q14\n",
    "player_to_dict('195864')"
   ]
  },
  {
   "cell_type": "code",
   "execution_count": 19,
   "metadata": {},
   "outputs": [
    {
     "data": {
      "text/plain": [
       "{'ID': '177003',\n",
       " 'Name': 'L. Modrić',\n",
       " 'Age': 33,\n",
       " 'Nationality': 'Croatia',\n",
       " 'Overall': 90,\n",
       " 'Club': 'Real Madrid',\n",
       " 'Position': 'CM',\n",
       " 'Value': '€45M',\n",
       " 'Wage': '€340K',\n",
       " 'Preferred Foot': 'Right',\n",
       " 'Jersey Number': '10',\n",
       " 'Height': \"5'8\",\n",
       " 'Weight': '146lbs'}"
      ]
     },
     "execution_count": 19,
     "metadata": {},
     "output_type": "execute_result"
    }
   ],
   "source": [
    "#q15\n",
    "player_to_dict('177003')"
   ]
  },
  {
   "cell_type": "code",
   "execution_count": 20,
   "metadata": {},
   "outputs": [
    {
     "data": {
      "text/plain": [
       "{'Left': 4318, 'Right': 13960}"
      ]
     },
     "execution_count": 20,
     "metadata": {},
     "output_type": "execute_result"
    }
   ],
   "source": [
    "#q16\n",
    "rht = 0\n",
    "for row in player_data:\n",
    "    if row[header.index(\"Preferred Foot\")] == \"Right\":\n",
    "        rht += 1\n",
    "        \n",
    "ret = {\"Left\": len(player_data)-rht, \"Right\": rht}\n",
    "ret"
   ]
  },
  {
   "cell_type": "code",
   "execution_count": 21,
   "metadata": {},
   "outputs": [
    {
     "data": {
      "text/plain": [
       "{'Argentina': 886,\n",
       " 'Portugal': 344,\n",
       " 'Brazil': 824,\n",
       " 'Slovenia': 61,\n",
       " 'Belgium': 268,\n",
       " 'Germany': 1216,\n",
       " 'Netherlands': 416,\n",
       " 'Croatia': 126,\n",
       " 'Egypt': 30,\n",
       " 'France': 984,\n",
       " 'Senegal': 127,\n",
       " 'England': 1667,\n",
       " 'Spain': 1035,\n",
       " 'Italy': 732,\n",
       " 'Uruguay': 164,\n",
       " 'Poland': 324,\n",
       " 'Denmark': 345,\n",
       " 'Gabon': 16,\n",
       " 'Korea Republic': 322,\n",
       " 'Costa Rica': 30,\n",
       " 'Slovakia': 54,\n",
       " 'Bosnia Herzegovina': 66,\n",
       " 'Serbia': 139,\n",
       " 'Scotland': 277,\n",
       " 'Hungary': 35,\n",
       " 'Switzerland': 229,\n",
       " 'Greece': 96,\n",
       " 'Austria': 319,\n",
       " 'Morocco': 94,\n",
       " 'Sweden': 358,\n",
       " 'Wales': 117,\n",
       " 'Colombia': 591,\n",
       " 'Czech Republic': 102,\n",
       " 'Chile': 370,\n",
       " 'Algeria': 50,\n",
       " 'Ivory Coast': 105,\n",
       " 'Togo': 13,\n",
       " 'Norway': 350,\n",
       " 'Mexico': 340,\n",
       " 'Iceland': 46,\n",
       " 'Finland': 72,\n",
       " 'Jamaica': 29,\n",
       " 'Albania': 43,\n",
       " 'Guinea': 35,\n",
       " 'Cameroon': 78,\n",
       " 'Ghana': 130,\n",
       " 'Montenegro': 33,\n",
       " 'Ukraine': 69,\n",
       " 'Russia': 81,\n",
       " 'DR Congo': 54,\n",
       " 'Central African Rep.': 4,\n",
       " 'Venezuela': 66,\n",
       " 'Nigeria': 126,\n",
       " 'Armenia': 8,\n",
       " 'Israel': 16,\n",
       " 'Ecuador': 53,\n",
       " 'Paraguay': 80,\n",
       " 'Australia': 196,\n",
       " 'Turkey': 294,\n",
       " 'Romania': 287,\n",
       " 'Japan': 453,\n",
       " 'Mali': 55,\n",
       " 'United States': 347,\n",
       " 'Kosovo': 40,\n",
       " 'Dominican Republic': 4,\n",
       " 'Tanzania': 4,\n",
       " 'China PR': 373,\n",
       " 'Northern Ireland': 81,\n",
       " 'Republic of Ireland': 348,\n",
       " 'Tunisia': 35,\n",
       " 'Cape Verde': 20,\n",
       " 'FYR Macedonia': 20,\n",
       " 'Burkina Faso': 16,\n",
       " 'Kenya': 7,\n",
       " 'Angola': 16,\n",
       " 'South Africa': 72,\n",
       " 'Peru': 35,\n",
       " 'Syria': 4,\n",
       " 'Gambia': 22,\n",
       " 'New Zealand': 35,\n",
       " 'Equatorial Guinea': 6,\n",
       " 'Zimbabwe': 12,\n",
       " 'Georgia': 25,\n",
       " 'Canada': 61,\n",
       " 'Estonia': 6,\n",
       " 'Benin': 15,\n",
       " 'Bulgaria': 41,\n",
       " 'Mozambique': 4,\n",
       " 'Honduras': 13,\n",
       " 'Guinea Bissau': 21,\n",
       " 'Iran': 15,\n",
       " 'Philippines': 2,\n",
       " 'Cyprus': 11,\n",
       " 'Madagascar': 8,\n",
       " 'Uzbekistan': 3,\n",
       " 'Moldova': 12,\n",
       " 'Cuba': 4,\n",
       " 'Sierra Leone': 10,\n",
       " 'Curacao': 16,\n",
       " 'Zambia': 10,\n",
       " 'Congo': 18,\n",
       " 'Bolivia': 23,\n",
       " 'Comoros': 9,\n",
       " 'Iraq': 5,\n",
       " 'Chad': 1,\n",
       " 'Lithuania': 10,\n",
       " 'Saudi Arabia': 310,\n",
       " 'Panama': 12,\n",
       " 'Libya': 4,\n",
       " 'Bahrain': 1,\n",
       " 'St Kitts Nevis': 4,\n",
       " 'New Caledonia': 2,\n",
       " 'Luxembourg': 9,\n",
       " 'Trinidad & Tobago': 6,\n",
       " 'Thailand': 4,\n",
       " 'United Arab Emirates': 22,\n",
       " 'Eritrea': 1,\n",
       " 'Korea DPR': 4,\n",
       " 'El Salvador': 4,\n",
       " 'Azerbaijan': 6,\n",
       " 'Latvia': 6,\n",
       " 'Montserrat': 3,\n",
       " 'Puerto Rico': 1,\n",
       " 'Bermuda': 3,\n",
       " 'São Tomé & Príncipe': 1,\n",
       " 'Antigua & Barbuda': 7,\n",
       " 'Burundi': 4,\n",
       " 'Kazakhstan': 2,\n",
       " 'Liberia': 1,\n",
       " 'Guyana': 4,\n",
       " 'Haiti': 7,\n",
       " 'Jordan': 1,\n",
       " 'Faroe Islands': 5,\n",
       " 'Mauritania': 5,\n",
       " 'Namibia': 2,\n",
       " 'Rwanda': 2,\n",
       " 'Uganda': 3,\n",
       " 'Hong Kong': 1,\n",
       " 'Chinese Taipei': 1,\n",
       " 'Belize': 1,\n",
       " 'Palestine': 4,\n",
       " 'Mauritius': 1,\n",
       " 'Guam': 1,\n",
       " 'Suriname': 2,\n",
       " 'Lebanon': 3,\n",
       " 'Guatemala': 2,\n",
       " 'Sudan': 3,\n",
       " 'Liechtenstein': 2,\n",
       " 'Grenada': 2,\n",
       " 'St Lucia': 1,\n",
       " 'Afghanistan': 2,\n",
       " 'Ethiopia': 1,\n",
       " 'Barbados': 1,\n",
       " 'India': 23,\n",
       " 'Malta': 2,\n",
       " 'Niger': 3,\n",
       " 'Vietnam': 1,\n",
       " 'Malawi': 1,\n",
       " 'Gibraltar': 1,\n",
       " 'Macau': 1,\n",
       " 'South Sudan': 1,\n",
       " 'Indonesia': 1}"
      ]
     },
     "execution_count": 21,
     "metadata": {},
     "output_type": "execute_result"
    }
   ],
   "source": [
    "#q17\n",
    "player_cnt = {}\n",
    "for row in player_data:\n",
    "    index = row[header.index(\"Nationality\")]\n",
    "    player_cnt[index] = player_cnt.get(index, 0) + 1\n",
    "\n",
    "player_cnt    "
   ]
  },
  {
   "cell_type": "code",
   "execution_count": 22,
   "metadata": {},
   "outputs": [
    {
     "data": {
      "text/plain": [
       "{'Argentina': 69.11851015801355,\n",
       " 'Portugal': 70.51453488372093,\n",
       " 'Brazil': 71.1614077669903,\n",
       " 'Slovenia': 68.70491803278688,\n",
       " 'Belgium': 68.43283582089552,\n",
       " 'Germany': 65.93914473684211,\n",
       " 'Netherlands': 68.14903846153847,\n",
       " 'Croatia': 69.78571428571429,\n",
       " 'Egypt': 70.1,\n",
       " 'France': 67.41666666666667,\n",
       " 'Senegal': 68.64566929133858,\n",
       " 'England': 63.251949610077986,\n",
       " 'Spain': 69.9536231884058,\n",
       " 'Italy': 67.65710382513662,\n",
       " 'Uruguay': 71.64634146341463,\n",
       " 'Poland': 63.49074074074074,\n",
       " 'Denmark': 63.68115942028985,\n",
       " 'Gabon': 70.6875,\n",
       " 'Korea Republic': 63.683229813664596,\n",
       " 'Costa Rica': 68.23333333333333,\n",
       " 'Slovakia': 69.31481481481481,\n",
       " 'Bosnia Herzegovina': 68.87878787878788,\n",
       " 'Serbia': 69.48920863309353,\n",
       " 'Scotland': 64.75090252707581,\n",
       " 'Hungary': 69.68571428571428,\n",
       " 'Switzerland': 64.8471615720524,\n",
       " 'Greece': 69.39583333333333,\n",
       " 'Austria': 65.59561128526646,\n",
       " 'Morocco': 69.69148936170212,\n",
       " 'Sweden': 63.79050279329609,\n",
       " 'Wales': 64.6923076923077,\n",
       " 'Colombia': 65.67851099830796,\n",
       " 'Czech Republic': 70.31372549019608,\n",
       " 'Chile': 64.80540540540541,\n",
       " 'Algeria': 71.38,\n",
       " 'Ivory Coast': 69.0,\n",
       " 'Togo': 69.38461538461539,\n",
       " 'Norway': 63.02857142857143,\n",
       " 'Mexico': 65.80882352941177,\n",
       " 'Iceland': 67.28260869565217,\n",
       " 'Finland': 63.81944444444444,\n",
       " 'Jamaica': 66.6896551724138,\n",
       " 'Albania': 66.4186046511628,\n",
       " 'Guinea': 68.8,\n",
       " 'Cameroon': 68.33333333333333,\n",
       " 'Ghana': 66.97692307692307,\n",
       " 'Montenegro': 66.36363636363636,\n",
       " 'Ukraine': 69.8695652173913,\n",
       " 'Russia': 69.33333333333333,\n",
       " 'DR Congo': 68.4074074074074,\n",
       " 'Central African Rep.': 70.5,\n",
       " 'Venezuela': 67.07575757575758,\n",
       " 'Nigeria': 67.15079365079364,\n",
       " 'Armenia': 69.375,\n",
       " 'Israel': 71.125,\n",
       " 'Ecuador': 70.49056603773585,\n",
       " 'Paraguay': 69.7875,\n",
       " 'Australia': 62.58163265306123,\n",
       " 'Turkey': 66.06802721088435,\n",
       " 'Romania': 63.70383275261324,\n",
       " 'Japan': 63.69094922737307,\n",
       " 'Mali': 67.50909090909092,\n",
       " 'United States': 64.53025936599424,\n",
       " 'Kosovo': 66.625,\n",
       " 'Dominican Republic': 67.5,\n",
       " 'Tanzania': 63.25,\n",
       " 'China PR': 59.48525469168901,\n",
       " 'Northern Ireland': 63.79012345679013,\n",
       " 'Republic of Ireland': 61.00574712643678,\n",
       " 'Tunisia': 68.25714285714285,\n",
       " 'Cape Verde': 70.5,\n",
       " 'FYR Macedonia': 68.7,\n",
       " 'Burkina Faso': 66.4375,\n",
       " 'Kenya': 65.28571428571429,\n",
       " 'Angola': 69.375,\n",
       " 'South Africa': 67.72222222222223,\n",
       " 'Peru': 69.74285714285715,\n",
       " 'Syria': 70.25,\n",
       " 'Gambia': 65.31818181818181,\n",
       " 'New Zealand': 64.17142857142858,\n",
       " 'Equatorial Guinea': 69.0,\n",
       " 'Zimbabwe': 67.25,\n",
       " 'Georgia': 69.04,\n",
       " 'Canada': 63.91803278688525,\n",
       " 'Estonia': 66.33333333333333,\n",
       " 'Benin': 67.66666666666667,\n",
       " 'Bulgaria': 63.46341463414634,\n",
       " 'Mozambique': 73.25,\n",
       " 'Honduras': 68.38461538461539,\n",
       " 'Guinea Bissau': 67.38095238095238,\n",
       " 'Iran': 69.0,\n",
       " 'Philippines': 69.0,\n",
       " 'Cyprus': 61.72727272727273,\n",
       " 'Madagascar': 70.25,\n",
       " 'Uzbekistan': 67.66666666666667,\n",
       " 'Moldova': 65.0,\n",
       " 'Cuba': 67.25,\n",
       " 'Sierra Leone': 63.0,\n",
       " 'Curacao': 66.0,\n",
       " 'Zambia': 67.1,\n",
       " 'Congo': 65.44444444444444,\n",
       " 'Bolivia': 66.04347826086956,\n",
       " 'Comoros': 65.22222222222223,\n",
       " 'Iraq': 67.6,\n",
       " 'Chad': 73.0,\n",
       " 'Lithuania': 63.4,\n",
       " 'Saudi Arabia': 60.92903225806452,\n",
       " 'Panama': 66.0,\n",
       " 'Libya': 71.0,\n",
       " 'Bahrain': 72.0,\n",
       " 'St Kitts Nevis': 62.75,\n",
       " 'New Caledonia': 67.5,\n",
       " 'Luxembourg': 65.66666666666667,\n",
       " 'Trinidad & Tobago': 65.83333333333333,\n",
       " 'Thailand': 64.0,\n",
       " 'United Arab Emirates': 62.86363636363637,\n",
       " 'Eritrea': 71.0,\n",
       " 'Korea DPR': 65.75,\n",
       " 'El Salvador': 67.25,\n",
       " 'Azerbaijan': 62.833333333333336,\n",
       " 'Latvia': 61.666666666666664,\n",
       " 'Montserrat': 66.0,\n",
       " 'Puerto Rico': 70.0,\n",
       " 'Bermuda': 63.666666666666664,\n",
       " 'São Tomé & Príncipe': 70.0,\n",
       " 'Antigua & Barbuda': 59.42857142857143,\n",
       " 'Burundi': 63.75,\n",
       " 'Kazakhstan': 68.0,\n",
       " 'Liberia': 69.0,\n",
       " 'Guyana': 63.5,\n",
       " 'Haiti': 63.285714285714285,\n",
       " 'Jordan': 68.0,\n",
       " 'Faroe Islands': 61.4,\n",
       " 'Mauritania': 65.2,\n",
       " 'Namibia': 67.0,\n",
       " 'Rwanda': 64.0,\n",
       " 'Uganda': 66.0,\n",
       " 'Hong Kong': 67.0,\n",
       " 'Chinese Taipei': 66.0,\n",
       " 'Belize': 66.0,\n",
       " 'Palestine': 62.0,\n",
       " 'Mauritius': 66.0,\n",
       " 'Guam': 66.0,\n",
       " 'Suriname': 66.0,\n",
       " 'Lebanon': 64.0,\n",
       " 'Guatemala': 65.5,\n",
       " 'Sudan': 62.666666666666664,\n",
       " 'Liechtenstein': 62.0,\n",
       " 'Grenada': 60.5,\n",
       " 'St Lucia': 64.0,\n",
       " 'Afghanistan': 62.0,\n",
       " 'Ethiopia': 64.0,\n",
       " 'Barbados': 64.0,\n",
       " 'India': 60.0,\n",
       " 'Malta': 60.0,\n",
       " 'Niger': 57.0,\n",
       " 'Vietnam': 62.0,\n",
       " 'Malawi': 62.0,\n",
       " 'Gibraltar': 62.0,\n",
       " 'Macau': 61.0,\n",
       " 'South Sudan': 59.0,\n",
       " 'Indonesia': 56.0}"
      ]
     },
     "execution_count": 22,
     "metadata": {},
     "output_type": "execute_result"
    }
   ],
   "source": [
    "#q18\n",
    "player_score = {}\n",
    "for row in player_data:\n",
    "    index = row[header.index(\"Nationality\")]\n",
    "    player_score[index] = player_score.get(index, 0) + row[header.index(\"Overall\")]\n",
    "\n",
    "# print(player_score) \n",
    "\n",
    "for key, val in player_score.items():\n",
    "    player_score[key] = (val / player_cnt[key])\n",
    "\n",
    "player_score    "
   ]
  },
  {
   "cell_type": "code",
   "execution_count": 23,
   "metadata": {},
   "outputs": [
    {
     "data": {
      "text/plain": [
       "'Mozambique'"
      ]
     },
     "execution_count": 23,
     "metadata": {},
     "output_type": "execute_result"
    }
   ],
   "source": [
    "#q19\n",
    "cmp = 0    \n",
    "retVal = \"\"\n",
    "for key, val in player_score.items():\n",
    "    if int(val) > cmp:\n",
    "        cmp = int(val)\n",
    "        retVal = key\n",
    "#     print(key, val)\n",
    "        \n",
    "retVal "
   ]
  },
  {
   "cell_type": "code",
   "execution_count": 24,
   "metadata": {},
   "outputs": [
    {
     "data": {
      "text/plain": [
       "'FC Bayern München'"
      ]
     },
     "execution_count": 24,
     "metadata": {},
     "output_type": "execute_result"
    }
   ],
   "source": [
    "#q20\n",
    "player_score = {}\n",
    "player_cnt = {}\n",
    "for row in player_data:\n",
    "    index = row[header.index(\"Club\")]\n",
    "    player_score[index] = player_score.get(index, 0) + format_num(row[header.index(\"Value\")])\n",
    "    player_cnt[index] = player_cnt.get(index, 0) + 1\n",
    "\n",
    "# print(player_score) \n",
    "\n",
    "for key, val in player_score.items():\n",
    "    player_score[key] = (val / player_cnt[key])\n",
    "\n",
    "cmp = 0    \n",
    "retVal = \"\"\n",
    "for key, val in player_score.items():\n",
    "    if int(val) > cmp:\n",
    "        cmp = int(val)\n",
    "        retVal = key\n",
    "#     print(key, val)\n",
    "        \n",
    "retVal"
   ]
  },
  {
   "cell_type": "code",
   "execution_count": null,
   "metadata": {},
   "outputs": [],
   "source": []
  }
 ],
 "metadata": {
  "kernelspec": {
   "display_name": "Python 3",
   "language": "python",
   "name": "python3"
  },
  "language_info": {
   "codemirror_mode": {
    "name": "ipython",
    "version": 3
   },
   "file_extension": ".py",
   "mimetype": "text/x-python",
   "name": "python",
   "nbconvert_exporter": "python",
   "pygments_lexer": "ipython3",
   "version": "3.7.0"
  }
 },
 "nbformat": 4,
 "nbformat_minor": 4
}
