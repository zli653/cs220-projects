{
 "cells": [
  {
   "cell_type": "code",
   "execution_count": 1,
   "metadata": {},
   "outputs": [
    {
     "data": {
      "text/plain": [
       "['sample_reviews.json',\n",
       " 'sample_reviews.csv',\n",
       " 'review5.json',\n",
       " 'review5.csv',\n",
       " 'review4.json',\n",
       " 'review4.csv',\n",
       " 'review3.json',\n",
       " 'review3.csv',\n",
       " 'review2.json',\n",
       " 'review2.csv',\n",
       " 'review1.json',\n",
       " 'review1.csv',\n",
       " 'products.json']"
      ]
     },
     "execution_count": 1,
     "metadata": {},
     "output_type": "execute_result"
    }
   ],
   "source": [
    "#q1\n",
    "import os\n",
    "sorted(os.listdir(\"data\"), reverse = True)"
   ]
  },
  {
   "cell_type": "code",
   "execution_count": 2,
   "metadata": {},
   "outputs": [
    {
     "name": "stdout",
     "output_type": "stream",
     "text": [
      "A\n",
      "1\n",
      "B\n",
      "2\n",
      "C\n",
      "3\n"
     ]
    }
   ],
   "source": [
    "def f():\n",
    "    print(\"A\")\n",
    "    yield 1\n",
    "    print(\"B\")\n",
    "    yield 2\n",
    "    print(\"C\")\n",
    "    yield 3\n",
    "for x in f():\n",
    "    print(x)"
   ]
  },
  {
   "cell_type": "code",
   "execution_count": 3,
   "metadata": {},
   "outputs": [
    {
     "data": {
      "text/plain": [
       "['data\\\\sample_reviews.json',\n",
       " 'data\\\\sample_reviews.csv',\n",
       " 'data\\\\review5.json',\n",
       " 'data\\\\review5.csv',\n",
       " 'data\\\\review4.json',\n",
       " 'data\\\\review4.csv',\n",
       " 'data\\\\review3.json',\n",
       " 'data\\\\review3.csv',\n",
       " 'data\\\\review2.json',\n",
       " 'data\\\\review2.csv',\n",
       " 'data\\\\review1.json',\n",
       " 'data\\\\review1.csv',\n",
       " 'data\\\\products.json']"
      ]
     },
     "execution_count": 3,
     "metadata": {},
     "output_type": "execute_result"
    }
   ],
   "source": [
    "#q2\n",
    "sorted([os.path.join(\"data\", i) for i in os.listdir(\"data\")], reverse = True)"
   ]
  },
  {
   "cell_type": "code",
   "execution_count": 4,
   "metadata": {},
   "outputs": [
    {
     "data": {
      "text/plain": [
       "['data\\\\sample_reviews.json',\n",
       " 'data\\\\review5.json',\n",
       " 'data\\\\review4.json',\n",
       " 'data\\\\review3.json',\n",
       " 'data\\\\review2.json',\n",
       " 'data\\\\review1.json',\n",
       " 'data\\\\products.json']"
      ]
     },
     "execution_count": 4,
     "metadata": {},
     "output_type": "execute_result"
    }
   ],
   "source": [
    "#q3\n",
    "sorted([os.path.join(\"data\", i) for i in os.listdir(\"data\") if i[-5:] == \".json\"], reverse = True)"
   ]
  },
  {
   "cell_type": "code",
   "execution_count": 5,
   "metadata": {},
   "outputs": [
    {
     "data": {
      "text/plain": [
       "['data\\\\review5.json',\n",
       " 'data\\\\review5.csv',\n",
       " 'data\\\\review4.json',\n",
       " 'data\\\\review4.csv',\n",
       " 'data\\\\review3.json',\n",
       " 'data\\\\review3.csv',\n",
       " 'data\\\\review2.json',\n",
       " 'data\\\\review2.csv',\n",
       " 'data\\\\review1.json',\n",
       " 'data\\\\review1.csv']"
      ]
     },
     "execution_count": 5,
     "metadata": {},
     "output_type": "execute_result"
    }
   ],
   "source": [
    "#q4\n",
    "sorted([os.path.join(\"data\", i) for i in os.listdir(\"data\") if i[:6] == \"review\"], reverse = True)"
   ]
  },
  {
   "cell_type": "code",
   "execution_count": 6,
   "metadata": {},
   "outputs": [
    {
     "data": {
      "text/plain": [
       "{'B00QFQRELG': 'Amazon 9W PowerFast Official OEM USB Charger and Power Adapter for Fire Tablets and Kindle eReaders',\n",
       " 'B01BH83OOM': 'Amazon Tap Smart Assistant Alexa enabled (black) Brand New',\n",
       " 'B00ZV9PXP2': 'All-New Kindle E-reader - Black, 6\" Glare-Free Touchscreen Display, Wi-Fi - Includes Special Offers',\n",
       " 'B0751RGYJV': 'Amazon Echo (2nd Generation) Smart Assistant Oak Finish Priority Shipping',\n",
       " 'B00IOY8XWQ': 'Kindle Voyage E-reader, 6 High-Resolution Display (300 ppi) with Adaptive Built-in Light, PagePress Sensors, Wi-Fi - Includes Special Offers',\n",
       " 'B0752151W6': 'All-new Echo (2nd Generation) with improved sound, powered by Dolby, and a new design Walnut Finish',\n",
       " 'B018Y226XO': 'Fire Kids Edition Tablet, 7 Display, Wi-Fi, 16 GB, Pink Kid-Proof Case',\n",
       " 'B01ACEKAJY': 'All-New Fire HD 8 Tablet, 8 HD Display, Wi-Fi, 32 GB - Includes Special Offers, Black',\n",
       " 'B01AHB9CYG': 'All-New Fire HD 8 Tablet, 8 HD Display, Wi-Fi, 32 GB - Includes Special Offers, Magenta',\n",
       " 'B01AHB9CN2': 'All-New Fire HD 8 Tablet, 8 HD Display, Wi-Fi, 16 GB - Includes Special Offers, Magenta',\n",
       " 'B00VINDBJK': 'Kindle Oasis E-reader with Leather Charging Cover - Merlot, 6 High-Resolution Display (300 ppi), Wi-Fi - Includes Special Offers',\n",
       " 'B01AHB9C1E': 'Fire HD 8 Tablet with Alexa, 8 HD Display, 32 GB, Tangerine - with Special Offers',\n",
       " 'B018Y229OU': 'Fire Tablet, 7 Display, Wi-Fi, 8 GB - Includes Special Offers, Magenta'}"
      ]
     },
     "execution_count": 6,
     "metadata": {},
     "output_type": "execute_result"
    }
   ],
   "source": [
    "#q5\n",
    "import json\n",
    "\n",
    "def openJSON(path):\n",
    "    with open(path) as f:\n",
    "        data = json.load(f)\n",
    "    return data    \n",
    "    \n",
    "products = openJSON('data/products.json')\n",
    "products"
   ]
  },
  {
   "cell_type": "code",
   "execution_count": 7,
   "metadata": {},
   "outputs": [
    {
     "data": {
      "text/plain": [
       "'I would recommend this product. It works great and ver compact.'"
      ]
     },
     "execution_count": 7,
     "metadata": {},
     "output_type": "execute_result"
    }
   ],
   "source": [
    "#q6\n",
    "import csv \n",
    "import pandas as pd\n",
    "\n",
    "# copied from https://automatetheboringstuff.com/chapter14/\n",
    "def process_csv(filename):\n",
    "    exampleFile = open(filename, encoding=\"utf-8\")\n",
    "    exampleReader = csv.reader(exampleFile)\n",
    "    exampleData = list(exampleReader)\n",
    "    exampleFile.close()\n",
    "    return exampleData\n",
    "\n",
    "# Convert CSV to a list of dicts\n",
    "def load_csv_to_dicts(path):\n",
    "    rows = process_csv(path)\n",
    "    header = rows[0]\n",
    "    rows = rows[1:]\n",
    "    \n",
    "    dict_list = []\n",
    "    for row in rows:\n",
    "        new_row = {}\n",
    "        for i in range(len(header)):\n",
    "            new_row[header[i]] = row[i]\n",
    "        dict_list.append(new_row)\n",
    "    return dict_list\n",
    "    \n",
    "def load_csv_to_dicts_1(path):\n",
    "    with open(path) as f:\n",
    "        a = [{k: v for k, v in row.items()}\n",
    "            for row in csv.DictReader(f, skipinitialspace=True)]\n",
    "    return a\n",
    "\n",
    "data = load_csv_to_dicts_1(\"data/review1.csv\")\n",
    "i = 0\n",
    "q6 = \"\"\n",
    "while i < len(data):\n",
    "    if data[i]['review id'] == \"84440\":\n",
    "        q6 = data[i]['review text']\n",
    "        break;\n",
    "    i += 1\n",
    "        \n",
    "q6    "
   ]
  },
  {
   "cell_type": "code",
   "execution_count": 8,
   "metadata": {},
   "outputs": [
    {
     "data": {
      "text/plain": [
       "'Loveeeeeeeee........................................'"
      ]
     },
     "execution_count": 8,
     "metadata": {},
     "output_type": "execute_result"
    }
   ],
   "source": [
    "#q7\n",
    "q7 = \"\"\n",
    "path = sorted([os.path.join(\"data\", i) for i in os.listdir(\"data\") if i[-4:] == \".csv\" and i[:6] == \"review\"], reverse = True)\n",
    "for p in path:\n",
    "    data = load_csv_to_dicts_1(p)\n",
    "    i = 0\n",
    "    while i < len(data):\n",
    "        if data[i]['review id'] == \"28615\":\n",
    "            q7 = data[i]['review text']\n",
    "            break;\n",
    "        i += 1\n",
    "        \n",
    "q7       "
   ]
  },
  {
   "cell_type": "code",
   "execution_count": 9,
   "metadata": {},
   "outputs": [
    {
     "data": {
      "text/plain": [
       "'review2.csv'"
      ]
     },
     "execution_count": 9,
     "metadata": {},
     "output_type": "execute_result"
    }
   ],
   "source": [
    "#q8\n",
    "q8 = \"\"\n",
    "path = sorted([i for i in os.listdir(\"data\") if i[-4:] == \".csv\" and i[:6] == \"review\"], reverse = True)\n",
    "for p in path:\n",
    "    data = load_csv_to_dicts_1(os.path.join(\"data\", p))\n",
    "    i = 0\n",
    "    while i < len(data):\n",
    "        if data[i]['review id'] == \"69273\":\n",
    "            q8 = p\n",
    "            break;\n",
    "        i += 1\n",
    "        \n",
    "q8"
   ]
  },
  {
   "cell_type": "code",
   "execution_count": 10,
   "metadata": {},
   "outputs": [
    {
     "data": {
      "text/plain": [
       "{'46663': ['Dmh1589', 'B018Y229OU'],\n",
       " '36363': ['Shoot2thril', 'B018Y229OU'],\n",
       " '15763': ['Barbara', 'B018Y229OU'],\n",
       " '5463': ['Elec8', 'B018Y229OU'],\n",
       " '54066': ['Silvrblur', 'B018Y229OU'],\n",
       " '33466': ['Trish', 'B018Y229OU'],\n",
       " '40869': ['airbear', 'B018Y229OU'],\n",
       " '30569': ['lorphe', 'B018Y229OU'],\n",
       " '89472': ['felix', 'B018Y229OU'],\n",
       " '48272': ['Bull99', 'B018Y229OU']}"
      ]
     },
     "execution_count": 10,
     "metadata": {},
     "output_type": "execute_result"
    }
   ],
   "source": [
    "#q9\n",
    "from collections import namedtuple\n",
    "# from datetime import datetime\n",
    "# from recordclass import recordclass\n",
    "Review = namedtuple(\"Review\", [\"id\", \"username\", \"asin\", \"title\", \"text\", \"rating\", \"do_recommend\", \"num_helpful\", \"date\"])\n",
    "\n",
    "def get_reviews(csv_path, json_path):\n",
    "    csvData = load_csv_to_dicts_1(csv_path)\n",
    "    jsonData = openJSON(json_path)\n",
    "    ids = list(jsonData)\n",
    "    \n",
    "    a = []\n",
    "    for i in range(len(csvData)):\n",
    "        row = csvData[i]\n",
    "        recom = False\n",
    "        review_id = row['review id']\n",
    "        if row['review id'] == \"\":\n",
    "#             print(row)\n",
    "#             review_id = ids[i]\n",
    "            continue\n",
    "        \n",
    "        if row['review title'] == \"\" or row['review text'] == \"\":\n",
    "            continue\n",
    "            \n",
    "        if row['review rating'] == None:\n",
    "            continue    \n",
    "            \n",
    "        if row['review do_recommend'].lower() == \"true\":\n",
    "            recom = True\n",
    "        elif row['review do_recommend'].lower() == \"false\":    \n",
    "            recom = False\n",
    "        else:\n",
    "            continue\n",
    "        \n",
    "        if row['review date'] == None:\n",
    "#         datetime.strptime(row['review date'],\"%Y-%m-%d\")\n",
    "            continue\n",
    "            \n",
    "        d = Review(int(review_id), jsonData[review_id][0], jsonData[review_id][1], row['review title'], row['review text'], int(row['review rating']), recom, int(row['review num_helpful']), row['review date'])\n",
    "        a.append(d)\n",
    "    return a\n",
    "\n",
    "openJSON(\"data/sample_reviews.json\")"
   ]
  },
  {
   "cell_type": "code",
   "execution_count": 11,
   "metadata": {},
   "outputs": [
    {
     "data": {
      "text/plain": [
       "[Review(id=46663, username='Dmh1589', asin='B018Y229OU', title='Nice for kids', text='Easy to use. Memory fills up fast though. Battery life is decent.', rating=4, do_recommend=True, num_helpful=0, date='2016-12-23'),\n",
       " Review(id=36363, username='Shoot2thril', asin='B018Y229OU', title='Great tablet', text='Great tablet for the price. I already have 3 followers including the hd.', rating=5, do_recommend=True, num_helpful=0, date='2016-12-23'),\n",
       " Review(id=15763, username='Barbara', asin='B018Y229OU', title='Great tablet', text='Excellent tablet. Love the size. Fits perfectly in my purse. I would recommend this tablet.', rating=5, do_recommend=True, num_helpful=0, date='2016-12-23'),\n",
       " Review(id=5463, username='Elec8', asin='B018Y229OU', title='Great budget tablet', text='Great tablet for kids. Good for Netflix and YouTube.', rating=5, do_recommend=True, num_helpful=0, date='2016-12-23'),\n",
       " Review(id=54066, username='Silvrblur', asin='B018Y229OU', title='Great tablet for the price.', text='I bought this tablet for my 9 year old nephew and he loves it. It is easy to setup and very user friendly. Picked up a case for protection.Buy far the best bang for your buck for an entry level tablet.', rating=5, do_recommend=True, num_helpful=0, date='2016-12-23'),\n",
       " Review(id=33466, username='Trish', asin='B018Y229OU', title='Love it', text='My sister in law is in love with this. Best gift ever for her', rating=5, do_recommend=True, num_helpful=0, date='2016-12-23'),\n",
       " Review(id=40869, username='airbear', asin='B018Y229OU', title='Love it', text='Love it so much. So easy to use even for my little kids.', rating=5, do_recommend=True, num_helpful=0, date='2016-12-23'),\n",
       " Review(id=30569, username='lorphe', asin='B018Y229OU', title='Stand Amazon Tablet', text='Works well for the money. Got it from Black Friday deal. User friendly', rating=4, do_recommend=True, num_helpful=0, date='2016-12-23'),\n",
       " Review(id=89472, username='felix', asin='B018Y229OU', title='great ipad', text='i brought this for my kids and no regret. Make sure you buy a case protector along with it.', rating=5, do_recommend=True, num_helpful=0, date='2016-12-23'),\n",
       " Review(id=48272, username='Bull99', asin='B018Y229OU', title='Works great', text='This tablet is so compact and fit in my purse. It works very well.', rating=5, do_recommend=True, num_helpful=0, date='2016-12-23')]"
      ]
     },
     "execution_count": 11,
     "metadata": {},
     "output_type": "execute_result"
    }
   ],
   "source": [
    "#q10\n",
    "get_reviews(\"data/sample_reviews.csv\", \"data/sample_reviews.json\")"
   ]
  },
  {
   "cell_type": "code",
   "execution_count": 12,
   "metadata": {},
   "outputs": [
    {
     "data": {
      "text/plain": [
       "[Review(id=46663, username='Dmh1589', asin='B018Y229OU', title='Nice for kids', text='Easy to use. Memory fills up fast though. Battery life is decent.', rating=4, do_recommend=True, num_helpful=0, date='2016-12-23'),\n",
       " Review(id=36363, username='Shoot2thril', asin='B018Y229OU', title='Great tablet', text='Great tablet for the price. I already have 3 followers including the hd.', rating=5, do_recommend=True, num_helpful=0, date='2016-12-23'),\n",
       " Review(id=15763, username='Barbara', asin='B018Y229OU', title='Great tablet', text='Excellent tablet. Love the size. Fits perfectly in my purse. I would recommend this tablet.', rating=5, do_recommend=True, num_helpful=0, date='2016-12-23'),\n",
       " Review(id=5463, username='Elec8', asin='B018Y229OU', title='Great budget tablet', text='Great tablet for kids. Good for Netflix and YouTube.', rating=5, do_recommend=True, num_helpful=0, date='2016-12-23'),\n",
       " Review(id=54066, username='Silvrblur', asin='B018Y229OU', title='Great tablet for the price.', text='I bought this tablet for my 9 year old nephew and he loves it. It is easy to setup and very user friendly. Picked up a case for protection.Buy far the best bang for your buck for an entry level tablet.', rating=5, do_recommend=True, num_helpful=0, date='2016-12-23'),\n",
       " Review(id=33466, username='Trish', asin='B018Y229OU', title='Love it', text='My sister in law is in love with this. Best gift ever for her', rating=5, do_recommend=True, num_helpful=0, date='2016-12-23'),\n",
       " Review(id=40869, username='airbear', asin='B018Y229OU', title='Love it', text='Love it so much. So easy to use even for my little kids.', rating=5, do_recommend=True, num_helpful=0, date='2016-12-23'),\n",
       " Review(id=30569, username='lorphe', asin='B018Y229OU', title='Stand Amazon Tablet', text='Works well for the money. Got it from Black Friday deal. User friendly', rating=4, do_recommend=True, num_helpful=0, date='2016-12-23'),\n",
       " Review(id=89472, username='felix', asin='B018Y229OU', title='great ipad', text='i brought this for my kids and no regret. Make sure you buy a case protector along with it.', rating=5, do_recommend=True, num_helpful=0, date='2016-12-23'),\n",
       " Review(id=48272, username='Bull99', asin='B018Y229OU', title='Works great', text='This tablet is so compact and fit in my purse. It works very well.', rating=5, do_recommend=True, num_helpful=0, date='2016-12-23')]"
      ]
     },
     "execution_count": 12,
     "metadata": {},
     "output_type": "execute_result"
    }
   ],
   "source": [
    "#q11\n",
    "get_reviews(\"data/review4.csv\", \"data/review4.json\")[:10]"
   ]
  },
  {
   "cell_type": "code",
   "execution_count": 13,
   "metadata": {},
   "outputs": [
    {
     "data": {
      "text/plain": [
       "[Review(id=25136, username='Angrydagg', asin='B018Y229OU', title='Nice features for the price.', text='For the price this tables does everything I need. so far.', rating=4, do_recommend=True, num_helpful=0, date='2015-12-30'),\n",
       " Review(id=84039, username='Appman2015', asin='B018Y229OU', title='Great for xmas', text='So far I have bought three of these of tablets and they love it', rating=4, do_recommend=True, num_helpful=1, date='2015-12-30'),\n",
       " Review(id=22239, username='SuzieQ', asin='B018Y229OU', title='great for pre teens', text='i am glad i got them for my grand children they r enjoying them', rating=5, do_recommend=True, num_helpful=0, date='2015-12-31'),\n",
       " Review(id=70842, username='Gracie', asin='B018Y229OU', title='Great kindle', text='Purchase was good. Very easy to set up and use. Clear screen. Easy to charge. Would like more storage.', rating=5, do_recommend=True, num_helpful=0, date='2015-12-31'),\n",
       " Review(id=60542, username='Jeremyjeepster', asin='B018Y229OU', title='Good entry level tablet reader.', text='His is a very economical entry level tablet. Great for kids or for first time users.', rating=4, do_recommend=True, num_helpful=0, date='2015-12-31'),\n",
       " Review(id=9042, username='kinglowe78', asin='B018Y229OU', title='Good Deal', text='Real good deal. Nice present for those who want a tablet', rating=4, do_recommend=True, num_helpful=1, date='2016-01-01'),\n",
       " Review(id=98845, username='jamal', asin='B018Y229OU', title='good basic', text='Good gift for basic Internet use browsing emails .', rating=3, do_recommend=True, num_helpful=1, date='2016-01-01'),\n",
       " Review(id=88545, username='Abc1', asin='B018Y229OU', title='Lots of apps to play with', text='This is a good beginning tablet. Works well and has lots of preloaded apps to start you off.', rating=4, do_recommend=True, num_helpful=2, date='2016-01-01'),\n",
       " Review(id=47345, username='4Thrifty', asin='B018Y229OU', title='Great tablet', text='Well priced. Easy to operate. Fast and efficient. Great product.', rating=4, do_recommend=False, num_helpful=0, date='2016-01-02'),\n",
       " Review(id=54748, username='Sandycat19', asin='B018Y229OU', title='Good product fair price', text='Good for little ones who are just getting started on apps.', rating=5, do_recommend=True, num_helpful=0, date='2016-01-02')]"
      ]
     },
     "execution_count": 13,
     "metadata": {},
     "output_type": "execute_result"
    }
   ],
   "source": [
    "#q12\n",
    "get_reviews(\"data/review2.csv\", \"data/review2.json\")[-10:]"
   ]
  },
  {
   "cell_type": "code",
   "execution_count": 14,
   "metadata": {},
   "outputs": [
    {
     "name": "stdout",
     "output_type": "stream",
     "text": [
      "Expecting ',' delimiter: line 2011 column 5 (char 25054)\n"
     ]
    },
    {
     "data": {
      "text/plain": [
       "Review(id=25401, username='Brody16', asin='B018Y229OU', title='Wonderful for our grandsons', text='Love the ease of using them for our grandsons and they enjoyed them for Christmas', rating=1, do_recommend=True, num_helpful=0, date='2017-01-06')"
      ]
     },
     "execution_count": 14,
     "metadata": {},
     "output_type": "execute_result"
    }
   ],
   "source": [
    "#q13\n",
    "reviews = []\n",
    "jsonList = sorted([os.path.join(\"data\", i) for i in os.listdir(\"data\") if i[-5:] == \".json\" and i[:6] == \"review\"], reverse = True)\n",
    "csvList = sorted([os.path.join(\"data\", i) for i in os.listdir(\"data\") if i[-4:] == \".csv\" and i[:6] == \"review\"], reverse = True)\n",
    "for i in range(len(jsonList)): \n",
    "    try:\n",
    "        reviews += get_reviews(csvList[i],jsonList[i])\n",
    "    except Exception as e:    \n",
    "        print(str(e))\n",
    "\n",
    "q13 = None    \n",
    "for i in reviews:\n",
    "    if i.id == 25401:\n",
    "        q13 = i\n",
    "        break\n",
    "\n",
    "q13        "
   ]
  },
  {
   "cell_type": "code",
   "execution_count": 15,
   "metadata": {},
   "outputs": [
    {
     "data": {
      "text/plain": [
       "Review(id=78626, username='Mijenx', asin='B01AHB9CN2', title='Ended up returning', text='I bought this tablet for my 4 year old daughter. Too many advertisements. I would rather pay more and not have a single ad.', rating=1, do_recommend=False, num_helpful=2, date='2016-11-25')"
      ]
     },
     "execution_count": 15,
     "metadata": {},
     "output_type": "execute_result"
    }
   ],
   "source": [
    "#q14\n",
    "q14 = None    \n",
    "for i in reviews:\n",
    "    if i.id == 78626:\n",
    "        q14 = i\n",
    "        break\n",
    "\n",
    "q14   "
   ]
  },
  {
   "cell_type": "code",
   "execution_count": 16,
   "metadata": {},
   "outputs": [
    {
     "data": {
      "text/plain": [
       "[Review(id=29325, username='zerofighterblue', asin='B018Y229OU', title='cant live without', text='have a kindle with a broken screen. bought originally for 99.00. now regular price is 49.99 and were on sale black Friday for 34.99. got 2 more.', rating=5, do_recommend=True, num_helpful=1, date='2015-12-10'),\n",
       " Review(id=96947, username='zedog83', asin='B01AHB9CN2', title='Great for kids', text='Bought this for our 6 year old daughter and she uses it daily. She enjoys watching movies on it and playing learning games. So far it has been very durable and battery life has been great.', rating=5, do_recommend=True, num_helpful=0, date='2017-01-18'),\n",
       " Review(id=77499, username='zcraig7', asin='B018Y229OU', title='Awesome picture quality', text='I bought two of these for black friday and the kids love them', rating=5, do_recommend=True, num_helpful=0, date='2016-01-04'),\n",
       " Review(id=48890, username='zarm7', asin='B018Y229OU', title='This is a nice tablet', text='I bought it for reading books. And it works very well for that purpose.', rating=4, do_recommend=True, num_helpful=0, date='2016-09-02'),\n",
       " Review(id=84641, username='zabintenn', asin='B018Y229OU', title='Good tablet', text='I bought this tablet as a gift for my granddaughter to play games on. It is very easy for her to use and it is just the right size.', rating=4, do_recommend=True, num_helpful=0, date='2016-12-15'),\n",
       " Review(id=15839, username='zRoyals', asin='B01AHB9CN2', title='One of the best', text='Easy to use and elegant in design. Perfect Gift for Kids.', rating=5, do_recommend=True, num_helpful=0, date='2016-12-07'),\n",
       " Review(id=48019, username='yuty', asin='B01AHB9CN2', title='Terrifico', text='Great tablet for the price point....especially if you are big Amazon user.Expandable memory is a great feature.', rating=5, do_recommend=True, num_helpful=0, date='2017-01-07'),\n",
       " Review(id=63046, username='yuri', asin='B018Y229OU', title='great and cheap', text='Easy to use. Durable great material very happy with it.', rating=4, do_recommend=True, num_helpful=0, date='2016-01-08'),\n",
       " Review(id=37258, username='yroc', asin='B018Y229OU', title='excellent bargain', text='Excellent bargain and works for all purposes that a tablet is needed for.', rating=5, do_recommend=True, num_helpful=0, date='2015-12-28'),\n",
       " Review(id=64466, username='yosi', asin='B018Y226XO', title='great', text='great table for kids and parents control great gre', rating=5, do_recommend=True, num_helpful=0, date='2016-12-19')]"
      ]
     },
     "execution_count": 16,
     "metadata": {},
     "output_type": "execute_result"
    }
   ],
   "source": [
    "#q15\n",
    "from operator import attrgetter\n",
    "sorted(reviews, key=attrgetter(\"username\"), reverse = True)[:10]"
   ]
  },
  {
   "cell_type": "code",
   "execution_count": 17,
   "metadata": {},
   "outputs": [
    {
     "data": {
      "text/plain": [
       "'Excellent'"
      ]
     },
     "execution_count": 17,
     "metadata": {},
     "output_type": "execute_result"
    }
   ],
   "source": [
    "#OPTIONAL q1\n",
    "ans = None    \n",
    "for i in reviews:\n",
    "    if i.id == 69273:\n",
    "        ans = i.title\n",
    "        break\n",
    "\n",
    "ans "
   ]
  },
  {
   "cell_type": "code",
   "execution_count": 18,
   "metadata": {},
   "outputs": [
    {
     "data": {
      "text/plain": [
       "Review(id=49038, username='TechWizFL', asin='B00IOY8XWQ', title='Best Kindle Ever', text='This is so far the best Kindle I have ever owned. I love the screen and the resolution on it. The device out performs all of the other e readers on the market.', rating=5, do_recommend=True, num_helpful=2, date='2014-11-04')"
      ]
     },
     "execution_count": 18,
     "metadata": {},
     "output_type": "execute_result"
    }
   ],
   "source": [
    "#OPTIONAL q5\n",
    "sorted(reviews, key=attrgetter(\"date\"))[0]"
   ]
  },
  {
   "cell_type": "code",
   "execution_count": 19,
   "metadata": {},
   "outputs": [
    {
     "data": {
      "text/plain": [
       "{'Missy': 4,\n",
       " '1234': 4,\n",
       " 'Mike': 4,\n",
       " 'Susan': 4,\n",
       " 'Dave': 4,\n",
       " 'Manny': 3,\n",
       " 'Michael': 3,\n",
       " 'Susie': 3,\n",
       " 'Bill': 3,\n",
       " 'James': 3,\n",
       " 'Lisa': 3,\n",
       " 'Kathy': 3,\n",
       " 'paul': 3,\n",
       " 'steve': 3,\n",
       " 'John': 3,\n",
       " 'Angie': 3,\n",
       " 'Richard': 3,\n",
       " 'Steve': 3,\n",
       " 'Bubba': 3,\n",
       " 'Chris': 3,\n",
       " 'Grandma': 3,\n",
       " 'Frank': 3}"
      ]
     },
     "execution_count": 19,
     "metadata": {},
     "output_type": "execute_result"
    }
   ],
   "source": [
    "#q16\n",
    "def bucketize(lookup_list, lookup_key):\n",
    "    buck = {}\n",
    "    for row in lookup_list:\n",
    "        keys = getattr(row,lookup_key)\n",
    "        if keys in buck:\n",
    "            buck[keys].append(row)\n",
    "        else:\n",
    "            buck[keys] = [row]\n",
    "    return buck  \n",
    "\n",
    "users = bucketize(reviews, \"username\")\n",
    "q16 = {}\n",
    "for k, v in users.items():\n",
    "    q16[k] = len(v)\n",
    "    \n",
    "import operator\n",
    "from collections import OrderedDict\n",
    "dict(sorted(q16.items(), key=operator.itemgetter(1), reverse = True)[:22])\n",
    "# q16_s = OrderedDict(sorted(q16.items(), key=operator.itemgetter(1), reverse = True)[:22])\n",
    "# dict(q16_s)"
   ]
  },
  {
   "cell_type": "code",
   "execution_count": 20,
   "metadata": {},
   "outputs": [
    {
     "data": {
      "text/plain": [
       "{'Raza': 5,\n",
       " 'Rodge': 6,\n",
       " 'Ellen': 10,\n",
       " 'Karch': 5,\n",
       " 'FrankW': 5,\n",
       " 'Kime': 5,\n",
       " 'Mark': 5,\n",
       " '1Briansapp': 5,\n",
       " 'trouble': 5,\n",
       " 'Stuartc': 8,\n",
       " 'Earthdog': 27}"
      ]
     },
     "execution_count": 20,
     "metadata": {},
     "output_type": "execute_result"
    }
   ],
   "source": [
    "#q17\n",
    "q17 = {}\n",
    "for k, v in users.items():\n",
    "    cnt = 0\n",
    "    for a in v:\n",
    "        cnt += a.num_helpful\n",
    "    if cnt >= 5:\n",
    "        q17[k] = cnt\n",
    "    \n",
    "q17"
   ]
  },
  {
   "cell_type": "code",
   "execution_count": 21,
   "metadata": {},
   "outputs": [
    {
     "data": {
      "text/plain": [
       "{3: 104.72777777777777,\n",
       " 4: 96.37427385892116,\n",
       " 5: 95.34106090373281,\n",
       " 1: 128.75,\n",
       " 2: 110.24}"
      ]
     },
     "execution_count": 21,
     "metadata": {},
     "output_type": "execute_result"
    },
    {
     "data": {
      "image/png": "[encoded data removed]",
      "text/plain": [
       "<Figure size 432x288 with 1 Axes>"
      ]
     },
     "metadata": {
      "needs_background": "light"
     },
     "output_type": "display_data"
    }
   ],
   "source": [
    "#q18\n",
    "ratings = bucketize(reviews, \"rating\")\n",
    "q18 = {}\n",
    "for k, v in ratings.items():\n",
    "    cnt = 0\n",
    "    for a in v:\n",
    "        cnt += len(a.text)\n",
    "    q18[k] = cnt/len(v)    \n",
    "\n",
    "import pandas, matplotlib.pylab as plt\n",
    "    \n",
    "def scatter(x, y, xlabel=\"please label me!\", ylabel=\"please label me!\"):\n",
    "    df = pd.DataFrame({\"x\":x, \"y\":y})\n",
    "    ax = df.plot.scatter(x=\"x\", y=\"y\", color=\"black\", fontsize=16, xlim=0, ylim=0)\n",
    "    ax.set_xlabel(xlabel, fontsize=16)\n",
    "    ax.set_ylabel(ylabel, fontsize=16)\n",
    "    ax.get_xaxis().get_major_formatter().set_scientific(False)\n",
    "    ax.get_yaxis().get_major_formatter().set_scientific(False)\n",
    "    \n",
    "def scatter_1(d, xlabel=\"Please Label Me!!\", ylabel=\"Please Label Me!!!\"):\n",
    "    ax = pandas.Series(d).sort_index().plot(style=\".\", color=\"black\", fontsize=16, rot = 0)\n",
    "    ax.set_ylabel(ylabel, fontsize=16)\n",
    "    ax.set_xlabel(xlabel, fontsize=16)\n",
    "    return ax\n",
    "    \n",
    "def scatter_2(d, xlabel=\"Please Label Me!!\", ylabel=\"Please Label Me!!!\"):\n",
    "    ds = sorted(d.items())\n",
    "    x,y = zip(*ds)\n",
    "    plt.scatter(x, y, color=\"black\")\n",
    "    plt.xlabel(xlabel)\n",
    "    plt.ylabel(ylabel)\n",
    "    \n",
    "def scatter_3(d, xlabel=\"Please Label Me!!\", ylabel=\"Please Label Me!!!\"):\n",
    "    df = pandas.DataFrame(d.items(), columns = [xlabel, label])\n",
    "    ax = df.plot(kind = \"scatter\", x=xlabel, y=ylabel,  color=\"black\", fontsize=16, rot = 0)\n",
    "    return ax \n",
    "    \n",
    "ax = scatter_1(q18, \"Rating\", \"Average text length\")   \n",
    "ax.set_xlim(0,5.3)\n",
    "ax.set_ylim(0,130)\n",
    "q18"
   ]
  },
  {
   "cell_type": "code",
   "execution_count": 22,
   "metadata": {},
   "outputs": [
    {
     "data": {
      "text/plain": [
       "{3: 0.03888888888888889,\n",
       " 4: 0.06639004149377593,\n",
       " 5: 0.06836935166994106,\n",
       " 1: 0.35,\n",
       " 2: 0.12}"
      ]
     },
     "execution_count": 22,
     "metadata": {},
     "output_type": "execute_result"
    },
    {
     "data": {
      "image/png": "[encoded data removed]",
      "text/plain": [
       "<Figure size 432x288 with 1 Axes>"
      ]
     },
     "metadata": {
      "needs_background": "light"
     },
     "output_type": "display_data"
    }
   ],
   "source": [
    "#q19\n",
    "q19 = {}\n",
    "for k, v in ratings.items():\n",
    "    cnt = 0\n",
    "    for a in v:\n",
    "        cnt += 1 if a.num_helpful > 0 else 0\n",
    "    q19[k] = cnt/len(v) \n",
    "    \n",
    "ax = scatter_1(q19, \"Rating\", \"Average text length\") \n",
    "ax.set_xlim(0,5.2)\n",
    "q19    "
   ]
  },
  {
   "cell_type": "code",
   "execution_count": 23,
   "metadata": {},
   "outputs": [
    {
     "data": {
      "text/plain": [
       "{'Fire Tablet, 7 Display, Wi-Fi, 8 GB - Includes Special Offers, Magenta': 4.506039150354019,\n",
       " 'All-New Fire HD 8 Tablet, 8 HD Display, Wi-Fi, 16 GB - Includes Special Offers, Magenta': 4.6,\n",
       " 'Kindle Oasis E-reader with Leather Charging Cover - Merlot, 6 High-Resolution Display (300 ppi), Wi-Fi - Includes Special Offers': 4.866666666666666,\n",
       " 'All-New Fire HD 8 Tablet, 8 HD Display, Wi-Fi, 32 GB - Includes Special Offers, Magenta': 4.574468085106383,\n",
       " 'Fire HD 8 Tablet with Alexa, 8 HD Display, 32 GB, Tangerine - with Special Offers': 3.8333333333333335,\n",
       " 'All-New Kindle E-reader - Black, 6\" Glare-Free Touchscreen Display, Wi-Fi - Includes Special Offers': 4.590163934426229,\n",
       " 'Amazon 9W PowerFast Official OEM USB Charger and Power Adapter for Fire Tablets and Kindle eReaders': 4.7272727272727275,\n",
       " 'Amazon Tap Smart Assistant Alexa enabled (black) Brand New': 4.6909090909090905,\n",
       " 'Amazon Echo (2nd Generation) Smart Assistant Oak Finish Priority Shipping': 5.0,\n",
       " 'Kindle Voyage E-reader, 6 High-Resolution Display (300 ppi) with Adaptive Built-in Light, PagePress Sensors, Wi-Fi - Includes Special Offers': 4.666666666666667,\n",
       " 'All-new Echo (2nd Generation) with improved sound, powered by Dolby, and a new design Walnut Finish': 5.0,\n",
       " 'Fire Kids Edition Tablet, 7 Display, Wi-Fi, 16 GB, Pink Kid-Proof Case': 4.603448275862069,\n",
       " 'All-New Fire HD 8 Tablet, 8 HD Display, Wi-Fi, 32 GB - Includes Special Offers, Black': 4.583333333333333}"
      ]
     },
     "execution_count": 23,
     "metadata": {},
     "output_type": "execute_result"
    }
   ],
   "source": [
    "#q20\n",
    "asins = bucketize(reviews, \"asin\")\n",
    "q20 = {}\n",
    "for k, v in asins.items():\n",
    "    cnt = 0\n",
    "    for a in v:\n",
    "        cnt += a.rating\n",
    "    q20[products[k]] = cnt/len(v) \n",
    "    \n",
    "q20"
   ]
  },
  {
   "cell_type": "code",
   "execution_count": 24,
   "metadata": {},
   "outputs": [
    {
     "data": {
      "text/plain": [
       "{2401: 4.506039150354019,\n",
       " 975: 4.6,\n",
       " 15: 4.866666666666666,\n",
       " 47: 4.574468085106383,\n",
       " 6: 3.8333333333333335,\n",
       " 61: 4.590163934426229,\n",
       " 11: 4.7272727272727275,\n",
       " 165: 4.6909090909090905,\n",
       " 1: 5.0,\n",
       " 126: 4.666666666666667,\n",
       " 174: 4.603448275862069,\n",
       " 12: 4.583333333333333}"
      ]
     },
     "execution_count": 24,
     "metadata": {},
     "output_type": "execute_result"
    },
    {
     "data": {
      "image/png": "[encoded data removed]",
      "text/plain": [
       "<Figure size 432x288 with 1 Axes>"
      ]
     },
     "metadata": {
      "needs_background": "light"
     },
     "output_type": "display_data"
    }
   ],
   "source": [
    "#q21\n",
    "q21 = {}\n",
    "for k, v in asins.items():\n",
    "    cnt = 0\n",
    "    for a in v:\n",
    "        cnt += a.rating\n",
    "    q21[len(v)] = cnt/len(v) \n",
    "    \n",
    "ax = scatter_1(q21, \"Number of Reviews\", \"Average rating\")\n",
    "ax.set_ylim(0,5.2)\n",
    "\n",
    "q21"
   ]
  },
  {
   "cell_type": "code",
   "execution_count": 25,
   "metadata": {},
   "outputs": [
    {
     "data": {
      "image/png": "[encoded data removed]",
      "text/plain": [
       "<Figure size 432x288 with 1 Axes>"
      ]
     },
     "execution_count": 25,
     "metadata": {},
     "output_type": "execute_result"
    }
   ],
   "source": [
    "#q22\n",
    "ax.set_xlim(0,182)\n",
    "ax.figure"
   ]
  },
  {
   "cell_type": "code",
   "execution_count": 26,
   "metadata": {},
   "outputs": [
    {
     "data": {
      "text/plain": [
       "{'03': 19,\n",
       " '01': 50,\n",
       " '04': 10,\n",
       " '11': 9,\n",
       " '02': 13,\n",
       " '05': 15,\n",
       " '12': 29,\n",
       " '06': 8,\n",
       " '09': 13,\n",
       " '10': 7,\n",
       " '07': 1}"
      ]
     },
     "execution_count": 26,
     "metadata": {},
     "output_type": "execute_result"
    },
    {
     "data": {
      "image/png": "[encoded data removed]",
      "text/plain": [
       "<Figure size 432x288 with 1 Axes>"
      ]
     },
     "metadata": {
      "needs_background": "light"
     },
     "output_type": "display_data"
    }
   ],
   "source": [
    "#q23\n",
    "def bucketize_1(lookup_list):\n",
    "    buck = {}\n",
    "    for row in lookup_list:\n",
    "        keys = row.date[5:7]\n",
    "        if keys in buck:\n",
    "            buck[keys].append(row)\n",
    "        else:\n",
    "            buck[keys] = [row]\n",
    "    return buck  \n",
    "\n",
    "def plot_dict(d, xlabel=\"Please Label Me!!!\", ylabel=\"Please Label Me!!!\"):\n",
    "    ax = pandas.Series(d).sort_index().plot.bar(color=\"black\", fontsize=16)\n",
    "    ax.set_ylabel(ylabel, fontsize=16)\n",
    "    ax.set_xlabel(xlabel, fontsize=16)\n",
    "    \n",
    "def product_month(product_name):\n",
    "    ans = {}\n",
    "    for k, v in asins.items():\n",
    "        if products[k] == product_name:\n",
    "            buck = {}\n",
    "            lookup_list = v\n",
    "            for row in lookup_list:\n",
    "                keys = row.date[5:7]\n",
    "                if keys in buck:\n",
    "                    buck[keys] += 1\n",
    "                else:\n",
    "                    buck[keys] = 1\n",
    "            ans = buck\n",
    "    return ans\n",
    "\n",
    "q23 = product_month('Fire Kids Edition Tablet, 7 Display, Wi-Fi, 16 GB, Pink Kid-Proof Case')\n",
    "plot_dict(q23, \"Month\", \"Number of reviews\")        \n",
    "q23"
   ]
  },
  {
   "cell_type": "code",
   "execution_count": 27,
   "metadata": {},
   "outputs": [
    {
     "data": {
      "text/plain": [
       "{'01': 960,\n",
       " '07': 102,\n",
       " '06': 135,\n",
       " '03': 243,\n",
       " '02': 157,\n",
       " '12': 509,\n",
       " '04': 46,\n",
       " '10': 21,\n",
       " '09': 99,\n",
       " '08': 110,\n",
       " '05': 8,\n",
       " '11': 11}"
      ]
     },
     "execution_count": 27,
     "metadata": {},
     "output_type": "execute_result"
    },
    {
     "data": {
      "image/png": "[encoded data removed]",
      "text/plain": [
       "<Figure size 432x288 with 1 Axes>"
      ]
     },
     "metadata": {
      "needs_background": "light"
     },
     "output_type": "display_data"
    }
   ],
   "source": [
    "#q24\n",
    "q24 = product_month('Fire Tablet, 7 Display, Wi-Fi, 8 GB - Includes Special Offers, Magenta')\n",
    "plot_dict(q24, \"Month\", \"Number of reviews\")        \n",
    "q24"
   ]
  },
  {
   "cell_type": "code",
   "execution_count": 28,
   "metadata": {},
   "outputs": [
    {
     "data": {
      "text/plain": [
       "['broken_file\\\\rating4\\\\very_helpful\\\\very_helpful.json']"
      ]
     },
     "execution_count": 28,
     "metadata": {},
     "output_type": "execute_result"
    }
   ],
   "source": [
    "#q25\n",
    "#os walk\n",
    "paths = []\n",
    "for root, dirs, files in os.walk(\"broken_file\", topdown=False):\n",
    "    for name in files:\n",
    "        paths.append(os.path.join(root, name))\n",
    "        \n",
    "sorted(paths, reverse = True)\n",
    "\n",
    "# recursive function\n",
    "def get_file_paths(parent):\n",
    "    names = sorted(os.listdir(parent), reverse = True)\n",
    "    paths = []\n",
    "    for name in names:\n",
    "        path = os.path.join(parent, name)\n",
    "        if os.path.isdir(path):\n",
    "            paths += get_file_paths(path)\n",
    "        elif name[0] != \".\":\n",
    "            paths.append(path)\n",
    "    return paths\n",
    "\n",
    "get_file_paths(os.path.join('broken_file', 'rating4', 'very_helpful'))"
   ]
  },
  {
   "cell_type": "code",
   "execution_count": 29,
   "metadata": {},
   "outputs": [
    {
     "data": {
      "text/plain": [
       "['broken_file\\\\rating5\\\\others.json',\n",
       " 'broken_file\\\\rating5\\\\helpful\\\\helpful.json']"
      ]
     },
     "execution_count": 29,
     "metadata": {},
     "output_type": "execute_result"
    }
   ],
   "source": [
    "#q26\n",
    "get_file_paths(os.path.join('broken_file', 'rating5'))"
   ]
  },
  {
   "cell_type": "code",
   "execution_count": 30,
   "metadata": {},
   "outputs": [
    {
     "data": {
      "text/plain": [
       "['broken_file\\\\rating5\\\\others.json',\n",
       " 'broken_file\\\\rating5\\\\helpful\\\\helpful.json',\n",
       " 'broken_file\\\\rating4\\\\very_helpful\\\\very_helpful.json',\n",
       " 'broken_file\\\\rating4\\\\others\\\\short\\\\short.json',\n",
       " 'broken_file\\\\rating4\\\\others\\\\others\\\\others.json',\n",
       " 'broken_file\\\\rating4\\\\not_helpful.json',\n",
       " 'broken_file\\\\rating3\\\\others\\\\others.json',\n",
       " 'broken_file\\\\rating3\\\\long\\\\long.json',\n",
       " 'broken_file\\\\others.json']"
      ]
     },
     "execution_count": 30,
     "metadata": {},
     "output_type": "execute_result"
    }
   ],
   "source": [
    "#q27\n",
    "paths = get_file_paths('broken_file')\n",
    "paths"
   ]
  },
  {
   "cell_type": "code",
   "execution_count": 31,
   "metadata": {},
   "outputs": [
    {
     "data": {
      "text/plain": [
       "1"
      ]
     },
     "execution_count": 31,
     "metadata": {},
     "output_type": "execute_result"
    }
   ],
   "source": [
    "#q28\n",
    "broken_reviews = {}\n",
    "for path in paths:\n",
    "    data = openJSON(path)\n",
    "    broken_reviews.update(data)\n",
    "\n",
    "broken_asins = []\n",
    "for k,v in broken_reviews.items():\n",
    "    keys = v[1]\n",
    "    if keys not in broken_asins:\n",
    "        broken_asins.append(keys)\n",
    "        \n",
    "len(broken_asins)"
   ]
  },
  {
   "cell_type": "code",
   "execution_count": 32,
   "metadata": {},
   "outputs": [
    {
     "data": {
      "text/plain": [
       "4995"
      ]
     },
     "execution_count": 32,
     "metadata": {},
     "output_type": "execute_result"
    }
   ],
   "source": [
    "#q29\n",
    "# JSON string\n",
    "json_str = json.dumps(broken_reviews)\n",
    "\n",
    "# save to file\n",
    "f = open(\"broken_data.json\", \"w\", encoding=\"utf-8\")\n",
    "f.write(json_str)\n",
    "f.close()\n",
    "\n",
    "reviews += get_reviews(os.path.join(\"data\",'review3.csv'), 'broken_data.json')\n",
    "os.remove('broken_data.json')\n",
    "len(reviews)"
   ]
  },
  {
   "cell_type": "code",
   "execution_count": 33,
   "metadata": {},
   "outputs": [
    {
     "data": {
      "text/plain": [
       "-0.039407079451942564"
      ]
     },
     "execution_count": 33,
     "metadata": {},
     "output_type": "execute_result"
    }
   ],
   "source": [
    "#q30\n",
    "asins = bucketize(reviews, \"asin\")\n",
    "q30 = 0\n",
    "for k, v in asins.items():\n",
    "    cnt = 0\n",
    "    if products[k] == \"Fire Tablet, 7 Display, Wi-Fi, 8 GB - Includes Special Offers, Magenta\":\n",
    "        for a in v:\n",
    "            cnt += a.rating\n",
    "        q30 = cnt/len(v) \n",
    "\n",
    "prev = q20['Fire Tablet, 7 Display, Wi-Fi, 8 GB - Includes Special Offers, Magenta']        \n",
    "(q30 - prev)/prev*100"
   ]
  }
 ],
 "metadata": {
  "kernelspec": {
   "display_name": "Python 3",
   "language": "python",
   "name": "python3"
  },
  "language_info": {
   "codemirror_mode": {
    "name": "ipython",
    "version": 3
   },
   "file_extension": ".py",
   "mimetype": "text/x-python",
   "name": "python",
   "nbconvert_exporter": "python",
   "pygments_lexer": "ipython3",
   "version": "3.7.0"
  }
 },
 "nbformat": 4,
 "nbformat_minor": 4
}
