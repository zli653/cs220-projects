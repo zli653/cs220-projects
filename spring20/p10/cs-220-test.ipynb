{
 "cells": [
  {
   "cell_type": "code",
   "execution_count": 1,
   "metadata": {},
   "outputs": [],
   "source": [
    "import requests, os\n",
    "\n",
    "def download(filename, url):\n",
    "    # We do not download again if the file already exists\n",
    "    if os.path.exists(filename):\n",
    "        return (str(filename) + \" already exists!\")\n",
    "\n",
    "    # Write the code to download the file from URL\n",
    "    # and save it in `filename`\n",
    "    r = requests.get(url)\n",
    "    r.raise_for_status()\n",
    "    data = r.text\n",
    "    f = open(filename, \"w\", encoding=\"utf-8\")\n",
    "    f.write(data)\n",
    "    f.close()\n",
    "    \n",
    "    return (str(filename) + \" created!\")\n",
    "\n",
    "download('lint.py', \"https://github.com/tylerharter/cs301-projects/blob/master/linter/lint.py\")\n",
    "from lint import lint"
   ]
  },
  {
   "cell_type": "code",
   "execution_count": 2,
   "metadata": {},
   "outputs": [
    {
     "data": {
      "text/plain": [
       "174"
      ]
     },
     "execution_count": 2,
     "metadata": {},
     "output_type": "execute_result"
    }
   ],
   "source": [
    "#q1\n",
    "import pandas as pd\n",
    "\n",
    "download('countries.json', \"https://raw.githubusercontent.com/msyamkumar/cs220-projects/master/spring20/p10/countries.json\")\n",
    "countries = pd.read_json('countries.json')\n",
    "len(countries.country.unique())"
   ]
  },
  {
   "cell_type": "code",
   "execution_count": 3,
   "metadata": {},
   "outputs": [
    {
     "data": {
      "text/plain": [
       "6261901793"
      ]
     },
     "execution_count": 3,
     "metadata": {},
     "output_type": "execute_result"
    }
   ],
   "source": [
    "#q2\n",
    "countries.population.sum()"
   ]
  },
  {
   "cell_type": "code",
   "execution_count": 4,
   "metadata": {},
   "outputs": [
    {
     "data": {
      "text/plain": [
       "['Abu Dhabi',\n",
       " 'Abuja',\n",
       " 'Accra',\n",
       " 'Addis Ababa',\n",
       " 'Algiers',\n",
       " 'Amman',\n",
       " 'Amsterdam',\n",
       " 'Ankara',\n",
       " 'Antananarivo',\n",
       " 'Apia',\n",
       " 'Ashgabat',\n",
       " 'Asmara',\n",
       " 'Astana',\n",
       " 'Asuncion',\n",
       " 'Athens',\n",
       " 'Baghdad',\n",
       " 'Baku',\n",
       " 'Bamako',\n",
       " 'Bangkok',\n",
       " 'Beijing',\n",
       " 'Beirut',\n",
       " 'Belmopan',\n",
       " 'Berlin',\n",
       " 'Bern',\n",
       " 'Bishkek',\n",
       " 'Bissau',\n",
       " 'Bogota',\n",
       " 'Brasilia',\n",
       " 'Bridgetown',\n",
       " 'Brussels',\n",
       " 'Bucharest',\n",
       " 'Budapest',\n",
       " 'Buenos Aires',\n",
       " 'Bujumbura',\n",
       " 'Cairo',\n",
       " 'Canberra',\n",
       " 'Caracas',\n",
       " 'Castries',\n",
       " 'Chisinau',\n",
       " 'Colombo',\n",
       " 'Conakry',\n",
       " 'Copenhagen',\n",
       " 'Dakar',\n",
       " 'Damascus',\n",
       " 'Dar es Salaam',\n",
       " 'Dhaka',\n",
       " 'Djibouti',\n",
       " 'Doha',\n",
       " 'Dublin',\n",
       " 'Dushanbe',\n",
       " 'Freetown',\n",
       " 'Gaborone',\n",
       " 'George Town',\n",
       " 'Georgetown',\n",
       " 'Guatemala City',\n",
       " 'Hagatna',\n",
       " 'Hamilton',\n",
       " 'Hanoi',\n",
       " 'Harare',\n",
       " 'Havana',\n",
       " 'Helsinki',\n",
       " 'Islamabad',\n",
       " 'Jakarta',\n",
       " 'Jamestown',\n",
       " 'Jerusalem',\n",
       " 'Kabul',\n",
       " 'Kampala',\n",
       " 'Kathmandu',\n",
       " 'Khartoum',\n",
       " 'Kigali',\n",
       " 'Kingston',\n",
       " 'Kingstown',\n",
       " 'Kuala Lumpur',\n",
       " 'Kuwait City',\n",
       " 'Kyiv',\n",
       " 'La Paz',\n",
       " 'Libreville',\n",
       " 'Lilongwe',\n",
       " 'Lima',\n",
       " 'Lisbon',\n",
       " 'Ljubljana',\n",
       " 'Lome',\n",
       " 'London',\n",
       " 'Lusaka',\n",
       " 'Luxembourg',\n",
       " 'Madrid',\n",
       " 'Majuro',\n",
       " 'Malabo',\n",
       " 'Male',\n",
       " 'Managua',\n",
       " 'Manama',\n",
       " 'Manila',\n",
       " 'Maputo',\n",
       " 'Maseru',\n",
       " 'Mbabane',\n",
       " 'Melekeok',\n",
       " 'Mexico City',\n",
       " 'Minsk',\n",
       " 'Mogadishu',\n",
       " 'Monaco',\n",
       " 'Monrovia',\n",
       " 'Montevideo',\n",
       " 'Moroni',\n",
       " 'Moscow',\n",
       " 'Muscat',\n",
       " 'Nairobi',\n",
       " 'New Delhi',\n",
       " 'Niamey',\n",
       " 'Nouakchott',\n",
       " 'Noumea',\n",
       " 'Nuku’alofa',\n",
       " 'N’Djamena',\n",
       " 'Oranjestad',\n",
       " 'Oslo',\n",
       " 'Ottawa',\n",
       " 'Ouagadougou',\n",
       " 'Panama City',\n",
       " 'Papeete',\n",
       " 'Paramaribo',\n",
       " 'Paris',\n",
       " 'Phnom Penh',\n",
       " 'Port Louis',\n",
       " 'Port Moresby',\n",
       " 'Port-Vila',\n",
       " 'Port-au-Prince',\n",
       " 'Porto-Novo',\n",
       " 'Prague',\n",
       " 'Praia',\n",
       " 'Pretoria',\n",
       " 'Quito',\n",
       " 'Rabat',\n",
       " 'Reykjavik',\n",
       " 'Riga',\n",
       " 'Riyadh',\n",
       " 'Rome',\n",
       " 'Roseau',\n",
       " 'Saint George’s',\n",
       " 'San Jose',\n",
       " 'San Juan',\n",
       " 'San Marino',\n",
       " 'San Salvador',\n",
       " 'Sanaa',\n",
       " 'Santiago',\n",
       " 'Santo Domingo',\n",
       " 'Singapore',\n",
       " 'Sofia',\n",
       " 'Stockholm',\n",
       " 'Suva',\n",
       " 'Taipei',\n",
       " 'Tallinn',\n",
       " 'Tashkent',\n",
       " 'Tbilisi',\n",
       " 'Tegucigalpa',\n",
       " 'Tehran',\n",
       " 'The Valley',\n",
       " 'Thimphu',\n",
       " 'Tirana',\n",
       " 'Tokyo',\n",
       " 'Tripoli',\n",
       " 'Tunis',\n",
       " 'Ulaanbaatar',\n",
       " 'Vaduz',\n",
       " 'Valletta',\n",
       " 'Victoria',\n",
       " 'Vienna',\n",
       " 'Vientiane',\n",
       " 'Vilnius',\n",
       " 'Warsaw',\n",
       " 'Washington, D.C.',\n",
       " 'Wellington',\n",
       " 'Windhoek',\n",
       " 'Yaounde',\n",
       " 'Yerevan',\n",
       " 'Zagreb']"
      ]
     },
     "execution_count": 4,
     "metadata": {},
     "output_type": "execute_result"
    }
   ],
   "source": [
    "#q3\n",
    "download('capitals.json', \"https://raw.githubusercontent.com/msyamkumar/cs220-projects/master/spring20/p10/capitals.json\")\n",
    "capitals = pd.read_json('capitals.json')\n",
    "sorted(capitals.capital)"
   ]
  },
  {
   "cell_type": "code",
   "execution_count": 5,
   "metadata": {},
   "outputs": [
    {
     "data": {
      "text/html": [
       "<div>\n",
       "<style scoped>\n",
       "    .dataframe tbody tr th:only-of-type {\n",
       "        vertical-align: middle;\n",
       "    }\n",
       "\n",
       "    .dataframe tbody tr th {\n",
       "        vertical-align: top;\n",
       "    }\n",
       "\n",
       "    .dataframe thead th {\n",
       "        text-align: right;\n",
       "    }\n",
       "</style>\n",
       "<table border=\"1\" class=\"dataframe\">\n",
       "  <thead>\n",
       "    <tr style=\"text-align: right;\">\n",
       "      <th></th>\n",
       "      <th>country</th>\n",
       "      <th>capital</th>\n",
       "      <th>latitude</th>\n",
       "      <th>longitude</th>\n",
       "    </tr>\n",
       "  </thead>\n",
       "  <tbody>\n",
       "    <tr>\n",
       "      <th>0</th>\n",
       "      <td>Afghanistan</td>\n",
       "      <td>Kabul</td>\n",
       "      <td>34.516667</td>\n",
       "      <td>69.183333</td>\n",
       "    </tr>\n",
       "    <tr>\n",
       "      <th>1</th>\n",
       "      <td>Albania</td>\n",
       "      <td>Tirana</td>\n",
       "      <td>41.316667</td>\n",
       "      <td>19.816667</td>\n",
       "    </tr>\n",
       "    <tr>\n",
       "      <th>2</th>\n",
       "      <td>Algeria</td>\n",
       "      <td>Algiers</td>\n",
       "      <td>36.750000</td>\n",
       "      <td>3.050000</td>\n",
       "    </tr>\n",
       "    <tr>\n",
       "      <th>3</th>\n",
       "      <td>Anguilla</td>\n",
       "      <td>The Valley</td>\n",
       "      <td>18.216667</td>\n",
       "      <td>-63.050000</td>\n",
       "    </tr>\n",
       "    <tr>\n",
       "      <th>4</th>\n",
       "      <td>Argentina</td>\n",
       "      <td>Buenos Aires</td>\n",
       "      <td>-34.583333</td>\n",
       "      <td>-58.666667</td>\n",
       "    </tr>\n",
       "    <tr>\n",
       "      <th>...</th>\n",
       "      <td>...</td>\n",
       "      <td>...</td>\n",
       "      <td>...</td>\n",
       "      <td>...</td>\n",
       "    </tr>\n",
       "    <tr>\n",
       "      <th>169</th>\n",
       "      <td>Venezuela</td>\n",
       "      <td>Caracas</td>\n",
       "      <td>10.483333</td>\n",
       "      <td>-66.866667</td>\n",
       "    </tr>\n",
       "    <tr>\n",
       "      <th>170</th>\n",
       "      <td>Vietnam</td>\n",
       "      <td>Hanoi</td>\n",
       "      <td>21.033333</td>\n",
       "      <td>105.850000</td>\n",
       "    </tr>\n",
       "    <tr>\n",
       "      <th>171</th>\n",
       "      <td>Yemen</td>\n",
       "      <td>Sanaa</td>\n",
       "      <td>15.350000</td>\n",
       "      <td>44.200000</td>\n",
       "    </tr>\n",
       "    <tr>\n",
       "      <th>172</th>\n",
       "      <td>Zambia</td>\n",
       "      <td>Lusaka</td>\n",
       "      <td>-15.416667</td>\n",
       "      <td>28.283333</td>\n",
       "    </tr>\n",
       "    <tr>\n",
       "      <th>173</th>\n",
       "      <td>Zimbabwe</td>\n",
       "      <td>Harare</td>\n",
       "      <td>-17.816667</td>\n",
       "      <td>31.033333</td>\n",
       "    </tr>\n",
       "  </tbody>\n",
       "</table>\n",
       "<p>174 rows × 4 columns</p>\n",
       "</div>"
      ],
      "text/plain": [
       "         country       capital   latitude   longitude\n",
       "0    Afghanistan         Kabul  34.516667   69.183333\n",
       "1        Albania        Tirana  41.316667   19.816667\n",
       "2        Algeria       Algiers  36.750000    3.050000\n",
       "3       Anguilla    The Valley  18.216667  -63.050000\n",
       "4      Argentina  Buenos Aires -34.583333  -58.666667\n",
       "..           ...           ...        ...         ...\n",
       "169    Venezuela       Caracas  10.483333  -66.866667\n",
       "170      Vietnam         Hanoi  21.033333  105.850000\n",
       "171        Yemen         Sanaa  15.350000   44.200000\n",
       "172       Zambia        Lusaka -15.416667   28.283333\n",
       "173     Zimbabwe        Harare -17.816667   31.033333\n",
       "\n",
       "[174 rows x 4 columns]"
      ]
     },
     "execution_count": 5,
     "metadata": {},
     "output_type": "execute_result"
    }
   ],
   "source": [
    "capitals"
   ]
  },
  {
   "cell_type": "code",
   "execution_count": 6,
   "metadata": {},
   "outputs": [
    {
     "data": {
      "text/plain": [
       "'Rome'"
      ]
     },
     "execution_count": 6,
     "metadata": {},
     "output_type": "execute_result"
    }
   ],
   "source": [
    "#q4\n",
    "# for the first row in DataFrame or only one row\n",
    "# capitals[capitals.country == \"Italy\"].capital.iloc[0]\n",
    "capitals[capitals.country == \"Italy\"].capital.item()"
   ]
  },
  {
   "cell_type": "code",
   "execution_count": 7,
   "metadata": {},
   "outputs": [
    {
     "data": {
      "text/plain": [
       "'Belgium'"
      ]
     },
     "execution_count": 7,
     "metadata": {},
     "output_type": "execute_result"
    }
   ],
   "source": [
    "#q5\n",
    "capitals[capitals.capital == \"Brussels\"].country.item()"
   ]
  },
  {
   "cell_type": "code",
   "execution_count": 8,
   "metadata": {},
   "outputs": [
    {
     "data": {
      "text/plain": [
       "['New Zealand',\n",
       " 'Australia',\n",
       " 'Uruguay',\n",
       " 'Argentina',\n",
       " 'Chile',\n",
       " 'Lesotho',\n",
       " 'Swaziland']"
      ]
     },
     "execution_count": 8,
     "metadata": {},
     "output_type": "execute_result"
    }
   ],
   "source": [
    "#q6\n",
    "capitals.sort_values(by=[\"latitude\"]).iloc[:7].country.to_list()\n",
    "# list(capitals.sort_values(by=[\"latitude\"]).iloc[:7].country.values)\n",
    "# [v for k, v in capitals.sort_values(by=[\"latitude\"]).iloc[:7].country.items()]"
   ]
  },
  {
   "cell_type": "code",
   "execution_count": 9,
   "metadata": {},
   "outputs": [
    {
     "data": {
      "text/plain": [
       "['Iceland',\n",
       " 'Finland',\n",
       " 'Norway',\n",
       " 'Estonia',\n",
       " 'Sweden',\n",
       " 'Latvia',\n",
       " 'Russia',\n",
       " 'Denmark',\n",
       " 'Lithuania',\n",
       " 'Belarus']"
      ]
     },
     "execution_count": 9,
     "metadata": {},
     "output_type": "execute_result"
    }
   ],
   "source": [
    "#q7\n",
    "capitals.sort_values(by=[\"latitude\"], ascending = False).iloc[:10].country.to_list()"
   ]
  },
  {
   "cell_type": "code",
   "execution_count": 10,
   "metadata": {},
   "outputs": [
    {
     "data": {
      "text/plain": [
       "1.433899492072933"
      ]
     },
     "execution_count": 10,
     "metadata": {},
     "output_type": "execute_result"
    }
   ],
   "source": [
    "#q8\n",
    "rp = (43.070231,-89.411893)\n",
    "ws = (43.074645,-89.384113)\n",
    "\n",
    "from haversine import haversine, Unit\n",
    "# haversine(rp, ws, unit=Unit.MILES)\n",
    "\n",
    "import math\n",
    "\n",
    "(lat1, lon1) = rp\n",
    "(lat2, lon2) = ws\n",
    "[lon1, lat1, lon2, lat2] = map(math.radians, [lon1, lat1, lon2, lat2])\n",
    "dlon = lon2 - lon1\n",
    "dlat = lat2 - lat1\n",
    "a = (math.sin(dlat/2))**2 + math.cos(lat1) * math.cos(lat2) * (math.sin(dlon/2))**2\n",
    "c = 2 * math.asin(min(1,math.sqrt(a)))\n",
    "R = 3956\n",
    "d = R * c\n",
    "d"
   ]
  },
  {
   "cell_type": "code",
   "execution_count": 11,
   "metadata": {},
   "outputs": [
    {
     "data": {
      "text/plain": [
       "521.2217471002616"
      ]
     },
     "execution_count": 11,
     "metadata": {},
     "output_type": "execute_result"
    }
   ],
   "source": [
    "#q9\n",
    "# capitals[capitals.country == \"Norway\"].iloc[0,2:4]\n",
    "# [tuple(x) for x in capitals[capitals.country == \"Norway\"][[\"latitude\", \"longitude\"]].values.tolist()][0]\n",
    "Norway = capitals[capitals.country == \"Norway\"][[\"latitude\", \"longitude\"]].apply(tuple, axis=1).iloc[0]\n",
    "# tuple(zip(capitals[capitals.country == \"Norway\"][\"latitude\"], capitals[capitals.country == \"Norway\"][\"longitude\"]))[0]\n",
    "# (capitals[capitals.country == \"Norway\"][\"latitude\"].iloc[0], capitals[capitals.country == \"Norway\"][\"longitude\"].iloc[0])\n",
    "\n",
    "Germany = capitals[capitals.country == \"Germany\"][[\"latitude\", \"longitude\"]].apply(tuple, axis=1).iloc[0]\n",
    "haversine(Norway, Germany, unit=Unit.MILES)"
   ]
  },
  {
   "cell_type": "code",
   "execution_count": 12,
   "metadata": {},
   "outputs": [
    {
     "data": {
      "text/html": [
       "<div>\n",
       "<style scoped>\n",
       "    .dataframe tbody tr th:only-of-type {\n",
       "        vertical-align: middle;\n",
       "    }\n",
       "\n",
       "    .dataframe tbody tr th {\n",
       "        vertical-align: top;\n",
       "    }\n",
       "\n",
       "    .dataframe thead th {\n",
       "        text-align: right;\n",
       "    }\n",
       "</style>\n",
       "<table border=\"1\" class=\"dataframe\">\n",
       "  <thead>\n",
       "    <tr style=\"text-align: right;\">\n",
       "      <th></th>\n",
       "      <th>Switzerland</th>\n",
       "      <th>Netherlands</th>\n",
       "      <th>Spain</th>\n",
       "    </tr>\n",
       "  </thead>\n",
       "  <tbody>\n",
       "    <tr>\n",
       "      <th>Switzerland</th>\n",
       "      <td>NaN</td>\n",
       "      <td>392.302</td>\n",
       "      <td>715.303</td>\n",
       "    </tr>\n",
       "    <tr>\n",
       "      <th>Netherlands</th>\n",
       "      <td>392.302</td>\n",
       "      <td>NaN</td>\n",
       "      <td>920.326</td>\n",
       "    </tr>\n",
       "    <tr>\n",
       "      <th>Spain</th>\n",
       "      <td>715.303</td>\n",
       "      <td>920.326</td>\n",
       "      <td>NaN</td>\n",
       "    </tr>\n",
       "  </tbody>\n",
       "</table>\n",
       "</div>"
      ],
      "text/plain": [
       "            Switzerland Netherlands    Spain\n",
       "Switzerland         NaN     392.302  715.303\n",
       "Netherlands     392.302         NaN  920.326\n",
       "Spain           715.303     920.326      NaN"
      ]
     },
     "execution_count": 12,
     "metadata": {},
     "output_type": "execute_result"
    }
   ],
   "source": [
    "#q10\n",
    "loc = {}\n",
    "sel = [\"Switzerland\", \"Netherlands\", \"Spain\"]\n",
    "loc[\"Switzerland\"] = capitals[capitals.country == \"Switzerland\"][[\"latitude\", \"longitude\"]].apply(tuple, axis=1).iloc[0]\n",
    "loc[\"Netherlands\"] = capitals[capitals.country == \"Netherlands\"][[\"latitude\", \"longitude\"]].apply(tuple, axis=1).iloc[0]\n",
    "loc[\"Spain\"] = capitals[capitals.country == \"Spain\"][[\"latitude\", \"longitude\"]].apply(tuple, axis=1).iloc[0]\n",
    "dist = pd.DataFrame(index=sel,columns=sel)\n",
    "for a in sel:\n",
    "    for b in sel:\n",
    "        if a != b: \n",
    "            dist[a][b] = haversine(loc[a], loc[b], unit=Unit.MILES)\n",
    "\n",
    "dist"
   ]
  },
  {
   "cell_type": "code",
   "execution_count": 13,
   "metadata": {},
   "outputs": [
    {
     "data": {
      "text/html": [
       "<div>\n",
       "<style scoped>\n",
       "    .dataframe tbody tr th:only-of-type {\n",
       "        vertical-align: middle;\n",
       "    }\n",
       "\n",
       "    .dataframe tbody tr th {\n",
       "        vertical-align: top;\n",
       "    }\n",
       "\n",
       "    .dataframe thead th {\n",
       "        text-align: right;\n",
       "    }\n",
       "</style>\n",
       "<table border=\"1\" class=\"dataframe\">\n",
       "  <thead>\n",
       "    <tr style=\"text-align: right;\">\n",
       "      <th></th>\n",
       "      <th>Chile</th>\n",
       "      <th>Guyana</th>\n",
       "      <th>Colombia</th>\n",
       "      <th>Suriname</th>\n",
       "      <th>Brazil</th>\n",
       "      <th>Bolivia</th>\n",
       "      <th>Venezuela</th>\n",
       "      <th>Argentina</th>\n",
       "      <th>Peru</th>\n",
       "      <th>Ecuador</th>\n",
       "      <th>Uruguay</th>\n",
       "      <th>Paraguay</th>\n",
       "    </tr>\n",
       "  </thead>\n",
       "  <tbody>\n",
       "    <tr>\n",
       "      <th>Chile</th>\n",
       "      <td>NaN</td>\n",
       "      <td>2899.58</td>\n",
       "      <td>2638.49</td>\n",
       "      <td>2897.83</td>\n",
       "      <td>1871.04</td>\n",
       "      <td>1181.57</td>\n",
       "      <td>3045.78</td>\n",
       "      <td>691.266</td>\n",
       "      <td>1532.55</td>\n",
       "      <td>2351.85</td>\n",
       "      <td>833.985</td>\n",
       "      <td>964.308</td>\n",
       "    </tr>\n",
       "    <tr>\n",
       "      <th>Guyana</th>\n",
       "      <td>2899.58</td>\n",
       "      <td>NaN</td>\n",
       "      <td>1105.84</td>\n",
       "      <td>215.487</td>\n",
       "      <td>1710.26</td>\n",
       "      <td>1748.99</td>\n",
       "      <td>647.421</td>\n",
       "      <td>2859.52</td>\n",
       "      <td>1839.14</td>\n",
       "      <td>1484.23</td>\n",
       "      <td>2880.65</td>\n",
       "      <td>2215.83</td>\n",
       "    </tr>\n",
       "    <tr>\n",
       "      <th>Colombia</th>\n",
       "      <td>2638.49</td>\n",
       "      <td>1105.84</td>\n",
       "      <td>NaN</td>\n",
       "      <td>1304.31</td>\n",
       "      <td>2277.1</td>\n",
       "      <td>1513.17</td>\n",
       "      <td>639.807</td>\n",
       "      <td>2887.37</td>\n",
       "      <td>1168.32</td>\n",
       "      <td>451.319</td>\n",
       "      <td>2964.3</td>\n",
       "      <td>2339.25</td>\n",
       "    </tr>\n",
       "    <tr>\n",
       "      <th>Suriname</th>\n",
       "      <td>2897.83</td>\n",
       "      <td>215.487</td>\n",
       "      <td>1304.31</td>\n",
       "      <td>NaN</td>\n",
       "      <td>1573.77</td>\n",
       "      <td>1780.01</td>\n",
       "      <td>862.058</td>\n",
       "      <td>2801.84</td>\n",
       "      <td>1946.11</td>\n",
       "      <td>1662.86</td>\n",
       "      <td>2811.71</td>\n",
       "      <td>2155.36</td>\n",
       "    </tr>\n",
       "    <tr>\n",
       "      <th>Brazil</th>\n",
       "      <td>1871.04</td>\n",
       "      <td>1710.26</td>\n",
       "      <td>2277.1</td>\n",
       "      <td>1573.77</td>\n",
       "      <td>NaN</td>\n",
       "      <td>1343.23</td>\n",
       "      <td>2230.25</td>\n",
       "      <td>1460.16</td>\n",
       "      <td>1969.14</td>\n",
       "      <td>2346.22</td>\n",
       "      <td>1413.08</td>\n",
       "      <td>908.82</td>\n",
       "    </tr>\n",
       "    <tr>\n",
       "      <th>Bolivia</th>\n",
       "      <td>1181.57</td>\n",
       "      <td>1748.99</td>\n",
       "      <td>1513.17</td>\n",
       "      <td>1780.01</td>\n",
       "      <td>1343.23</td>\n",
       "      <td>NaN</td>\n",
       "      <td>1866.43</td>\n",
       "      <td>1380.42</td>\n",
       "      <td>670.394</td>\n",
       "      <td>1327.68</td>\n",
       "      <td>1468.28</td>\n",
       "      <td>907.432</td>\n",
       "    </tr>\n",
       "    <tr>\n",
       "      <th>Venezuela</th>\n",
       "      <td>3045.78</td>\n",
       "      <td>647.421</td>\n",
       "      <td>639.807</td>\n",
       "      <td>862.058</td>\n",
       "      <td>2230.25</td>\n",
       "      <td>1866.43</td>\n",
       "      <td>NaN</td>\n",
       "      <td>3159.83</td>\n",
       "      <td>1706.61</td>\n",
       "      <td>1088.82</td>\n",
       "      <td>3209.59</td>\n",
       "      <td>2546.58</td>\n",
       "    </tr>\n",
       "    <tr>\n",
       "      <th>Argentina</th>\n",
       "      <td>691.266</td>\n",
       "      <td>2859.52</td>\n",
       "      <td>2887.37</td>\n",
       "      <td>2801.84</td>\n",
       "      <td>1460.16</td>\n",
       "      <td>1380.42</td>\n",
       "      <td>3159.83</td>\n",
       "      <td>NaN</td>\n",
       "      <td>1937.82</td>\n",
       "      <td>2698.03</td>\n",
       "      <td>143.17</td>\n",
       "      <td>646.487</td>\n",
       "    </tr>\n",
       "    <tr>\n",
       "      <th>Peru</th>\n",
       "      <td>1532.55</td>\n",
       "      <td>1839.14</td>\n",
       "      <td>1168.32</td>\n",
       "      <td>1946.11</td>\n",
       "      <td>1969.14</td>\n",
       "      <td>670.394</td>\n",
       "      <td>1706.61</td>\n",
       "      <td>1937.82</td>\n",
       "      <td>NaN</td>\n",
       "      <td>823.629</td>\n",
       "      <td>2048</td>\n",
       "      <td>1559.72</td>\n",
       "    </tr>\n",
       "    <tr>\n",
       "      <th>Ecuador</th>\n",
       "      <td>2351.85</td>\n",
       "      <td>1484.23</td>\n",
       "      <td>451.319</td>\n",
       "      <td>1662.86</td>\n",
       "      <td>2346.22</td>\n",
       "      <td>1327.68</td>\n",
       "      <td>1088.82</td>\n",
       "      <td>2698.03</td>\n",
       "      <td>823.629</td>\n",
       "      <td>NaN</td>\n",
       "      <td>2793.15</td>\n",
       "      <td>2220.2</td>\n",
       "    </tr>\n",
       "    <tr>\n",
       "      <th>Uruguay</th>\n",
       "      <td>833.985</td>\n",
       "      <td>2880.65</td>\n",
       "      <td>2964.3</td>\n",
       "      <td>2811.71</td>\n",
       "      <td>1413.08</td>\n",
       "      <td>1468.28</td>\n",
       "      <td>3209.59</td>\n",
       "      <td>143.17</td>\n",
       "      <td>2048</td>\n",
       "      <td>2793.15</td>\n",
       "      <td>NaN</td>\n",
       "      <td>668.165</td>\n",
       "    </tr>\n",
       "    <tr>\n",
       "      <th>Paraguay</th>\n",
       "      <td>964.308</td>\n",
       "      <td>2215.83</td>\n",
       "      <td>2339.25</td>\n",
       "      <td>2155.36</td>\n",
       "      <td>908.82</td>\n",
       "      <td>907.432</td>\n",
       "      <td>2546.58</td>\n",
       "      <td>646.487</td>\n",
       "      <td>1559.72</td>\n",
       "      <td>2220.2</td>\n",
       "      <td>668.165</td>\n",
       "      <td>NaN</td>\n",
       "    </tr>\n",
       "  </tbody>\n",
       "</table>\n",
       "</div>"
      ],
      "text/plain": [
       "             Chile   Guyana Colombia Suriname   Brazil  Bolivia Venezuela  \\\n",
       "Chile          NaN  2899.58  2638.49  2897.83  1871.04  1181.57   3045.78   \n",
       "Guyana     2899.58      NaN  1105.84  215.487  1710.26  1748.99   647.421   \n",
       "Colombia   2638.49  1105.84      NaN  1304.31   2277.1  1513.17   639.807   \n",
       "Suriname   2897.83  215.487  1304.31      NaN  1573.77  1780.01   862.058   \n",
       "Brazil     1871.04  1710.26   2277.1  1573.77      NaN  1343.23   2230.25   \n",
       "Bolivia    1181.57  1748.99  1513.17  1780.01  1343.23      NaN   1866.43   \n",
       "Venezuela  3045.78  647.421  639.807  862.058  2230.25  1866.43       NaN   \n",
       "Argentina  691.266  2859.52  2887.37  2801.84  1460.16  1380.42   3159.83   \n",
       "Peru       1532.55  1839.14  1168.32  1946.11  1969.14  670.394   1706.61   \n",
       "Ecuador    2351.85  1484.23  451.319  1662.86  2346.22  1327.68   1088.82   \n",
       "Uruguay    833.985  2880.65   2964.3  2811.71  1413.08  1468.28   3209.59   \n",
       "Paraguay   964.308  2215.83  2339.25  2155.36   908.82  907.432   2546.58   \n",
       "\n",
       "          Argentina     Peru  Ecuador  Uruguay Paraguay  \n",
       "Chile       691.266  1532.55  2351.85  833.985  964.308  \n",
       "Guyana      2859.52  1839.14  1484.23  2880.65  2215.83  \n",
       "Colombia    2887.37  1168.32  451.319   2964.3  2339.25  \n",
       "Suriname    2801.84  1946.11  1662.86  2811.71  2155.36  \n",
       "Brazil      1460.16  1969.14  2346.22  1413.08   908.82  \n",
       "Bolivia     1380.42  670.394  1327.68  1468.28  907.432  \n",
       "Venezuela   3159.83  1706.61  1088.82  3209.59  2546.58  \n",
       "Argentina       NaN  1937.82  2698.03   143.17  646.487  \n",
       "Peru        1937.82      NaN  823.629     2048  1559.72  \n",
       "Ecuador     2698.03  823.629      NaN  2793.15   2220.2  \n",
       "Uruguay      143.17     2048  2793.15      NaN  668.165  \n",
       "Paraguay    646.487  1559.72   2220.2  668.165      NaN  "
      ]
     },
     "execution_count": 13,
     "metadata": {},
     "output_type": "execute_result"
    }
   ],
   "source": [
    "#q11\n",
    "loc = {}\n",
    "sel = countries[countries.continent == \"South America\"].country.tolist()\n",
    "for a in sel:\n",
    "    loc[a] = capitals[capitals.country == a][[\"latitude\", \"longitude\"]].apply(tuple, axis=1).iloc[0]\n",
    "\n",
    "dist = pd.DataFrame(index=sel,columns=sel)\n",
    "for a in sel:\n",
    "    for b in sel:\n",
    "        if a != b: \n",
    "            dist[a][b] = haversine(loc[a], loc[b], unit=Unit.MILES)   \n",
    "            \n",
    "dist            "
   ]
  },
  {
   "cell_type": "code",
   "execution_count": 14,
   "metadata": {},
   "outputs": [
    {
     "data": {
      "text/plain": [
       "'Bolivia'"
      ]
     },
     "execution_count": 14,
     "metadata": {},
     "output_type": "execute_result"
    }
   ],
   "source": [
    "#q12\n",
    "dist.mean().sort_values().index.tolist()[0]"
   ]
  },
  {
   "cell_type": "code",
   "execution_count": 15,
   "metadata": {},
   "outputs": [
    {
     "data": {
      "text/plain": [
       "'Uruguay'"
      ]
     },
     "execution_count": 15,
     "metadata": {},
     "output_type": "execute_result"
    }
   ],
   "source": [
    "#q13\n",
    "dist.mean().sort_values(ascending=False).index.tolist()[0]"
   ]
  },
  {
   "cell_type": "code",
   "execution_count": 16,
   "metadata": {},
   "outputs": [
    {
     "data": {
      "text/html": [
       "<div>\n",
       "<style scoped>\n",
       "    .dataframe tbody tr th:only-of-type {\n",
       "        vertical-align: middle;\n",
       "    }\n",
       "\n",
       "    .dataframe tbody tr th {\n",
       "        vertical-align: top;\n",
       "    }\n",
       "\n",
       "    .dataframe thead th {\n",
       "        text-align: right;\n",
       "    }\n",
       "</style>\n",
       "<table border=\"1\" class=\"dataframe\">\n",
       "  <thead>\n",
       "    <tr style=\"text-align: right;\">\n",
       "      <th></th>\n",
       "      <th>nearest</th>\n",
       "      <th>distance</th>\n",
       "    </tr>\n",
       "  </thead>\n",
       "  <tbody>\n",
       "    <tr>\n",
       "      <th>Chile</th>\n",
       "      <td>Argentina</td>\n",
       "      <td>691.266343</td>\n",
       "    </tr>\n",
       "    <tr>\n",
       "      <th>Guyana</th>\n",
       "      <td>Suriname</td>\n",
       "      <td>215.486643</td>\n",
       "    </tr>\n",
       "    <tr>\n",
       "      <th>Colombia</th>\n",
       "      <td>Ecuador</td>\n",
       "      <td>451.318925</td>\n",
       "    </tr>\n",
       "    <tr>\n",
       "      <th>Suriname</th>\n",
       "      <td>Guyana</td>\n",
       "      <td>215.486643</td>\n",
       "    </tr>\n",
       "    <tr>\n",
       "      <th>Brazil</th>\n",
       "      <td>Paraguay</td>\n",
       "      <td>908.819633</td>\n",
       "    </tr>\n",
       "    <tr>\n",
       "      <th>Bolivia</th>\n",
       "      <td>Peru</td>\n",
       "      <td>670.393988</td>\n",
       "    </tr>\n",
       "    <tr>\n",
       "      <th>Venezuela</th>\n",
       "      <td>Colombia</td>\n",
       "      <td>639.807399</td>\n",
       "    </tr>\n",
       "    <tr>\n",
       "      <th>Argentina</th>\n",
       "      <td>Uruguay</td>\n",
       "      <td>143.169807</td>\n",
       "    </tr>\n",
       "    <tr>\n",
       "      <th>Peru</th>\n",
       "      <td>Bolivia</td>\n",
       "      <td>670.393988</td>\n",
       "    </tr>\n",
       "    <tr>\n",
       "      <th>Ecuador</th>\n",
       "      <td>Colombia</td>\n",
       "      <td>451.318925</td>\n",
       "    </tr>\n",
       "    <tr>\n",
       "      <th>Uruguay</th>\n",
       "      <td>Argentina</td>\n",
       "      <td>143.169807</td>\n",
       "    </tr>\n",
       "    <tr>\n",
       "      <th>Paraguay</th>\n",
       "      <td>Argentina</td>\n",
       "      <td>646.487382</td>\n",
       "    </tr>\n",
       "  </tbody>\n",
       "</table>\n",
       "</div>"
      ],
      "text/plain": [
       "             nearest    distance\n",
       "Chile      Argentina  691.266343\n",
       "Guyana      Suriname  215.486643\n",
       "Colombia     Ecuador  451.318925\n",
       "Suriname      Guyana  215.486643\n",
       "Brazil      Paraguay  908.819633\n",
       "Bolivia         Peru  670.393988\n",
       "Venezuela   Colombia  639.807399\n",
       "Argentina    Uruguay  143.169807\n",
       "Peru         Bolivia  670.393988\n",
       "Ecuador     Colombia  451.318925\n",
       "Uruguay    Argentina  143.169807\n",
       "Paraguay   Argentina  646.487382"
      ]
     },
     "execution_count": 16,
     "metadata": {},
     "output_type": "execute_result"
    }
   ],
   "source": [
    "#q14\n",
    "pd.concat([dist.astype(float).idxmin(),  dist.min()], axis=1, keys=[\"nearest\",\"distance\"])"
   ]
  },
  {
   "cell_type": "code",
   "execution_count": 17,
   "metadata": {},
   "outputs": [
    {
     "data": {
      "text/html": [
       "<div>\n",
       "<style scoped>\n",
       "    .dataframe tbody tr th:only-of-type {\n",
       "        vertical-align: middle;\n",
       "    }\n",
       "\n",
       "    .dataframe tbody tr th {\n",
       "        vertical-align: top;\n",
       "    }\n",
       "\n",
       "    .dataframe thead th {\n",
       "        text-align: right;\n",
       "    }\n",
       "</style>\n",
       "<table border=\"1\" class=\"dataframe\">\n",
       "  <thead>\n",
       "    <tr style=\"text-align: right;\">\n",
       "      <th></th>\n",
       "      <th>furthest</th>\n",
       "      <th>distance</th>\n",
       "    </tr>\n",
       "  </thead>\n",
       "  <tbody>\n",
       "    <tr>\n",
       "      <th>Chile</th>\n",
       "      <td>Venezuela</td>\n",
       "      <td>3045.782196</td>\n",
       "    </tr>\n",
       "    <tr>\n",
       "      <th>Guyana</th>\n",
       "      <td>Chile</td>\n",
       "      <td>2899.575619</td>\n",
       "    </tr>\n",
       "    <tr>\n",
       "      <th>Colombia</th>\n",
       "      <td>Uruguay</td>\n",
       "      <td>2964.298613</td>\n",
       "    </tr>\n",
       "    <tr>\n",
       "      <th>Suriname</th>\n",
       "      <td>Chile</td>\n",
       "      <td>2897.832084</td>\n",
       "    </tr>\n",
       "    <tr>\n",
       "      <th>Brazil</th>\n",
       "      <td>Ecuador</td>\n",
       "      <td>2346.221468</td>\n",
       "    </tr>\n",
       "    <tr>\n",
       "      <th>Bolivia</th>\n",
       "      <td>Venezuela</td>\n",
       "      <td>1866.433063</td>\n",
       "    </tr>\n",
       "    <tr>\n",
       "      <th>Venezuela</th>\n",
       "      <td>Uruguay</td>\n",
       "      <td>3209.590944</td>\n",
       "    </tr>\n",
       "    <tr>\n",
       "      <th>Argentina</th>\n",
       "      <td>Venezuela</td>\n",
       "      <td>3159.828108</td>\n",
       "    </tr>\n",
       "    <tr>\n",
       "      <th>Peru</th>\n",
       "      <td>Uruguay</td>\n",
       "      <td>2048.000119</td>\n",
       "    </tr>\n",
       "    <tr>\n",
       "      <th>Ecuador</th>\n",
       "      <td>Uruguay</td>\n",
       "      <td>2793.145008</td>\n",
       "    </tr>\n",
       "    <tr>\n",
       "      <th>Uruguay</th>\n",
       "      <td>Venezuela</td>\n",
       "      <td>3209.590944</td>\n",
       "    </tr>\n",
       "    <tr>\n",
       "      <th>Paraguay</th>\n",
       "      <td>Venezuela</td>\n",
       "      <td>2546.575870</td>\n",
       "    </tr>\n",
       "  </tbody>\n",
       "</table>\n",
       "</div>"
      ],
      "text/plain": [
       "            furthest     distance\n",
       "Chile      Venezuela  3045.782196\n",
       "Guyana         Chile  2899.575619\n",
       "Colombia     Uruguay  2964.298613\n",
       "Suriname       Chile  2897.832084\n",
       "Brazil       Ecuador  2346.221468\n",
       "Bolivia    Venezuela  1866.433063\n",
       "Venezuela    Uruguay  3209.590944\n",
       "Argentina  Venezuela  3159.828108\n",
       "Peru         Uruguay  2048.000119\n",
       "Ecuador      Uruguay  2793.145008\n",
       "Uruguay    Venezuela  3209.590944\n",
       "Paraguay   Venezuela  2546.575870"
      ]
     },
     "execution_count": 17,
     "metadata": {},
     "output_type": "execute_result"
    }
   ],
   "source": [
    "#q15\n",
    "pd.concat([dist.astype(float).idxmax(),  dist.max()], axis=1, keys=[\"furthest\",\"distance\"])"
   ]
  },
  {
   "cell_type": "code",
   "execution_count": 18,
   "metadata": {},
   "outputs": [],
   "source": [
    "#optional stage1 q1\n",
    "download('capitals.html', 'https://raw.githubusercontent.com/msyamkumar/cs220-projects/master/spring20/p10/techslides-snapshot.html')\n",
    "from bs4 import BeautifulSoup\n",
    "import codecs\n",
    "import json\n",
    "\n",
    "f = codecs.open(\"capitals.html\", \"r\")\n",
    "html = f.read()\n",
    "doc = BeautifulSoup(html, \"html.parser\")\n",
    "tb_list = [] \n",
    "for a in doc.find(\"table\").find_all(\"tr\")[1:]:\n",
    "    td_list = a.find_all(\"td\")\n",
    "    td_dict= {}\n",
    "    td_dict[\"country\"] = td_list[0].text\n",
    "    td_dict[\"capital\"] = td_list[1].text\n",
    "    td_dict[\"latitude\"] = float(td_list[2].text)\n",
    "    td_dict[\"longitude\"] = float(td_list[3].text)\n",
    "    tb_list.append(td_dict)\n",
    "    \n",
    "# filter countries.json\n",
    "\n",
    "# JSON string\n",
    "json_str = json.dumps(tb_list)\n",
    "\n",
    "# save to file\n",
    "f = open(\"capitals_1.json\", \"w\", encoding=\"utf-8\")\n",
    "f.write(json_str)\n",
    "f.close()"
   ]
  },
  {
   "cell_type": "code",
   "execution_count": 19,
   "metadata": {},
   "outputs": [
    {
     "data": {
      "text/plain": [
       "'Chad'"
      ]
     },
     "execution_count": 19,
     "metadata": {},
     "output_type": "execute_result"
    }
   ],
   "source": [
    "#optional stage1 q2\n",
    "countries[(countries.coastline == 0) & (countries.continent == \"Africa\")].sort_values(by=[\"area\"], ascending = False).iloc[0].country"
   ]
  },
  {
   "cell_type": "code",
   "execution_count": 20,
   "metadata": {},
   "outputs": [
    {
     "data": {
      "text/plain": [
       "'Maldives'"
      ]
     },
     "execution_count": 20,
     "metadata": {},
     "output_type": "execute_result"
    }
   ],
   "source": [
    "#optional stage1 q3\n",
    "countries[(countries.coastline > 0) & (countries.continent == \"Asia\")].sort_values(by=[\"area\"]).iloc[0].country"
   ]
  },
  {
   "cell_type": "code",
   "execution_count": 21,
   "metadata": {},
   "outputs": [
    {
     "data": {
      "text/plain": [
       "'Brazil'"
      ]
     },
     "execution_count": 21,
     "metadata": {},
     "output_type": "execute_result"
    }
   ],
   "source": [
    "#optional stage1 q4\n",
    "countries[(countries.coastline > 0) & (countries.continent == \"South America\")].sort_values(by=[\"population\"], ascending = False).iloc[0].country"
   ]
  },
  {
   "cell_type": "code",
   "execution_count": 22,
   "metadata": {},
   "outputs": [
    {
     "data": {
      "text/html": [
       "<div>\n",
       "<style scoped>\n",
       "    .dataframe tbody tr th:only-of-type {\n",
       "        vertical-align: middle;\n",
       "    }\n",
       "\n",
       "    .dataframe tbody tr th {\n",
       "        vertical-align: top;\n",
       "    }\n",
       "\n",
       "    .dataframe thead th {\n",
       "        text-align: right;\n",
       "    }\n",
       "</style>\n",
       "<table border=\"1\" class=\"dataframe\">\n",
       "  <thead>\n",
       "    <tr style=\"text-align: right;\">\n",
       "      <th></th>\n",
       "      <th>birth-rate</th>\n",
       "      <th>death-rate</th>\n",
       "    </tr>\n",
       "  </thead>\n",
       "  <tbody>\n",
       "    <tr>\n",
       "      <th>count</th>\n",
       "      <td>174.000000</td>\n",
       "      <td>174.000000</td>\n",
       "    </tr>\n",
       "    <tr>\n",
       "      <th>mean</th>\n",
       "      <td>22.463851</td>\n",
       "      <td>9.625172</td>\n",
       "    </tr>\n",
       "    <tr>\n",
       "      <th>std</th>\n",
       "      <td>11.278992</td>\n",
       "      <td>5.187143</td>\n",
       "    </tr>\n",
       "    <tr>\n",
       "      <th>min</th>\n",
       "      <td>8.250000</td>\n",
       "      <td>2.410000</td>\n",
       "    </tr>\n",
       "    <tr>\n",
       "      <th>25%</th>\n",
       "      <td>12.597500</td>\n",
       "      <td>6.027500</td>\n",
       "    </tr>\n",
       "    <tr>\n",
       "      <th>50%</th>\n",
       "      <td>20.010000</td>\n",
       "      <td>8.230000</td>\n",
       "    </tr>\n",
       "    <tr>\n",
       "      <th>75%</th>\n",
       "      <td>29.860000</td>\n",
       "      <td>11.715000</td>\n",
       "    </tr>\n",
       "    <tr>\n",
       "      <th>max</th>\n",
       "      <td>50.730000</td>\n",
       "      <td>29.740000</td>\n",
       "    </tr>\n",
       "  </tbody>\n",
       "</table>\n",
       "</div>"
      ],
      "text/plain": [
       "       birth-rate  death-rate\n",
       "count  174.000000  174.000000\n",
       "mean    22.463851    9.625172\n",
       "std     11.278992    5.187143\n",
       "min      8.250000    2.410000\n",
       "25%     12.597500    6.027500\n",
       "50%     20.010000    8.230000\n",
       "75%     29.860000   11.715000\n",
       "max     50.730000   29.740000"
      ]
     },
     "execution_count": 22,
     "metadata": {},
     "output_type": "execute_result"
    }
   ],
   "source": [
    "#optional stage1 q5\n",
    "countries[[\"birth-rate\", \"death-rate\"]].describe()"
   ]
  },
  {
   "cell_type": "code",
   "execution_count": 23,
   "metadata": {},
   "outputs": [
    {
     "data": {
      "text/html": [
       "<div>\n",
       "<style scoped>\n",
       "    .dataframe tbody tr th:only-of-type {\n",
       "        vertical-align: middle;\n",
       "    }\n",
       "\n",
       "    .dataframe tbody tr th {\n",
       "        vertical-align: top;\n",
       "    }\n",
       "\n",
       "    .dataframe thead th {\n",
       "        text-align: right;\n",
       "    }\n",
       "</style>\n",
       "<table border=\"1\" class=\"dataframe\">\n",
       "  <thead>\n",
       "    <tr style=\"text-align: right;\">\n",
       "      <th></th>\n",
       "      <th>continent</th>\n",
       "      <th>number of countries</th>\n",
       "    </tr>\n",
       "  </thead>\n",
       "  <tbody>\n",
       "    <tr>\n",
       "      <th>0</th>\n",
       "      <td>Australia</td>\n",
       "      <td>12</td>\n",
       "    </tr>\n",
       "    <tr>\n",
       "      <th>1</th>\n",
       "      <td>South America</td>\n",
       "      <td>12</td>\n",
       "    </tr>\n",
       "    <tr>\n",
       "      <th>2</th>\n",
       "      <td>North America</td>\n",
       "      <td>24</td>\n",
       "    </tr>\n",
       "    <tr>\n",
       "      <th>3</th>\n",
       "      <td>Asia</td>\n",
       "      <td>38</td>\n",
       "    </tr>\n",
       "    <tr>\n",
       "      <th>4</th>\n",
       "      <td>Europe</td>\n",
       "      <td>41</td>\n",
       "    </tr>\n",
       "    <tr>\n",
       "      <th>5</th>\n",
       "      <td>Africa</td>\n",
       "      <td>47</td>\n",
       "    </tr>\n",
       "  </tbody>\n",
       "</table>\n",
       "</div>"
      ],
      "text/plain": [
       "       continent  number of countries\n",
       "0      Australia                   12\n",
       "1  South America                   12\n",
       "2  North America                   24\n",
       "3           Asia                   38\n",
       "4         Europe                   41\n",
       "5         Africa                   47"
      ]
     },
     "execution_count": 23,
     "metadata": {},
     "output_type": "execute_result"
    }
   ],
   "source": [
    "#q16\n",
    "import sqlite3\n",
    "conn = sqlite3.connect('countries.db')\n",
    "countries.to_sql(\"countries\", conn, if_exists=\"replace\", index=False)\n",
    "capitals.to_sql(\"capitals\", conn, if_exists=\"replace\", index=False)\n",
    "\n",
    "# remember to do conn.close() at the end of your notebook\n",
    "df = pd.read_sql(\"\"\"\n",
    "    SELECT continent, count() AS 'number of countries'\n",
    "    FROM countries \n",
    "    GROUP BY continent\n",
    "    ORDER BY count(*) ASC, continent ASC\n",
    "    \"\"\", conn)\n",
    "df"
   ]
  },
  {
   "cell_type": "code",
   "execution_count": 24,
   "metadata": {},
   "outputs": [
    {
     "data": {
      "text/plain": [
       "Text(0.5, 0, 'continent')"
      ]
     },
     "execution_count": 24,
     "metadata": {},
     "output_type": "execute_result"
    },
    {
     "data": {
      "image/png": "[encoded data removed]",
      "text/plain": [
       "<Figure size 432x288 with 1 Axes>"
      ]
     },
     "metadata": {
      "needs_background": "light"
     },
     "output_type": "display_data"
    }
   ],
   "source": [
    "#q17\n",
    "import matplotlib.pylab as plt\n",
    "    \n",
    "ax = df.set_index(\"continent\").plot.bar(color=\"black\", fontsize=16, legend = False)\n",
    "ax.set_ylabel(\"number of countries\", fontsize=16)\n",
    "ax.set_xlabel(\"continent\", fontsize=16)"
   ]
  },
  {
   "cell_type": "code",
   "execution_count": 25,
   "metadata": {},
   "outputs": [
    {
     "data": {
      "text/html": [
       "<div>\n",
       "<style scoped>\n",
       "    .dataframe tbody tr th:only-of-type {\n",
       "        vertical-align: middle;\n",
       "    }\n",
       "\n",
       "    .dataframe tbody tr th {\n",
       "        vertical-align: top;\n",
       "    }\n",
       "\n",
       "    .dataframe thead th {\n",
       "        text-align: right;\n",
       "    }\n",
       "</style>\n",
       "<table border=\"1\" class=\"dataframe\">\n",
       "  <thead>\n",
       "    <tr style=\"text-align: right;\">\n",
       "      <th></th>\n",
       "      <th>continent</th>\n",
       "      <th>total area</th>\n",
       "    </tr>\n",
       "  </thead>\n",
       "  <tbody>\n",
       "    <tr>\n",
       "      <th>0</th>\n",
       "      <td>Asia</td>\n",
       "      <td>29731231</td>\n",
       "    </tr>\n",
       "    <tr>\n",
       "      <th>1</th>\n",
       "      <td>Africa</td>\n",
       "      <td>25199550</td>\n",
       "    </tr>\n",
       "    <tr>\n",
       "      <th>2</th>\n",
       "      <td>Europe</td>\n",
       "      <td>23708430</td>\n",
       "    </tr>\n",
       "    <tr>\n",
       "      <th>3</th>\n",
       "      <td>North America</td>\n",
       "      <td>22327685</td>\n",
       "    </tr>\n",
       "    <tr>\n",
       "      <th>4</th>\n",
       "      <td>South America</td>\n",
       "      <td>17715335</td>\n",
       "    </tr>\n",
       "    <tr>\n",
       "      <th>5</th>\n",
       "      <td>Australia</td>\n",
       "      <td>8488612</td>\n",
       "    </tr>\n",
       "  </tbody>\n",
       "</table>\n",
       "</div>"
      ],
      "text/plain": [
       "       continent  total area\n",
       "0           Asia    29731231\n",
       "1         Africa    25199550\n",
       "2         Europe    23708430\n",
       "3  North America    22327685\n",
       "4  South America    17715335\n",
       "5      Australia     8488612"
      ]
     },
     "execution_count": 25,
     "metadata": {},
     "output_type": "execute_result"
    }
   ],
   "source": [
    "#q18\n",
    "q18 = pd.read_sql(\"\"\"\n",
    "    SELECT continent, sum(area) AS 'total area'\n",
    "    FROM countries \n",
    "    GROUP BY continent\n",
    "    ORDER BY sum(area) DESC, continent ASC\n",
    "    \"\"\", conn)\n",
    "q18"
   ]
  },
  {
   "cell_type": "code",
   "execution_count": 26,
   "metadata": {},
   "outputs": [
    {
     "data": {
      "text/plain": [
       "Text(0.5, 0, 'continent')"
      ]
     },
     "execution_count": 26,
     "metadata": {},
     "output_type": "execute_result"
    },
    {
     "data": {
      "image/png": "[encoded data removed]",
      "text/plain": [
       "<Figure size 432x288 with 1 Axes>"
      ]
     },
     "metadata": {
      "needs_background": "light"
     },
     "output_type": "display_data"
    }
   ],
   "source": [
    "#q19\n",
    "ax = q18.set_index(\"continent\").plot.bar(color=\"black\", fontsize=16, legend = False)\n",
    "ax.set_ylabel(\"total area\", fontsize=16)\n",
    "ax.set_xlabel(\"continent\", fontsize=16)"
   ]
  },
  {
   "cell_type": "code",
   "execution_count": 27,
   "metadata": {},
   "outputs": [
    {
     "data": {
      "text/html": [
       "<div>\n",
       "<style scoped>\n",
       "    .dataframe tbody tr th:only-of-type {\n",
       "        vertical-align: middle;\n",
       "    }\n",
       "\n",
       "    .dataframe tbody tr th {\n",
       "        vertical-align: top;\n",
       "    }\n",
       "\n",
       "    .dataframe thead th {\n",
       "        text-align: right;\n",
       "    }\n",
       "</style>\n",
       "<table border=\"1\" class=\"dataframe\">\n",
       "  <thead>\n",
       "    <tr style=\"text-align: right;\">\n",
       "      <th></th>\n",
       "      <th>country</th>\n",
       "      <th>area</th>\n",
       "    </tr>\n",
       "  </thead>\n",
       "  <tbody>\n",
       "    <tr>\n",
       "      <th>0</th>\n",
       "      <td>Brazil</td>\n",
       "      <td>8511965</td>\n",
       "    </tr>\n",
       "    <tr>\n",
       "      <th>1</th>\n",
       "      <td>Argentina</td>\n",
       "      <td>2766890</td>\n",
       "    </tr>\n",
       "    <tr>\n",
       "      <th>2</th>\n",
       "      <td>Peru</td>\n",
       "      <td>1285220</td>\n",
       "    </tr>\n",
       "    <tr>\n",
       "      <th>3</th>\n",
       "      <td>Colombia</td>\n",
       "      <td>1138910</td>\n",
       "    </tr>\n",
       "    <tr>\n",
       "      <th>4</th>\n",
       "      <td>Bolivia</td>\n",
       "      <td>1098580</td>\n",
       "    </tr>\n",
       "    <tr>\n",
       "      <th>5</th>\n",
       "      <td>Venezuela</td>\n",
       "      <td>912050</td>\n",
       "    </tr>\n",
       "    <tr>\n",
       "      <th>6</th>\n",
       "      <td>Chile</td>\n",
       "      <td>756950</td>\n",
       "    </tr>\n",
       "    <tr>\n",
       "      <th>7</th>\n",
       "      <td>Paraguay</td>\n",
       "      <td>406750</td>\n",
       "    </tr>\n",
       "    <tr>\n",
       "      <th>8</th>\n",
       "      <td>Ecuador</td>\n",
       "      <td>283560</td>\n",
       "    </tr>\n",
       "    <tr>\n",
       "      <th>9</th>\n",
       "      <td>Guyana</td>\n",
       "      <td>214970</td>\n",
       "    </tr>\n",
       "    <tr>\n",
       "      <th>10</th>\n",
       "      <td>Uruguay</td>\n",
       "      <td>176220</td>\n",
       "    </tr>\n",
       "    <tr>\n",
       "      <th>11</th>\n",
       "      <td>Suriname</td>\n",
       "      <td>163270</td>\n",
       "    </tr>\n",
       "  </tbody>\n",
       "</table>\n",
       "</div>"
      ],
      "text/plain": [
       "      country     area\n",
       "0      Brazil  8511965\n",
       "1   Argentina  2766890\n",
       "2        Peru  1285220\n",
       "3    Colombia  1138910\n",
       "4     Bolivia  1098580\n",
       "5   Venezuela   912050\n",
       "6       Chile   756950\n",
       "7    Paraguay   406750\n",
       "8     Ecuador   283560\n",
       "9      Guyana   214970\n",
       "10    Uruguay   176220\n",
       "11   Suriname   163270"
      ]
     },
     "execution_count": 27,
     "metadata": {},
     "output_type": "execute_result"
    }
   ],
   "source": [
    "#q20\n",
    "q20 = pd.read_sql(\"\"\"\n",
    "    SELECT country, area\n",
    "    FROM countries \n",
    "    WHERE continent = 'South America'\n",
    "    ORDER BY area DESC, country ASC\n",
    "    \"\"\", conn)\n",
    "q20"
   ]
  },
  {
   "cell_type": "code",
   "execution_count": 28,
   "metadata": {},
   "outputs": [
    {
     "data": {
      "text/html": [
       "<div>\n",
       "<style scoped>\n",
       "    .dataframe tbody tr th:only-of-type {\n",
       "        vertical-align: middle;\n",
       "    }\n",
       "\n",
       "    .dataframe tbody tr th {\n",
       "        vertical-align: top;\n",
       "    }\n",
       "\n",
       "    .dataframe thead th {\n",
       "        text-align: right;\n",
       "    }\n",
       "</style>\n",
       "<table border=\"1\" class=\"dataframe\">\n",
       "  <thead>\n",
       "    <tr style=\"text-align: right;\">\n",
       "      <th></th>\n",
       "      <th>country</th>\n",
       "      <th>real GDP (billion)</th>\n",
       "    </tr>\n",
       "  </thead>\n",
       "  <tbody>\n",
       "    <tr>\n",
       "      <th>0</th>\n",
       "      <td>United States</td>\n",
       "      <td>11281.191327</td>\n",
       "    </tr>\n",
       "    <tr>\n",
       "      <th>1</th>\n",
       "      <td>China</td>\n",
       "      <td>6569.868565</td>\n",
       "    </tr>\n",
       "    <tr>\n",
       "      <th>2</th>\n",
       "      <td>Japan</td>\n",
       "      <td>3594.473830</td>\n",
       "    </tr>\n",
       "    <tr>\n",
       "      <th>3</th>\n",
       "      <td>India</td>\n",
       "      <td>3176.520785</td>\n",
       "    </tr>\n",
       "    <tr>\n",
       "      <th>4</th>\n",
       "      <td>Germany</td>\n",
       "      <td>2274.855452</td>\n",
       "    </tr>\n",
       "    <tr>\n",
       "      <th>5</th>\n",
       "      <td>France</td>\n",
       "      <td>1680.181354</td>\n",
       "    </tr>\n",
       "    <tr>\n",
       "      <th>6</th>\n",
       "      <td>United Kingdom</td>\n",
       "      <td>1678.873538</td>\n",
       "    </tr>\n",
       "    <tr>\n",
       "      <th>7</th>\n",
       "      <td>Italy</td>\n",
       "      <td>1552.164690</td>\n",
       "    </tr>\n",
       "  </tbody>\n",
       "</table>\n",
       "</div>"
      ],
      "text/plain": [
       "          country  real GDP (billion)\n",
       "0   United States        11281.191327\n",
       "1           China         6569.868565\n",
       "2           Japan         3594.473830\n",
       "3           India         3176.520785\n",
       "4         Germany         2274.855452\n",
       "5          France         1680.181354\n",
       "6  United Kingdom         1678.873538\n",
       "7           Italy         1552.164690"
      ]
     },
     "execution_count": 28,
     "metadata": {},
     "output_type": "execute_result"
    }
   ],
   "source": [
    "#q21\n",
    "q21 = pd.read_sql(\"\"\"\n",
    "    SELECT country, (population * `gdp-per-capita` / 1000000000.0) AS `real GDP (billion)`\n",
    "    FROM countries \n",
    "    ORDER BY (population * `gdp-per-capita`) DESC, country ASC\n",
    "    \"\"\", conn)\n",
    "\n",
    "q21[:8]"
   ]
  },
  {
   "cell_type": "code",
   "execution_count": 29,
   "metadata": {},
   "outputs": [
    {
     "data": {
      "text/plain": [
       "Text(0.5, 0, 'country')"
      ]
     },
     "execution_count": 29,
     "metadata": {},
     "output_type": "execute_result"
    },
    {
     "data": {
      "image/png": "[encoded data removed]",
      "text/plain": [
       "<Figure size 432x288 with 1 Axes>"
      ]
     },
     "metadata": {
      "needs_background": "light"
     },
     "output_type": "display_data"
    }
   ],
   "source": [
    "#q22\n",
    "# q22 = pd.read_sql(\"\"\"\n",
    "#     SELECT 'Others' AS country, sum(population * `gdp-per-capita`)/1000000000.0  AS `readl GDP (billion)`\n",
    "#     FROM countries \n",
    "#     WHERE country NOT IN\n",
    "#         (SELECT country\n",
    "#         FROM countries \n",
    "#         ORDER BY (population * `gdp-per-capita`) DESC, country ASC\n",
    "#         LIMIT 8)\n",
    "#     \"\"\", conn)\n",
    "\n",
    "# q22 = pd.read_sql(\"\"\"\n",
    "#     SELECT 'Others' AS country, sum(population * `gdp-per-capita`)/1000000000.0  AS `readl GDP (billion)`\n",
    "#     FROM\n",
    "#         (SELECT *\n",
    "#         FROM countries \n",
    "#         ORDER BY (population * `gdp-per-capita`) ASC, country ASC\n",
    "#         LIMIT 174-8)\n",
    "#      \"\"\", conn)\n",
    "\n",
    "# ax = q21[:8].append(q22).set_index(\"country\").plot.bar(color=\"black\", fontsize=16, legend = False)\n",
    "\n",
    "b = q21[8:].sum()\n",
    "b.country = \"Others\"\n",
    "ax = q21[:8].append(b, ignore_index=True).set_index(\"country\").plot.bar(color=\"black\", fontsize=16, legend = False)\n",
    "\n",
    "ax.set_ylabel(\"real GDP (billion)\", fontsize=16)\n",
    "ax.set_xlabel(\"country\", fontsize=16)"
   ]
  },
  {
   "cell_type": "code",
   "execution_count": 30,
   "metadata": {},
   "outputs": [
    {
     "data": {
      "image/png": "[encoded data removed]",
      "text/plain": [
       "<Figure size 432x288 with 1 Axes>"
      ]
     },
     "metadata": {
      "needs_background": "light"
     },
     "output_type": "display_data"
    }
   ],
   "source": [
    "#q23\n",
    "def scatter(x, y, xlabel=\"please label me!\", ylabel=\"please label me!\"):\n",
    "    df = pd.DataFrame({\"x\":x, \"y\":y})\n",
    "    ax = df.plot.scatter(x=\"x\", y=\"y\", color=\"black\", fontsize=16)\n",
    "    ax.set_xlabel(xlabel, fontsize=16)\n",
    "    ax.set_ylabel(ylabel, fontsize=16)\n",
    "    ax.get_xaxis().get_major_formatter().set_scientific(False)\n",
    "    ax.get_yaxis().get_major_formatter().set_scientific(False)    \n",
    "    \n",
    "q23 = pd.read_sql(\"\"\"\n",
    "    SELECT `gdp-per-capita`, `net-migration`\n",
    "    FROM countries \n",
    "    \"\"\", conn)\n",
    "\n",
    "scatter(getattr(q23, \"gdp-per-capita\"), getattr(q23, \"net-migration\"), \"gdp-per-capita\", \"net-migration\")"
   ]
  },
  {
   "cell_type": "code",
   "execution_count": 31,
   "metadata": {},
   "outputs": [
    {
     "data": {
      "text/plain": [
       "0.4523211325011283"
      ]
     },
     "execution_count": 31,
     "metadata": {},
     "output_type": "execute_result"
    }
   ],
   "source": [
    "#q24\n",
    "q23.corr().iloc[0,1]"
   ]
  },
  {
   "cell_type": "code",
   "execution_count": 32,
   "metadata": {},
   "outputs": [
    {
     "data": {
      "image/png": "[encoded data removed]",
      "text/plain": [
       "<Figure size 432x288 with 1 Axes>"
      ]
     },
     "metadata": {
      "needs_background": "light"
     },
     "output_type": "display_data"
    }
   ],
   "source": [
    "#q25\n",
    "countries_df = pd.read_sql(\"\"\"\n",
    "    SELECT *\n",
    "    FROM countries \n",
    "    \"\"\", conn)\n",
    "\n",
    "scatter(getattr(countries_df, \"gdp-per-capita\"), getattr(countries_df, \"death-rate\"), \"gdp-per-capita\", \"death-rate\")"
   ]
  },
  {
   "cell_type": "code",
   "execution_count": 33,
   "metadata": {},
   "outputs": [
    {
     "data": {
      "image/png": "[encoded data removed]",
      "text/plain": [
       "<Figure size 432x288 with 1 Axes>"
      ]
     },
     "metadata": {
      "needs_background": "light"
     },
     "output_type": "display_data"
    }
   ],
   "source": [
    "#q26\n",
    "scatter(getattr(countries_df, \"gdp-per-capita\"), getattr(countries_df, \"infant-mortality\"), \"gdp-per-capita\", \"infant-mortality\")"
   ]
  },
  {
   "cell_type": "code",
   "execution_count": 34,
   "metadata": {},
   "outputs": [
    {
     "data": {
      "image/png": "[encoded data removed]",
      "text/plain": [
       "<Figure size 432x288 with 1 Axes>"
      ]
     },
     "metadata": {
      "needs_background": "light"
     },
     "output_type": "display_data"
    }
   ],
   "source": [
    "#q27\n",
    "scatter(getattr(countries_df, \"gdp-per-capita\"), 1/getattr(countries_df, \"infant-mortality\"), \"gdp-per-capita\", \"inversre infant-mortality\")"
   ]
  },
  {
   "cell_type": "code",
   "execution_count": 35,
   "metadata": {},
   "outputs": [
    {
     "data": {
      "text/plain": [
       "(6.482983154848297e-06, 0.013237849092120857)"
      ]
     },
     "execution_count": 35,
     "metadata": {},
     "output_type": "execute_result"
    },
    {
     "data": {
      "image/png": "[encoded data removed]",
      "text/plain": [
       "<Figure size 432x288 with 1 Axes>"
      ]
     },
     "metadata": {
      "needs_background": "light"
     },
     "output_type": "display_data"
    }
   ],
   "source": [
    "#q28\n",
    "import numpy as np\n",
    "\n",
    "df = pd.DataFrame({\n",
    "    \"gdp-per-capita\": getattr(countries_df, \"gdp-per-capita\"),\n",
    "    \"inversre infant-mortality\": 1/getattr(countries_df, \"infant-mortality\")\n",
    "})\n",
    "df[\"1\"] = 1\n",
    "\n",
    "res = np.linalg.lstsq(df[[\"gdp-per-capita\", \"1\"]], df[\"inversre infant-mortality\"], rcond=None)\n",
    "\n",
    "# res is a tuple: (COEFFICIENTS, VALUE, VALUE, VALUE)\n",
    "coefficients = res[0] # coefficients is (m,n:\n",
    "m = coefficients[0] # slope\n",
    "n = coefficients[1] # intercept\n",
    "ax = df.plot.scatter(x='gdp-per-capita', y='inversre infant-mortality')\n",
    "\n",
    "df[\"fit\"] = df[\"gdp-per-capita\"] * m + n\n",
    "df.plot.line(x='gdp-per-capita', y='fit', c='red', ax=ax)\n",
    "(m,n)"
   ]
  },
  {
   "cell_type": "code",
   "execution_count": 36,
   "metadata": {},
   "outputs": [
    {
     "data": {
      "text/plain": [
       "2.963955279079342"
      ]
     },
     "execution_count": 36,
     "metadata": {},
     "output_type": "execute_result"
    }
   ],
   "source": [
    "#q29\n",
    "1/(m*50000+n)"
   ]
  },
  {
   "cell_type": "code",
   "execution_count": 37,
   "metadata": {},
   "outputs": [
    {
     "data": {
      "image/png": "[encoded data removed]",
      "text/plain": [
       "<Figure size 432x288 with 1 Axes>"
      ]
     },
     "execution_count": 37,
     "metadata": {},
     "output_type": "execute_result"
    }
   ],
   "source": [
    "#q30\n",
    "ax.figure"
   ]
  },
  {
   "cell_type": "code",
   "execution_count": 38,
   "metadata": {},
   "outputs": [],
   "source": [
    "conn.close()"
   ]
  },
  {
   "cell_type": "code",
   "execution_count": null,
   "metadata": {},
   "outputs": [],
   "source": []
  }
 ],
 "metadata": {
  "kernelspec": {
   "display_name": "Python 3",
   "language": "python",
   "name": "python3"
  },
  "language_info": {
   "codemirror_mode": {
    "name": "ipython",
    "version": 3
   },
   "file_extension": ".py",
   "mimetype": "text/x-python",
   "name": "python",
   "nbconvert_exporter": "python",
   "pygments_lexer": "ipython3",
   "version": "3.7.0"
  }
 },
 "nbformat": 4,
 "nbformat_minor": 4
}
