{
 "cells": [
  {
   "cell_type": "code",
   "execution_count": 1,
   "metadata": {},
   "outputs": [],
   "source": [
    "import csv\n",
    "\n",
    "def get_mapping(path):\n",
    "    exampleFile = open(path, encoding=\"utf-8\")\n",
    "    exampleReader = csv.reader(exampleFile)\n",
    "    exampleData = dict(exampleReader)\n",
    "    exampleFile.close()\n",
    "    return exampleData"
   ]
  },
  {
   "cell_type": "code",
   "execution_count": 2,
   "metadata": {},
   "outputs": [
    {
     "data": {
      "text/plain": [
       "{'nm0000131': 'John Cusack',\n",
       " 'nm0000154': 'Mel Gibson',\n",
       " 'nm0000163': 'Dustin Hoffman',\n",
       " 'nm0000418': 'Danny Glover',\n",
       " 'nm0000432': 'Gene Hackman',\n",
       " 'nm0000997': 'Gary Busey',\n",
       " 'nm0001149': 'Richard Donner',\n",
       " 'nm0001219': 'Gary Fleder',\n",
       " 'nm0752751': 'Mitchell Ryan',\n",
       " 'tt0313542': 'Runaway Jury',\n",
       " 'tt0093409': 'Lethal Weapon'}"
      ]
     },
     "execution_count": 2,
     "metadata": {},
     "output_type": "execute_result"
    }
   ],
   "source": [
    "#q1\n",
    "mapping = get_mapping(\"small_mapping.csv\")\n",
    "mapping"
   ]
  },
  {
   "cell_type": "code",
   "execution_count": 3,
   "metadata": {},
   "outputs": [
    {
     "data": {
      "text/plain": [
       "'Gary Fleder'"
      ]
     },
     "execution_count": 3,
     "metadata": {},
     "output_type": "execute_result"
    }
   ],
   "source": [
    "#q2\n",
    "mapping[\"nm0001219\"]"
   ]
  },
  {
   "cell_type": "code",
   "execution_count": 4,
   "metadata": {},
   "outputs": [
    {
     "data": {
      "text/plain": [
       "['John Cusack',\n",
       " 'Mel Gibson',\n",
       " 'Dustin Hoffman',\n",
       " 'Danny Glover',\n",
       " 'Gene Hackman',\n",
       " 'Gary Busey',\n",
       " 'Richard Donner',\n",
       " 'Gary Fleder',\n",
       " 'Mitchell Ryan']"
      ]
     },
     "execution_count": 4,
     "metadata": {},
     "output_type": "execute_result"
    }
   ],
   "source": [
    "#q3\n",
    "ret = []\n",
    "for key, val in mapping.items():\n",
    "    if key[0:2] == \"nm\":\n",
    "        ret.append(val)\n",
    "        \n",
    "ret        "
   ]
  },
  {
   "cell_type": "code",
   "execution_count": 5,
   "metadata": {},
   "outputs": [
    {
     "data": {
      "text/plain": [
       "['nm0000154', 'nm0000418']"
      ]
     },
     "execution_count": 5,
     "metadata": {},
     "output_type": "execute_result"
    }
   ],
   "source": [
    "#q4\n",
    "ret = []\n",
    "for key, val in mapping.items():\n",
    "    loc = val.find(' ')\n",
    "    if loc != -1 and val[loc+1] == 'G':\n",
    "        ret.append(key)\n",
    "ret "
   ]
  },
  {
   "cell_type": "code",
   "execution_count": 6,
   "metadata": {},
   "outputs": [],
   "source": [
    "import csv\n",
    "\n",
    "# copied from https://automatetheboringstuff.com/chapter14/\n",
    "def process_csv(filename):\n",
    "    exampleFile = open(filename, encoding=\"utf-8\")\n",
    "    exampleReader = csv.reader(exampleFile)\n",
    "    exampleData = list(exampleReader)\n",
    "    exampleFile.close()\n",
    "    return exampleData\n",
    "\n",
    "# Convert CSV to a list of dicts\n",
    "def load_csv_to_dicts(path):\n",
    "    rows = process_csv(path)\n",
    "    header = rows[0]\n",
    "    rows = rows[1:]\n",
    "    \n",
    "    dict_list = []\n",
    "    for row in rows:\n",
    "        new_row = {}\n",
    "        for i in range(len(header)):\n",
    "            new_row[header[i]] = row[i]\n",
    "        dict_list.append(new_row)\n",
    "    return dict_list\n",
    "    \n",
    "def load_csv_to_dicts_1(path):\n",
    "    with open(path) as f:\n",
    "        a = [{k: v for k, v in row.items()}\n",
    "            for row in csv.DictReader(f, skipinitialspace=True)]\n",
    "    return a\n",
    "\n",
    "def get_raw_movies(path):\n",
    "    exampleFile = open(path, encoding=\"utf-8\")\n",
    "    exampleReader = csv.DictReader(exampleFile, skipinitialspace=True)\n",
    "    a = []\n",
    "    for row in exampleReader:\n",
    "        d = {}\n",
    "        d[\"title\"] = row[\"title\"]\n",
    "        d[\"year\"] = int(row[\"year\"])\n",
    "        d[\"rating\"] = float(row[\"rating\"])\n",
    "        d[\"directors\"] = (row[\"directors\"]).split(\",\")\n",
    "        d[\"actors\"] = (row[\"actors\"]).split(\",\")\n",
    "        d[\"genres\"] = (row[\"genres\"]).split(\",\")\n",
    "        a.append(d)\n",
    "    exampleFile.close()\n",
    "    return a"
   ]
  },
  {
   "cell_type": "code",
   "execution_count": 7,
   "metadata": {},
   "outputs": [
    {
     "data": {
      "text/plain": [
       "[{'title': 'tt0313542',\n",
       "  'year': 2003,\n",
       "  'rating': 7.1,\n",
       "  'directors': ['nm0001219'],\n",
       "  'actors': ['nm0000131', 'nm0000432', 'nm0000163'],\n",
       "  'genres': ['Crime', 'Drama', 'Thriller']},\n",
       " {'title': 'tt0093409',\n",
       "  'year': 1987,\n",
       "  'rating': 7.6,\n",
       "  'directors': ['nm0001149'],\n",
       "  'actors': ['nm0000154', 'nm0000418', 'nm0000997', 'nm0752751'],\n",
       "  'genres': ['Action', 'Crime', 'Thriller']}]"
      ]
     },
     "execution_count": 7,
     "metadata": {},
     "output_type": "execute_result"
    }
   ],
   "source": [
    "#q5\n",
    "movie = get_raw_movies(\"small_movies.csv\")\n",
    "movie"
   ]
  },
  {
   "cell_type": "code",
   "execution_count": 8,
   "metadata": {},
   "outputs": [
    {
     "data": {
      "text/plain": [
       "4"
      ]
     },
     "execution_count": 8,
     "metadata": {},
     "output_type": "execute_result"
    }
   ],
   "source": [
    "#q6\n",
    "len(movie[1][\"actors\"])"
   ]
  },
  {
   "cell_type": "code",
   "execution_count": 9,
   "metadata": {},
   "outputs": [
    {
     "data": {
      "text/plain": [
       "'nm0000131'"
      ]
     },
     "execution_count": 9,
     "metadata": {},
     "output_type": "execute_result"
    }
   ],
   "source": [
    "#q7\n",
    "movie[0][\"actors\"][0]"
   ]
  },
  {
   "cell_type": "code",
   "execution_count": 10,
   "metadata": {},
   "outputs": [],
   "source": [
    "def get_movies(movies_path, mapping_path):\n",
    "    mapping = get_mapping(mapping_path)\n",
    "    exampleFile = open(movies_path, encoding=\"utf-8\")\n",
    "    exampleReader = csv.DictReader(exampleFile, skipinitialspace=True)\n",
    "    a = []\n",
    "    for row in exampleReader:\n",
    "        d = {}\n",
    "        d[\"title\"] = mapping[row[\"title\"]]\n",
    "        d[\"year\"] = int(row[\"year\"])\n",
    "        d[\"rating\"] = float(row[\"rating\"])\n",
    "        d[\"directors\"] = [mapping[direct] for direct in (row[\"directors\"]).split(\",\")]\n",
    "        d[\"actors\"] = [mapping[actor] for actor in (row[\"actors\"]).split(\",\")] \n",
    "        # actors = (row[\"actors\"]).split(\",\")\n",
    "        # d[\"actors\"] = [mapping[actor] for actor in actors] \n",
    "        d[\"genres\"] = (row[\"genres\"]).split(\",\")\n",
    "        a.append(d)\n",
    "    exampleFile.close()\n",
    "    return a\n"
   ]
  },
  {
   "cell_type": "code",
   "execution_count": 11,
   "metadata": {},
   "outputs": [
    {
     "data": {
      "text/plain": [
       "'Lethal Weapon'"
      ]
     },
     "execution_count": 11,
     "metadata": {},
     "output_type": "execute_result"
    }
   ],
   "source": [
    "#q8\n",
    "small = get_movies(\"small_movies.csv\", \"small_mapping.csv\")\n",
    "small[1][\"title\"]"
   ]
  },
  {
   "cell_type": "code",
   "execution_count": 12,
   "metadata": {},
   "outputs": [
    {
     "data": {
      "text/plain": [
       "['John Cusack', 'Gene Hackman', 'Dustin Hoffman']"
      ]
     },
     "execution_count": 12,
     "metadata": {},
     "output_type": "execute_result"
    }
   ],
   "source": [
    "#q9\n",
    "small[0][\"actors\"]"
   ]
  },
  {
   "cell_type": "code",
   "execution_count": 13,
   "metadata": {},
   "outputs": [
    {
     "data": {
      "text/plain": [
       "['Richard Donner']"
      ]
     },
     "execution_count": 13,
     "metadata": {},
     "output_type": "execute_result"
    }
   ],
   "source": [
    "#q10\n",
    "small[-1][\"directors\"]"
   ]
  },
  {
   "cell_type": "code",
   "execution_count": 14,
   "metadata": {},
   "outputs": [
    {
     "data": {
      "text/plain": [
       "[{'title': 'Fortitude and Glory: Angelo Dundee and His Fighters',\n",
       "  'year': 2012,\n",
       "  'rating': 7.2,\n",
       "  'directors': ['Chris Tasara'],\n",
       "  'actors': ['Angelo Dundee', 'George Foreman', 'Freddie Roach'],\n",
       "  'genres': ['Sport']},\n",
       " {'title': 'Ivanhoe',\n",
       "  'year': 1952,\n",
       "  'rating': 6.8,\n",
       "  'directors': ['Richard Thorpe'],\n",
       "  'actors': ['Robert Taylor', 'George Sanders'],\n",
       "  'genres': ['Adventure', 'Drama', 'History']},\n",
       " {'title': 'The Great Gatsby',\n",
       "  'year': 1949,\n",
       "  'rating': 6.6,\n",
       "  'directors': ['Elliott Nugent'],\n",
       "  'actors': ['Alan Ladd', 'Macdonald Carey'],\n",
       "  'genres': ['Drama']}]"
      ]
     },
     "execution_count": 14,
     "metadata": {},
     "output_type": "execute_result"
    }
   ],
   "source": [
    "#q11\n",
    "movies = get_movies(\"movies.csv\", \"mapping.csv\")\n",
    "movies[-3:]\n",
    "# movies[-4:-1]"
   ]
  },
  {
   "cell_type": "code",
   "execution_count": 15,
   "metadata": {},
   "outputs": [
    {
     "data": {
      "text/plain": [
       "[{'title': 'The Big Wedding',\n",
       "  'year': 2013,\n",
       "  'rating': 5.6,\n",
       "  'directors': ['Justin Zackham'],\n",
       "  'actors': ['Robert De Niro'],\n",
       "  'genres': ['Comedy', 'Drama', 'Romance']},\n",
       " {'title': 'The Affair of the Necklace',\n",
       "  'year': 2001,\n",
       "  'rating': 6.1,\n",
       "  'directors': ['Charles Shyer'],\n",
       "  'actors': ['Simon Baker', 'Jonathan Pryce', 'Adrien Brody'],\n",
       "  'genres': ['Drama', 'History', 'Romance']}]"
      ]
     },
     "execution_count": 15,
     "metadata": {},
     "output_type": "execute_result"
    }
   ],
   "source": [
    "#q12\n",
    "movies[:2]"
   ]
  },
  {
   "cell_type": "code",
   "execution_count": 16,
   "metadata": {},
   "outputs": [
    {
     "data": {
      "text/plain": [
       "[{'title': 'Redskin',\n",
       "  'year': 1929,\n",
       "  'rating': 7.0,\n",
       "  'directors': ['Victor Schertzinger'],\n",
       "  'actors': ['Richard Dix', 'Tully Marshall', 'George Regas'],\n",
       "  'genres': ['Adventure', 'Drama', 'Western']},\n",
       " {'title': 'The Girl in the Show',\n",
       "  'year': 1929,\n",
       "  'rating': 6.5,\n",
       "  'directors': ['Edgar Selwyn'],\n",
       "  'actors': ['Raymond Hackett', 'Edward J. Nugent'],\n",
       "  'genres': ['Comedy']},\n",
       " {'title': 'Atlantic',\n",
       "  'year': 1929,\n",
       "  'rating': 5.5,\n",
       "  'directors': ['Ewald André Dupont'],\n",
       "  'actors': ['Franklin Dyall', 'John Stuart'],\n",
       "  'genres': ['Drama']}]"
      ]
     },
     "execution_count": 16,
     "metadata": {},
     "output_type": "execute_result"
    }
   ],
   "source": [
    "#q13\n",
    "# you are not allowed to change this function\n",
    "def filter_movies_by_year(movies, year):\n",
    "    i = 0\n",
    "    while i < len(movies):\n",
    "        if movies[i][\"year\"] != year:\n",
    "            movies.pop(i)\n",
    "        else:\n",
    "            i += 1\n",
    "    return movies\n",
    "\n",
    "filter_movies_by_year(movies.copy(), 1929)"
   ]
  },
  {
   "cell_type": "code",
   "execution_count": 28,
   "metadata": {},
   "outputs": [
    {
     "data": {
      "text/plain": [
       "[{'title': 'Arizona',\n",
       "  'year': 1931,\n",
       "  'rating': 6.0,\n",
       "  'directors': ['George B. Seitz'],\n",
       "  'actors': ['John Wayne', 'Forrest Stanley'],\n",
       "  'genres': ['Drama', 'Romance']},\n",
       " {'title': 'City Lights',\n",
       "  'year': 1931,\n",
       "  'rating': 8.5,\n",
       "  'directors': ['Charles Chaplin'],\n",
       "  'actors': ['Charles Chaplin', 'Harry Myers'],\n",
       "  'genres': ['Comedy', 'Drama', 'Romance']},\n",
       " {'title': 'The Range Feud',\n",
       "  'year': 1931,\n",
       "  'rating': 5.8,\n",
       "  'directors': ['D. Ross Lederman'],\n",
       "  'actors': ['Buck Jones', 'John Wayne', 'Edward LeSaint'],\n",
       "  'genres': ['Mystery', 'Western']}]"
      ]
     },
     "execution_count": 28,
     "metadata": {},
     "output_type": "execute_result"
    }
   ],
   "source": [
    "#q14\n",
    "filter_movies_by_year(movies.copy(), 1931)"
   ]
  },
  {
   "cell_type": "code",
   "execution_count": 49,
   "metadata": {},
   "outputs": [
    {
     "data": {
      "text/plain": [
       "2605"
      ]
     },
     "execution_count": 49,
     "metadata": {},
     "output_type": "execute_result"
    }
   ],
   "source": [
    "#q15\n",
    "unique_name = []\n",
    "for row in movies:\n",
    "    for actor in row[\"actors\"]:\n",
    "        if actor not in unique_name:\n",
    "            unique_name.append(actor)\n",
    "len(unique_name)"
   ]
  },
  {
   "cell_type": "code",
   "execution_count": 53,
   "metadata": {},
   "outputs": [
    {
     "data": {
      "text/plain": [
       "18"
      ]
     },
     "execution_count": 53,
     "metadata": {},
     "output_type": "execute_result"
    }
   ],
   "source": [
    "#q16\n",
    "unique_genre = []\n",
    "for row in movies:\n",
    "    for genre in row[\"genres\"]:\n",
    "        if genre not in unique_genre:\n",
    "            unique_genre.append(genre)\n",
    "len(unique_genre)"
   ]
  },
  {
   "cell_type": "code",
   "execution_count": 39,
   "metadata": {},
   "outputs": [
    {
     "data": {
      "text/plain": [
       "'Zorba the Greek'"
      ]
     },
     "execution_count": 39,
     "metadata": {},
     "output_type": "execute_result"
    }
   ],
   "source": [
    "#q17\n",
    "smallest = \" \"\n",
    "for row in movies:\n",
    "    smallest= row[\"title\"] if row[\"title\"] > smallest else smallest\n",
    "smallest"
   ]
  },
  {
   "cell_type": "code",
   "execution_count": 40,
   "metadata": {},
   "outputs": [
    {
     "data": {
      "text/plain": [
       "6.401659528907912"
      ]
     },
     "execution_count": 40,
     "metadata": {},
     "output_type": "execute_result"
    }
   ],
   "source": [
    "#q18\n",
    "rates = 0\n",
    "for row in movies:\n",
    "    rates += row[\"rating\"]\n",
    "rates/len(movies)"
   ]
  },
  {
   "cell_type": "code",
   "execution_count": 42,
   "metadata": {},
   "outputs": [
    {
     "data": {
      "text/plain": [
       "'The Godfather'"
      ]
     },
     "execution_count": 42,
     "metadata": {},
     "output_type": "execute_result"
    }
   ],
   "source": [
    "#q19\n",
    "highest_rate_movie = \" \"\n",
    "highest_rate = 0\n",
    "for row in movies:\n",
    "    if row[\"rating\"] > highest_rate:\n",
    "        highest_rate = row[\"rating\"]\n",
    "        highest_rate_movie = row[\"title\"]\n",
    "highest_rate_movie"
   ]
  },
  {
   "cell_type": "code",
   "execution_count": 45,
   "metadata": {},
   "outputs": [
    {
     "data": {
      "text/plain": [
       "'Shoulder Arms'"
      ]
     },
     "execution_count": 45,
     "metadata": {},
     "output_type": "execute_result"
    }
   ],
   "source": [
    "#q20\n",
    "highest_year_movie = \" \"\n",
    "highest_year = 2500\n",
    "for row in movies:\n",
    "    if row[\"year\"] < highest_year:\n",
    "        highest_year = row[\"year\"]\n",
    "        highest_year_movie = row[\"title\"]\n",
    "highest_year_movie"
   ]
  },
  {
   "cell_type": "markdown",
   "metadata": {},
   "source": [
    "# part B"
   ]
  },
  {
   "cell_type": "code",
   "execution_count": 69,
   "metadata": {},
   "outputs": [],
   "source": [
    "def bucketize(movie_list, movie_key):\n",
    "    buck = {}\n",
    "    for row in movie_list:\n",
    "        keys = row[movie_key]\n",
    "        if isinstance(keys, list):\n",
    "            for key in row[movie_key]:\n",
    "                if key in buck:\n",
    "                    buck[key].append(row)\n",
    "                else:\n",
    "                    buck[key] = [row]\n",
    "        else:\n",
    "            if keys in buck:\n",
    "                buck[keys].append(row)\n",
    "            else:\n",
    "                buck[keys] = [row]\n",
    "    return buck        "
   ]
  },
  {
   "cell_type": "code",
   "execution_count": 70,
   "metadata": {},
   "outputs": [
    {
     "data": {
      "text/plain": [
       "{'short': [{'title': 'A', 'year': 2018, 'style': 'short', 'genres': ['g1']},\n",
       "  {'title': 'C', 'year': 2019, 'style': 'short', 'genres': ['g3']}],\n",
       " 'long': [{'title': 'B', 'year': 2018, 'style': 'long', 'genres': ['g2']},\n",
       "  {'title': 'D', 'year': 2019, 'style': 'long', 'genres': ['g1', 'g2', 'g3']}]}"
      ]
     },
     "execution_count": 70,
     "metadata": {},
     "output_type": "execute_result"
    }
   ],
   "source": [
    "#q21\n",
    "test_movies = [\n",
    "{\"title\": \"A\", \"year\": 2018, \"style\": \"short\", \"genres\": [\"g1\"]},\n",
    "{\"title\": \"B\", \"year\": 2018, \"style\": \"long\",  \"genres\": [\"g2\"]},\n",
    "{\"title\": \"C\", \"year\": 2019, \"style\": \"short\", \"genres\": [\"g3\"]},\n",
    "{\"title\": \"D\", \"year\": 2019, \"style\": \"long\", \"genres\": [\"g1\", \"g2\", \"g3\"]},\n",
    "]\n",
    "bucketize(test_movies, \"style\")"
   ]
  },
  {
   "cell_type": "code",
   "execution_count": 71,
   "metadata": {},
   "outputs": [
    {
     "data": {
      "text/plain": [
       "{2018: [{'title': 'A', 'year': 2018, 'style': 'short', 'genres': ['g1']},\n",
       "  {'title': 'B', 'year': 2018, 'style': 'long', 'genres': ['g2']}],\n",
       " 2019: [{'title': 'C', 'year': 2019, 'style': 'short', 'genres': ['g3']},\n",
       "  {'title': 'D', 'year': 2019, 'style': 'long', 'genres': ['g1', 'g2', 'g3']}]}"
      ]
     },
     "execution_count": 71,
     "metadata": {},
     "output_type": "execute_result"
    }
   ],
   "source": [
    "#q22\n",
    "bucketize(test_movies, \"year\")"
   ]
  },
  {
   "cell_type": "code",
   "execution_count": 73,
   "metadata": {},
   "outputs": [
    {
     "data": {
      "text/plain": [
       "{'g1': [{'title': 'A', 'year': 2018, 'style': 'short', 'genres': ['g1']},\n",
       "  {'title': 'D', 'year': 2019, 'style': 'long', 'genres': ['g1', 'g2', 'g3']}],\n",
       " 'g2': [{'title': 'B', 'year': 2018, 'style': 'long', 'genres': ['g2']},\n",
       "  {'title': 'D', 'year': 2019, 'style': 'long', 'genres': ['g1', 'g2', 'g3']}],\n",
       " 'g3': [{'title': 'C', 'year': 2019, 'style': 'short', 'genres': ['g3']},\n",
       "  {'title': 'D', 'year': 2019, 'style': 'long', 'genres': ['g1', 'g2', 'g3']}]}"
      ]
     },
     "execution_count": 73,
     "metadata": {},
     "output_type": "execute_result"
    }
   ],
   "source": [
    "#q23\n",
    "bucketize(test_movies, \"genres\")"
   ]
  },
  {
   "cell_type": "code",
   "execution_count": 74,
   "metadata": {},
   "outputs": [
    {
     "data": {
      "text/plain": [
       "{'Crime': [{'title': 'Runaway Jury',\n",
       "   'year': 2003,\n",
       "   'rating': 7.1,\n",
       "   'directors': ['Gary Fleder'],\n",
       "   'actors': ['John Cusack', 'Gene Hackman', 'Dustin Hoffman'],\n",
       "   'genres': ['Crime', 'Drama', 'Thriller']},\n",
       "  {'title': 'Lethal Weapon',\n",
       "   'year': 1987,\n",
       "   'rating': 7.6,\n",
       "   'directors': ['Richard Donner'],\n",
       "   'actors': ['Mel Gibson', 'Danny Glover', 'Gary Busey', 'Mitchell Ryan'],\n",
       "   'genres': ['Action', 'Crime', 'Thriller']}],\n",
       " 'Drama': [{'title': 'Runaway Jury',\n",
       "   'year': 2003,\n",
       "   'rating': 7.1,\n",
       "   'directors': ['Gary Fleder'],\n",
       "   'actors': ['John Cusack', 'Gene Hackman', 'Dustin Hoffman'],\n",
       "   'genres': ['Crime', 'Drama', 'Thriller']}],\n",
       " 'Thriller': [{'title': 'Runaway Jury',\n",
       "   'year': 2003,\n",
       "   'rating': 7.1,\n",
       "   'directors': ['Gary Fleder'],\n",
       "   'actors': ['John Cusack', 'Gene Hackman', 'Dustin Hoffman'],\n",
       "   'genres': ['Crime', 'Drama', 'Thriller']},\n",
       "  {'title': 'Lethal Weapon',\n",
       "   'year': 1987,\n",
       "   'rating': 7.6,\n",
       "   'directors': ['Richard Donner'],\n",
       "   'actors': ['Mel Gibson', 'Danny Glover', 'Gary Busey', 'Mitchell Ryan'],\n",
       "   'genres': ['Action', 'Crime', 'Thriller']}],\n",
       " 'Action': [{'title': 'Lethal Weapon',\n",
       "   'year': 1987,\n",
       "   'rating': 7.6,\n",
       "   'directors': ['Richard Donner'],\n",
       "   'actors': ['Mel Gibson', 'Danny Glover', 'Gary Busey', 'Mitchell Ryan'],\n",
       "   'genres': ['Action', 'Crime', 'Thriller']}]}"
      ]
     },
     "execution_count": 74,
     "metadata": {},
     "output_type": "execute_result"
    }
   ],
   "source": [
    "#q24\n",
    "bucketize(small, \"genres\")"
   ]
  },
  {
   "cell_type": "code",
   "execution_count": 75,
   "metadata": {},
   "outputs": [
    {
     "data": {
      "text/plain": [
       "2"
      ]
     },
     "execution_count": 75,
     "metadata": {},
     "output_type": "execute_result"
    }
   ],
   "source": [
    "#q25\n",
    "len(bucketize(small, \"directors\"))"
   ]
  },
  {
   "cell_type": "code",
   "execution_count": 76,
   "metadata": {},
   "outputs": [
    {
     "data": {
      "text/plain": [
       "1247"
      ]
     },
     "execution_count": 76,
     "metadata": {},
     "output_type": "execute_result"
    }
   ],
   "source": [
    "#q26\n",
    "len(bucketize(movies, \"directors\"))"
   ]
  },
  {
   "cell_type": "code",
   "execution_count": 96,
   "metadata": {},
   "outputs": [
    {
     "data": {
      "text/plain": [
       "{'Comedy': 485,\n",
       " 'Drama': 1094,\n",
       " 'Romance': 352,\n",
       " 'History': 73,\n",
       " 'Family': 85,\n",
       " 'Mystery': 121,\n",
       " 'Thriller': 250,\n",
       " 'Action': 299,\n",
       " 'Crime': 357,\n",
       " 'Adventure': 283,\n",
       " 'Western': 226,\n",
       " 'Music': 38,\n",
       " 'Animation': 45,\n",
       " 'Sport': 48,\n",
       " 'Fantasy': 59,\n",
       " 'War': 99,\n",
       " 'Sci-Fi': 69,\n",
       " 'Horror': 85}"
      ]
     },
     "execution_count": 96,
     "metadata": {},
     "output_type": "execute_result"
    }
   ],
   "source": [
    "#q27\n",
    "buck_genres = bucketize(movies, \"genres\")\n",
    "movies_genre = {genres: len(buck_genres[genres]) for genres in buck_genres}\n",
    "movies_genre"
   ]
  },
  {
   "cell_type": "code",
   "execution_count": 97,
   "metadata": {},
   "outputs": [
    {
     "data": {
      "image/png": "[encoded data removed]",
      "text/plain": [
       "<Figure size 432x288 with 1 Axes>"
      ]
     },
     "metadata": {
      "needs_background": "light"
     },
     "output_type": "display_data"
    }
   ],
   "source": [
    "#q28\n",
    "import matplotlib, pandas\n",
    "\n",
    "def plot_dict(d, label=\"Please Label Me!!!\"):\n",
    "    ax = pandas.Series(d).sort_index().plot.bar(color=\"black\", fontsize=16)\n",
    "    ax.set_ylabel(label, fontsize=16)\n",
    "    \n",
    "plot_dict(movies_genre)    "
   ]
  },
  {
   "cell_type": "code",
   "execution_count": 123,
   "metadata": {},
   "outputs": [
    {
     "data": {
      "image/png": "[encoded data removed]",
      "text/plain": [
       "<Figure size 432x288 with 1 Axes>"
      ]
     },
     "metadata": {
      "needs_background": "light"
     },
     "output_type": "display_data"
    }
   ],
   "source": [
    "#q29\n",
    "def filter_before_year(movies, year):\n",
    "    return [row for row in movies if row[\"year\"] < year]\n",
    "\n",
    "def filter_after_year(movies, year):\n",
    "    return [row for row in movies if row[\"year\"] >= year]\n",
    "\n",
    "def filter_year(movies, year_1, year_2):\n",
    "    year_1 = 0 if year_1 is None else year_1\n",
    "    year_2 = 5000 if year_2 is None else year_2\n",
    "    return [row for row in movies if year_1 <= row[\"year\"] <= year_2]\n",
    "\n",
    "def bucket_counts(movies, key):\n",
    "    buck_keys = bucketize(movies, key)\n",
    "    return {keys: len(buck_keys[keys]) for keys in buck_keys}\n",
    "\n",
    "plot_dict(bucket_counts(filter_before_year(movies, 1970), \"genres\"), \"Movie Count\")"
   ]
  },
  {
   "cell_type": "code",
   "execution_count": 124,
   "metadata": {},
   "outputs": [
    {
     "data": {
      "image/png": "[encoded data removed]",
      "text/plain": [
       "<Figure size 432x288 with 1 Axes>"
      ]
     },
     "metadata": {
      "needs_background": "light"
     },
     "output_type": "display_data"
    }
   ],
   "source": [
    "#q30\n",
    "plot_dict(bucket_counts(filter_after_year(movies, 1990), \"genres\"), \"Movie Count\")"
   ]
  },
  {
   "cell_type": "code",
   "execution_count": 129,
   "metadata": {},
   "outputs": [
    {
     "data": {
      "image/png": "[encoded data removed]",
      "text/plain": [
       "<Figure size 432x288 with 1 Axes>"
      ]
     },
     "metadata": {
      "needs_background": "light"
     },
     "output_type": "display_data"
    }
   ],
   "source": [
    "#q31\n",
    "plot_dict(bucket_counts(filter_year(movies, 2006, None), \"year\"), \"Movie Count\")"
   ]
  },
  {
   "cell_type": "code",
   "execution_count": 164,
   "metadata": {},
   "outputs": [
    {
     "data": {
      "text/plain": [
       "{'Robert De Niro': 49,\n",
       " 'Kurt Russell': 50,\n",
       " 'John Wayne': 46,\n",
       " 'Mickey Rooney': 75,\n",
       " 'Robert Mitchum': 51,\n",
       " 'Henry Fonda': 46,\n",
       " 'Glenn Ford': 52,\n",
       " 'Jeff Bridges': 48,\n",
       " 'James Caan': 52,\n",
       " 'Anthony Quinn': 61,\n",
       " 'Marlon Brando': 49,\n",
       " 'Tony Curtis': 45,\n",
       " 'Ernest Borgnine': 47,\n",
       " 'Rod Steiger': 45,\n",
       " 'George Burns': 60,\n",
       " 'Bruce Dern': 45,\n",
       " 'Dean Stockwell': 53}"
      ]
     },
     "execution_count": 164,
     "metadata": {},
     "output_type": "execute_result"
    }
   ],
   "source": [
    "#q32\n",
    "def dict_span(movies, key, year):\n",
    "    buck_keys = bucketize(movies, key)\n",
    "    span_dict = {}\n",
    "    ret = {}\n",
    "    for k, v in buck_keys.items():\n",
    "        span_dict[k] = [5000, 0]\n",
    "        for i in range(len(v)):\n",
    "            x = v[i][\"year\"]\n",
    "            span_dict[k] = [min(x,span_dict[k][0]), max(x,span_dict[k][1])]\n",
    "        # span\n",
    "        span_dict[k] = span_dict[k][1] - span_dict[k][0]\n",
    "        if span_dict[k] >= year:\n",
    "            ret[k] = span_dict[k]\n",
    "    return ret    \n",
    "\n",
    "dict_span(movies, \"actors\", 45)"
   ]
  },
  {
   "cell_type": "code",
   "execution_count": 166,
   "metadata": {},
   "outputs": [
    {
     "data": {
      "text/plain": [
       "{'Howard Hawks': 42,\n",
       " 'Charles Chaplin': 34,\n",
       " 'J. Lee Thompson': 28,\n",
       " 'Henry Hathaway': 36,\n",
       " 'John Ford': 25,\n",
       " 'Stanley Kubrick': 46,\n",
       " 'Taylor Hackford': 32,\n",
       " 'Cecil B. DeMille': 30,\n",
       " 'Lee H. Katzin': 30,\n",
       " 'John Sturges': 25,\n",
       " 'Richard Fleischer': 32,\n",
       " 'Don Siegel': 27,\n",
       " 'Sidney Lumet': 33,\n",
       " 'George Sherman': 33,\n",
       " 'John Huston': 30,\n",
       " 'Burt Kennedy': 25,\n",
       " 'William A. Graham': 25,\n",
       " 'Richard Thorpe': 29,\n",
       " 'Robert Siodmak': 30,\n",
       " 'Eldar Ryazanov': 31,\n",
       " 'Martin Ritt': 32}"
      ]
     },
     "execution_count": 166,
     "metadata": {},
     "output_type": "execute_result"
    }
   ],
   "source": [
    "#q33\n",
    "dict_span(movies, \"directors\", 25)"
   ]
  },
  {
   "cell_type": "code",
   "execution_count": 171,
   "metadata": {},
   "outputs": [
    {
     "data": {
      "text/plain": [
       "[{'name': 'Mickey Rooney', 'span': 75},\n",
       " {'name': 'Anthony Quinn', 'span': 61},\n",
       " {'name': 'George Burns', 'span': 60},\n",
       " {'name': 'Dean Stockwell', 'span': 53},\n",
       " {'name': 'Glenn Ford', 'span': 52},\n",
       " {'name': 'James Caan', 'span': 52},\n",
       " {'name': 'Robert Mitchum', 'span': 51},\n",
       " {'name': 'Kurt Russell', 'span': 50},\n",
       " {'name': 'Robert De Niro', 'span': 49},\n",
       " {'name': 'Marlon Brando', 'span': 49}]"
      ]
     },
     "execution_count": 171,
     "metadata": {},
     "output_type": "execute_result"
    }
   ],
   "source": [
    "#q34\n",
    "def row_ranking(row):\n",
    "    return row[\"span\"]\n",
    "\n",
    "def top_key_span(movies, key, slice):\n",
    "    buck_keys = bucketize(movies, key)\n",
    "    span_dict = {}\n",
    "    ret = []\n",
    "    for k, v in buck_keys.items():\n",
    "        span_dict[k] = [5000, 0]\n",
    "        for i in range(len(v)):\n",
    "            x = v[i][\"year\"]\n",
    "            span_dict[k] = [min(x,span_dict[k][0]), max(x,span_dict[k][1])]\n",
    "        # span\n",
    "        span_dict[k] = span_dict[k][1] - span_dict[k][0]\n",
    "        ret.append({\"name\":k,\"span\":span_dict[k]})\n",
    "    ret.sort(key=row_ranking,reverse=True)\n",
    "    return ret[:slice]\n",
    "\n",
    "top_key_span(movies,\"actors\",10)"
   ]
  },
  {
   "cell_type": "code",
   "execution_count": 176,
   "metadata": {},
   "outputs": [
    {
     "data": {
      "text/plain": [
       "[{'name': 'Stanley Kubrick', 'span': 46},\n",
       " {'name': 'Howard Hawks', 'span': 42},\n",
       " {'name': 'Henry Hathaway', 'span': 36},\n",
       " {'name': 'Charles Chaplin', 'span': 34},\n",
       " {'name': 'Sidney Lumet', 'span': 33},\n",
       " {'name': 'George Sherman', 'span': 33},\n",
       " {'name': 'Taylor Hackford', 'span': 32},\n",
       " {'name': 'Richard Fleischer', 'span': 32},\n",
       " {'name': 'Martin Ritt', 'span': 32},\n",
       " {'name': 'Eldar Ryazanov', 'span': 31},\n",
       " {'name': 'Cecil B. DeMille', 'span': 30},\n",
       " {'name': 'Lee H. Katzin', 'span': 30},\n",
       " {'name': 'John Huston', 'span': 30},\n",
       " {'name': 'Robert Siodmak', 'span': 30},\n",
       " {'name': 'Richard Thorpe', 'span': 29},\n",
       " {'name': 'J. Lee Thompson', 'span': 28},\n",
       " {'name': 'Don Siegel', 'span': 27},\n",
       " {'name': 'John Ford', 'span': 25},\n",
       " {'name': 'John Sturges', 'span': 25},\n",
       " {'name': 'Burt Kennedy', 'span': 25},\n",
       " {'name': 'William A. Graham', 'span': 25}]"
      ]
     },
     "execution_count": 176,
     "metadata": {},
     "output_type": "execute_result"
    }
   ],
   "source": [
    "#q35\n",
    "top_key_span(movies,\"directors\",21)"
   ]
  },
  {
   "cell_type": "code",
   "execution_count": 201,
   "metadata": {},
   "outputs": [
    {
     "data": {
      "text/plain": [
       "[{'name': 'Heath Ledger', 'rating': 9.0, 'count': 1},\n",
       " {'name': 'John Fiedler', 'rating': 8.9, 'count': 1},\n",
       " {'name': 'Aldo Giuffrè', 'rating': 8.9, 'count': 1},\n",
       " {'name': 'Steven Williams', 'rating': 8.8, 'count': 1},\n",
       " {'name': 'Daniel Roebuck', 'rating': 8.8, 'count': 1},\n",
       " {'name': 'Joseph Gordon-Levitt', 'rating': 8.8, 'count': 1},\n",
       " {'name': 'Miyu Irino', 'rating': 8.6, 'count': 1},\n",
       " {'name': 'Andrew Kevin Walker', 'rating': 8.6, 'count': 1},\n",
       " {'name': 'Ken Watanabe', 'rating': 8.55, 'count': 2}]"
      ]
     },
     "execution_count": 201,
     "metadata": {},
     "output_type": "execute_result"
    }
   ],
   "source": [
    "#q36\n",
    "import statistics\n",
    "def row_best(row):\n",
    "    return row[\"rating\"]\n",
    "\n",
    "def best_n_key(movies, key, slice):\n",
    "    buck_keys = bucketize(movies, key)\n",
    "    ret = []\n",
    "    for k, v in buck_keys.items():\n",
    "        rate_dict = []\n",
    "        for i in range(len(v)):\n",
    "            rate_dict.append(v[i][\"rating\"])\n",
    "        ret.append({\"name\":k,\"rating\":statistics.median(rate_dict),\"count\":len(rate_dict)})\n",
    "    ret.sort(key=row_best,reverse=True)\n",
    "    return ret[:slice]\n",
    "\n",
    "best_n_key(movies, \"actors\", 9)"
   ]
  },
  {
   "cell_type": "code",
   "execution_count": 202,
   "metadata": {},
   "outputs": [
    {
     "data": {
      "text/plain": [
       "[{'name': 'James Marlowe', 'rating': 8.8, 'count': 1},\n",
       " {'name': 'Kirk Wise', 'rating': 8.6, 'count': 1},\n",
       " {'name': 'David Fincher', 'rating': 8.6, 'count': 1},\n",
       " {'name': 'Christopher Nolan', 'rating': 8.5, 'count': 9},\n",
       " {'name': 'Leonid Gayday', 'rating': 8.4, 'count': 5},\n",
       " {'name': 'Adrian Molina', 'rating': 8.4, 'count': 1},\n",
       " {'name': 'Stanley Kubrick', 'rating': 8.3, 'count': 11},\n",
       " {'name': 'Sergio Leone', 'rating': 8.3, 'count': 7},\n",
       " {'name': 'Satyajit Ray', 'rating': 8.2, 'count': 9},\n",
       " {'name': 'Moustapha Akkad', 'rating': 8.2, 'count': 1},\n",
       " {'name': 'Andrew Grieve', 'rating': 8.2, 'count': 6},\n",
       " {'name': 'Danny Boyle', 'rating': 8.2, 'count': 1}]"
      ]
     },
     "execution_count": 202,
     "metadata": {},
     "output_type": "execute_result"
    }
   ],
   "source": [
    "#q37\n",
    "best_n_key(movies, \"directors\", 12)"
   ]
  },
  {
   "cell_type": "code",
   "execution_count": 203,
   "metadata": {},
   "outputs": [
    {
     "data": {
      "text/plain": [
       "[{'name': 'Henry Bergman', 'rating': 8.2, 'count': 5},\n",
       " {'name': 'Ioan Gruffudd', 'rating': 8.2, 'count': 6},\n",
       " {'name': 'Robert Lindsay', 'rating': 8.2, 'count': 6},\n",
       " {'name': 'Charles Chaplin', 'rating': 8.149999999999999, 'count': 10},\n",
       " {'name': 'Bradley Cooper', 'rating': 7.3, 'count': 5},\n",
       " {'name': 'Joe Pesci', 'rating': 7.2, 'count': 7},\n",
       " {'name': 'Robin Williams', 'rating': 7.2, 'count': 5},\n",
       " {'name': 'Kirk Douglas', 'rating': 7.15, 'count': 12},\n",
       " {'name': 'Ward Bond', 'rating': 7.1, 'count': 10},\n",
       " {'name': 'Gregory Peck', 'rating': 7.1, 'count': 5},\n",
       " {'name': 'Tom Hanks', 'rating': 7.1, 'count': 6},\n",
       " {'name': 'Al Pacino', 'rating': 7.050000000000001, 'count': 8},\n",
       " {'name': 'Ben Johnson', 'rating': 7.050000000000001, 'count': 6},\n",
       " {'name': 'Charles Coburn', 'rating': 7.0, 'count': 9}]"
      ]
     },
     "execution_count": 203,
     "metadata": {},
     "output_type": "execute_result"
    }
   ],
   "source": [
    "#q38\n",
    "def best_n_key_constr(movies, key, slice, constr):\n",
    "    buck_keys = bucketize(movies, key)\n",
    "    ret = []\n",
    "    for k, v in buck_keys.items():\n",
    "        rate_dict = []\n",
    "        for i in range(len(v)):\n",
    "            rate_dict.append(v[i][\"rating\"])\n",
    "        if len(rate_dict) >= constr:\n",
    "            ret.append({\"name\":k,\"rating\":statistics.median(rate_dict),\"count\":len(rate_dict)})\n",
    "    ret.sort(key=row_best,reverse=True)\n",
    "    return ret[:slice]\n",
    "best_n_key_constr(movies, \"actors\", 14, 5)"
   ]
  },
  {
   "cell_type": "code",
   "execution_count": 204,
   "metadata": {},
   "outputs": [
    {
     "data": {
      "text/plain": [
       "[{'name': 'Henry Fonda', 'rating': 6.9, 'count': 77},\n",
       " {'name': 'Mickey Rooney', 'rating': 6.7, 'count': 82},\n",
       " {'name': 'Anthony Quinn', 'rating': 6.7, 'count': 79},\n",
       " {'name': 'Brian Donlevy', 'rating': 6.7, 'count': 47},\n",
       " {'name': 'Robert Mitchum', 'rating': 6.65, 'count': 74},\n",
       " {'name': 'Glenn Ford', 'rating': 6.6, 'count': 74},\n",
       " {'name': 'George Sanders', 'rating': 6.6, 'count': 74},\n",
       " {'name': 'Robert De Niro', 'rating': 6.55, 'count': 74},\n",
       " {'name': 'Randolph Scott', 'rating': 6.5, 'count': 76},\n",
       " {'name': 'Jeff Bridges', 'rating': 6.5, 'count': 59},\n",
       " {'name': 'Ned Beatty', 'rating': 6.45, 'count': 50},\n",
       " {'name': 'Kurt Russell', 'rating': 6.4, 'count': 46},\n",
       " {'name': 'John Wayne', 'rating': 6.4, 'count': 130},\n",
       " {'name': 'John Cusack', 'rating': 6.4, 'count': 52},\n",
       " {'name': 'Danny Glover', 'rating': 6.4, 'count': 51},\n",
       " {'name': 'Dennis Quaid', 'rating': 6.35, 'count': 60}]"
      ]
     },
     "execution_count": 204,
     "metadata": {},
     "output_type": "execute_result"
    }
   ],
   "source": [
    "#q39\n",
    "best_n_key_constr(movies, \"actors\", 16, 30)"
   ]
  },
  {
   "cell_type": "code",
   "execution_count": 205,
   "metadata": {},
   "outputs": [
    {
     "data": {
      "text/plain": [
       "[{'name': 'Christopher Nolan', 'rating': 8.5, 'count': 9},\n",
       " {'name': 'Stanley Kubrick', 'rating': 8.3, 'count': 11},\n",
       " {'name': 'Satyajit Ray', 'rating': 8.2, 'count': 9},\n",
       " {'name': 'Charles Chaplin', 'rating': 8.1, 'count': 11},\n",
       " {'name': 'Hayao Miyazaki', 'rating': 8.1, 'count': 9},\n",
       " {'name': 'Martin Scorsese', 'rating': 8.0, 'count': 8},\n",
       " {'name': 'John Ford', 'rating': 7.3, 'count': 21},\n",
       " {'name': 'Fritz Lang', 'rating': 7.2, 'count': 9}]"
      ]
     },
     "execution_count": 205,
     "metadata": {},
     "output_type": "execute_result"
    }
   ],
   "source": [
    "#q40\n",
    "best_n_key_constr(movies, \"directors\", 8, 8)"
   ]
  },
  {
   "cell_type": "code",
   "execution_count": null,
   "metadata": {},
   "outputs": [],
   "source": []
  }
 ],
 "metadata": {
  "kernelspec": {
   "display_name": "Python 3",
   "language": "python",
   "name": "python3"
  },
  "language_info": {
   "codemirror_mode": {
    "name": "ipython",
    "version": 3
   },
   "file_extension": ".py",
   "mimetype": "text/x-python",
   "name": "python",
   "nbconvert_exporter": "python",
   "pygments_lexer": "ipython3",
   "version": "3.7.0"
  }
 },
 "nbformat": 4,
 "nbformat_minor": 4
}
