{
 "cells": [
  {
   "cell_type": "code",
   "execution_count": 13,
   "metadata": {},
   "outputs": [
    {
     "name": "stdout",
     "output_type": "stream",
     "text": [
      "hello\n",
      "hello world\n"
     ]
    }
   ],
   "source": [
    "x = \"hello\"\n",
    "y = x\n",
    "y += \" world\"\n",
    "print(x)\n",
    "print(y)"
   ]
  },
  {
   "cell_type": "code",
   "execution_count": 14,
   "metadata": {},
   "outputs": [
    {
     "name": "stdout",
     "output_type": "stream",
     "text": [
      "{'hello': 1, 'world': 2}\n",
      "{'hello': 1, 'world': 2}\n"
     ]
    }
   ],
   "source": [
    "x = {\"hello\": 1}\n",
    "y = x\n",
    "y[\"world\"] = 2\n",
    "print(x)\n",
    "print(y)"
   ]
  },
  {
   "cell_type": "code",
   "execution_count": 15,
   "metadata": {},
   "outputs": [
    {
     "name": "stdout",
     "output_type": "stream",
     "text": [
      "Winner age: 31\n"
     ]
    }
   ],
   "source": [
    "from recordclass import recordclass\n",
    "Person = recordclass(\"Person\", [\"name\", \"score\", \"age\"])\n",
    "alice = Person(name=\"Alice\", score=10, age=30)\n",
    "bob = Person(name=\"Bob\", score=8, age=25)\n",
    "winner = alice\n",
    "alice.age += 1\n",
    "print(\"Winner age:\", winner.age)"
   ]
  },
  {
   "cell_type": "code",
   "execution_count": 19,
   "metadata": {},
   "outputs": [
    {
     "name": "stdout",
     "output_type": "stream",
     "text": [
      "[2, 3]\n",
      "[2, 3]\n"
     ]
    }
   ],
   "source": [
    "w = [1]\n",
    "x = [2]\n",
    "y = [2]\n",
    "z = y\n",
    "y.append(3)\n",
    "print(z)\n",
    "print(y)"
   ]
  },
  {
   "cell_type": "code",
   "execution_count": 24,
   "metadata": {},
   "outputs": [
    {
     "name": "stdout",
     "output_type": "stream",
     "text": [
      "[[1, 2], [2, 4], [3, 6]]\n",
      "[[1, 2], [2, 4]]\n",
      "[[1, 2, 3], [2, 4]]\n",
      "[[1, 2, 3], [2, 4]]\n"
     ]
    }
   ],
   "source": [
    "a = [[1, 2], [2, 4]]\n",
    "b = a[:] ## shallow copy\n",
    "b.append([3, 6])\n",
    "print(b)\n",
    "print(a)\n",
    "a = [[1, 2], [2, 4]]\n",
    "b = a[:] ## shallow copy\n",
    "b[0].append(3)\n",
    "print(b)\n",
    "print(a)"
   ]
  }
 ],
 "metadata": {
  "kernelspec": {
   "display_name": "Python 3",
   "language": "python",
   "name": "python3"
  },
  "language_info": {
   "codemirror_mode": {
    "name": "ipython",
    "version": 3
   },
   "file_extension": ".py",
   "mimetype": "text/x-python",
   "name": "python",
   "nbconvert_exporter": "python",
   "pygments_lexer": "ipython3",
   "version": "3.7.0"
  }
 },
 "nbformat": 4,
 "nbformat_minor": 4
}
